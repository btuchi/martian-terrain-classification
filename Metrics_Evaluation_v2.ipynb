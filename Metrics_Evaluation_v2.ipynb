{
  "nbformat": 4,
  "nbformat_minor": 0,
  "metadata": {
    "colab": {
      "provenance": []
    },
    "kernelspec": {
      "name": "python3",
      "display_name": "Python 3"
    },
    "language_info": {
      "name": "python"
    }
  },
  "cells": [
    {
      "cell_type": "code",
      "execution_count": 14,
      "metadata": {
        "colab": {
          "base_uri": "https://localhost:8080/"
        },
        "id": "K_ZfRS1I5Mmn",
        "outputId": "0d044cd0-c590-4d4f-e6d6-34c471476e4e"
      },
      "outputs": [
        {
          "output_type": "stream",
          "name": "stdout",
          "text": [
            "Requirement already satisfied: scikit-image in /usr/local/lib/python3.10/dist-packages (0.24.0)\n",
            "Requirement already satisfied: numpy>=1.23 in /usr/local/lib/python3.10/dist-packages (from scikit-image) (1.26.4)\n",
            "Requirement already satisfied: scipy>=1.9 in /usr/local/lib/python3.10/dist-packages (from scikit-image) (1.13.1)\n",
            "Requirement already satisfied: networkx>=2.8 in /usr/local/lib/python3.10/dist-packages (from scikit-image) (3.4.2)\n",
            "Requirement already satisfied: pillow>=9.1 in /usr/local/lib/python3.10/dist-packages (from scikit-image) (11.0.0)\n",
            "Requirement already satisfied: imageio>=2.33 in /usr/local/lib/python3.10/dist-packages (from scikit-image) (2.36.0)\n",
            "Requirement already satisfied: tifffile>=2022.8.12 in /usr/local/lib/python3.10/dist-packages (from scikit-image) (2024.9.20)\n",
            "Requirement already satisfied: packaging>=21 in /usr/local/lib/python3.10/dist-packages (from scikit-image) (24.2)\n",
            "Requirement already satisfied: lazy-loader>=0.4 in /usr/local/lib/python3.10/dist-packages (from scikit-image) (0.4)\n",
            "Requirement already satisfied: image-quality in /usr/local/lib/python3.10/dist-packages (1.2.7)\n",
            "Requirement already satisfied: Pillow>=5.2.0 in /usr/local/lib/python3.10/dist-packages (from image-quality) (11.0.0)\n",
            "Requirement already satisfied: numpy>=1.16.4 in /usr/local/lib/python3.10/dist-packages (from image-quality) (1.26.4)\n",
            "Requirement already satisfied: scipy>=1.3.0 in /usr/local/lib/python3.10/dist-packages (from image-quality) (1.13.1)\n",
            "Requirement already satisfied: scikit-image>=0.15.0 in /usr/local/lib/python3.10/dist-packages (from image-quality) (0.24.0)\n",
            "Requirement already satisfied: libsvm>=3.23.0 in /usr/local/lib/python3.10/dist-packages (from image-quality) (3.23.0.4)\n",
            "Requirement already satisfied: networkx>=2.8 in /usr/local/lib/python3.10/dist-packages (from scikit-image>=0.15.0->image-quality) (3.4.2)\n",
            "Requirement already satisfied: imageio>=2.33 in /usr/local/lib/python3.10/dist-packages (from scikit-image>=0.15.0->image-quality) (2.36.0)\n",
            "Requirement already satisfied: tifffile>=2022.8.12 in /usr/local/lib/python3.10/dist-packages (from scikit-image>=0.15.0->image-quality) (2024.9.20)\n",
            "Requirement already satisfied: packaging>=21 in /usr/local/lib/python3.10/dist-packages (from scikit-image>=0.15.0->image-quality) (24.2)\n",
            "Requirement already satisfied: lazy-loader>=0.4 in /usr/local/lib/python3.10/dist-packages (from scikit-image>=0.15.0->image-quality) (0.4)\n",
            "Requirement already satisfied: mahotas in /usr/local/lib/python3.10/dist-packages (1.4.18)\n",
            "Requirement already satisfied: numpy in /usr/local/lib/python3.10/dist-packages (from mahotas) (1.26.4)\n",
            "Requirement already satisfied: lpips in /usr/local/lib/python3.10/dist-packages (0.1.4)\n",
            "Requirement already satisfied: torch>=0.4.0 in /usr/local/lib/python3.10/dist-packages (from lpips) (2.5.1+cu121)\n",
            "Requirement already satisfied: torchvision>=0.2.1 in /usr/local/lib/python3.10/dist-packages (from lpips) (0.20.1+cu121)\n",
            "Requirement already satisfied: numpy>=1.14.3 in /usr/local/lib/python3.10/dist-packages (from lpips) (1.26.4)\n",
            "Requirement already satisfied: scipy>=1.0.1 in /usr/local/lib/python3.10/dist-packages (from lpips) (1.13.1)\n",
            "Requirement already satisfied: tqdm>=4.28.1 in /usr/local/lib/python3.10/dist-packages (from lpips) (4.66.6)\n",
            "Requirement already satisfied: filelock in /usr/local/lib/python3.10/dist-packages (from torch>=0.4.0->lpips) (3.16.1)\n",
            "Requirement already satisfied: typing-extensions>=4.8.0 in /usr/local/lib/python3.10/dist-packages (from torch>=0.4.0->lpips) (4.12.2)\n",
            "Requirement already satisfied: networkx in /usr/local/lib/python3.10/dist-packages (from torch>=0.4.0->lpips) (3.4.2)\n",
            "Requirement already satisfied: jinja2 in /usr/local/lib/python3.10/dist-packages (from torch>=0.4.0->lpips) (3.1.4)\n",
            "Requirement already satisfied: fsspec in /usr/local/lib/python3.10/dist-packages (from torch>=0.4.0->lpips) (2024.10.0)\n",
            "Requirement already satisfied: sympy==1.13.1 in /usr/local/lib/python3.10/dist-packages (from torch>=0.4.0->lpips) (1.13.1)\n",
            "Requirement already satisfied: mpmath<1.4,>=1.1.0 in /usr/local/lib/python3.10/dist-packages (from sympy==1.13.1->torch>=0.4.0->lpips) (1.3.0)\n",
            "Requirement already satisfied: pillow!=8.3.*,>=5.3.0 in /usr/local/lib/python3.10/dist-packages (from torchvision>=0.2.1->lpips) (11.0.0)\n",
            "Requirement already satisfied: MarkupSafe>=2.0 in /usr/local/lib/python3.10/dist-packages (from jinja2->torch>=0.4.0->lpips) (3.0.2)\n",
            "Requirement already satisfied: pytorch-msssim in /usr/local/lib/python3.10/dist-packages (1.0.0)\n",
            "Requirement already satisfied: torch in /usr/local/lib/python3.10/dist-packages (from pytorch-msssim) (2.5.1+cu121)\n",
            "Requirement already satisfied: filelock in /usr/local/lib/python3.10/dist-packages (from torch->pytorch-msssim) (3.16.1)\n",
            "Requirement already satisfied: typing-extensions>=4.8.0 in /usr/local/lib/python3.10/dist-packages (from torch->pytorch-msssim) (4.12.2)\n",
            "Requirement already satisfied: networkx in /usr/local/lib/python3.10/dist-packages (from torch->pytorch-msssim) (3.4.2)\n",
            "Requirement already satisfied: jinja2 in /usr/local/lib/python3.10/dist-packages (from torch->pytorch-msssim) (3.1.4)\n",
            "Requirement already satisfied: fsspec in /usr/local/lib/python3.10/dist-packages (from torch->pytorch-msssim) (2024.10.0)\n",
            "Requirement already satisfied: sympy==1.13.1 in /usr/local/lib/python3.10/dist-packages (from torch->pytorch-msssim) (1.13.1)\n",
            "Requirement already satisfied: mpmath<1.4,>=1.1.0 in /usr/local/lib/python3.10/dist-packages (from sympy==1.13.1->torch->pytorch-msssim) (1.3.0)\n",
            "Requirement already satisfied: MarkupSafe>=2.0 in /usr/local/lib/python3.10/dist-packages (from jinja2->torch->pytorch-msssim) (3.0.2)\n"
          ]
        }
      ],
      "source": [
        "!pip install scikit-image\n",
        "!pip install image-quality\n",
        "!pip install mahotas\n",
        "!pip install lpips\n",
        "!pip install pytorch-msssim"
      ]
    },
    {
      "cell_type": "code",
      "source": [
        "# SSIM\n",
        "from skimage.metrics import structural_similarity as ssim\n",
        "import cv2\n",
        "\n",
        "# GMSD\n",
        "import imquality.brisque as brisque\n",
        "import numpy as np\n",
        "import pandas as pd\n",
        "import mahotas\n",
        "\n",
        "# LPIPS\n",
        "import torch\n",
        "import lpips\n",
        "from PIL import Image\n",
        "lpips_model = lpips.LPIPS(net='alex')  # can also use 'vgg' or 'squeeze'\n",
        "\n",
        "# TFS\n",
        "from scipy.stats import pearsonr\n",
        "\n",
        "# MS-SSIM\n",
        "from torchvision import transforms\n",
        "from pytorch_msssim import ms_ssim\n",
        "\n",
        "from google.colab.patches import cv2_imshow"
      ],
      "metadata": {
        "colab": {
          "base_uri": "https://localhost:8080/"
        },
        "id": "rEUfUz0T5m6g",
        "outputId": "5eee646b-e50f-4481-d3ea-a892384607da"
      },
      "execution_count": 15,
      "outputs": [
        {
          "output_type": "stream",
          "name": "stdout",
          "text": [
            "Setting up [LPIPS] perceptual loss: trunk [alex], v[0.1], spatial [off]\n",
            "Loading model from: /usr/local/lib/python3.10/dist-packages/lpips/weights/v0.1/alex.pth\n"
          ]
        }
      ]
    },
    {
      "cell_type": "code",
      "source": [
        "######################################################\n",
        "######### LOW LEVEL METRICS ##########################\n",
        "######################################################\n",
        "\n",
        "# SSIM (Structural Similarity Index Measure)\n",
        "def calculate_ssim(img1, img2):\n",
        "    \"\"\"\n",
        "    [0, 1]\n",
        "    0: identical\n",
        "    1: completely different\n",
        "    \"\"\"\n",
        "    # Compute SSIM\n",
        "    score, _ = ssim(img1, img2, full=True)\n",
        "    return score\n",
        "\n",
        "# GMSD (Gradient Magnitude Similarity Deviation)\n",
        "def calculate_gmsd(img1, img2):\n",
        "    \"\"\"\n",
        "    [0, ∞)\n",
        "    0: identical\n",
        "    ∞: completely different\n",
        "    \"\"\"\n",
        "    # Calculate gradients\n",
        "    g1 = cv2.Laplacian(img1, cv2.CV_64F)\n",
        "    g2 = cv2.Laplacian(img2, cv2.CV_64F)\n",
        "    # Calculate the GMSD\n",
        "    gmsd_value = np.std(g1 - g2)\n",
        "    return gmsd_value\n",
        "\n",
        "# NLPD (Normalized Laplacian Pyramid Distance)\n",
        "def calculate_nlpd(img1, img2):\n",
        "    \"\"\"\n",
        "    [0, ∞)\n",
        "    0: identical\n",
        "    ∞: completely different\n",
        "    \"\"\"\n",
        "    # Downsample and compute Laplacian pyramids\n",
        "    laplacian_pyramid_img1 = cv2.pyrDown(cv2.Laplacian(img1, cv2.CV_64F))\n",
        "    laplacian_pyramid_img2 = cv2.pyrDown(cv2.Laplacian(img2, cv2.CV_64F))\n",
        "\n",
        "    # Calculate normalized distance\n",
        "    nlpd_value = np.mean(np.abs(laplacian_pyramid_img1 - laplacian_pyramid_img2))\n",
        "    return nlpd_value"
      ],
      "metadata": {
        "id": "H4XYJheM5vHV"
      },
      "execution_count": 16,
      "outputs": []
    },
    {
      "cell_type": "code",
      "source": [
        "######################################################\n",
        "######### HIGH LEVEL METRICS ##########################\n",
        "######################################################\n",
        "\n",
        "\n",
        "# Learned Perceptual Image Patch Similarity (LPIPS)\n",
        "def calculate_lpips(img1, img2):\n",
        "    \"\"\"\n",
        "    [0, 1]\n",
        "    0 indicates perfect similarity\n",
        "    1 indicates maximum difference\n",
        "    \"\"\"\n",
        "    # If img1 and img2 are numpy arrays, convert them to PIL images\n",
        "    if isinstance(img1, np.ndarray):\n",
        "        img1 = Image.fromarray(cv2.cvtColor(img1, cv2.COLOR_BGR2RGB))\n",
        "    if isinstance(img2, np.ndarray):\n",
        "        img2 = Image.fromarray(cv2.cvtColor(img2, cv2.COLOR_BGR2RGB))\n",
        "\n",
        "    # Resize images to the same size if they differ\n",
        "    if img1.size != img2.size:\n",
        "        img2 = img2.resize(img1.size, Image.BILINEAR)\n",
        "\n",
        "    # Convert images to tensors and normalize to LPIPS input format\n",
        "    img1_tensor = lpips.im2tensor(np.array(img1))  # Convert image to normalized tensor\n",
        "    img2_tensor = lpips.im2tensor(np.array(img2))\n",
        "\n",
        "    # Calculate LPIPS distance\n",
        "    lpips_distance = lpips_model(img1_tensor, img2_tensor)\n",
        "\n",
        "    return lpips_distance.item()\n",
        "\n",
        "\n",
        "# Texture Frequency Spectrum (Fourier Transform-based)\n",
        "# TODO Suspicious results ??????\n",
        "def texture_frequency_similarity(img1, img2):\n",
        "    \"\"\"\n",
        "    [-1,1]\n",
        "    -1: perfectly inversely related\n",
        "    0: no correlation\n",
        "    1: identical\n",
        "    \"\"\"\n",
        "    def calculate_fourier_magnitude(image):\n",
        "        # Compute Fourier Transform\n",
        "        f_transform = np.fft.fft2(image)\n",
        "        # Shift the zero-frequency component to the center of the spectrum\n",
        "        f_transform_shifted = np.fft.fftshift(f_transform)\n",
        "        # Compute the magnitude spectrum\n",
        "        magnitude_spectrum = np.abs(f_transform_shifted)\n",
        "        return magnitude_spectrum\n",
        "\n",
        "    # Calculate the Fourier magnitude spectra of both images\n",
        "    mag_spectrum1 = calculate_fourier_magnitude(img1)\n",
        "    mag_spectrum2 = calculate_fourier_magnitude(img2)\n",
        "\n",
        "    # Flatten the spectra to 1D for comparison\n",
        "    mag_spectrum1_flat = mag_spectrum1.flatten()\n",
        "    mag_spectrum2_flat = mag_spectrum2.flatten()\n",
        "\n",
        "    # Calculate similarity using Pearson correlation coefficient\n",
        "    # (Values closer to 1 indicate higher similarity)\n",
        "    similarity, _ = pearsonr(mag_spectrum1_flat, mag_spectrum2_flat)\n",
        "    return similarity\n",
        "\n",
        "# Earth Mover's Distance (EMD)\n",
        "def calculate_emd(img1, img2):\n",
        "    \"\"\"\n",
        "    [0, ∞)\n",
        "    0 indicates perfect similarity\n",
        "    Higher values indicate greater dissimilarity\n",
        "    \"\"\"\n",
        "    def calculate_grayscale_histogram(image, bins=256):\n",
        "        \"\"\"\n",
        "        Calculates and normalizes the grayscale histogram for an image.\n",
        "        \"\"\"\n",
        "        # Calculate histogram\n",
        "        hist = cv2.calcHist([image], [0], None, [bins], [0, 256])\n",
        "        # Flatten the histogram and normalize it to have a sum of 1\n",
        "        hist = cv2.normalize(hist, hist).flatten()\n",
        "        return hist\n",
        "\n",
        "    def calculate(hist1, hist2):\n",
        "        \"\"\"\n",
        "        Calculates Earth Mover's Distance (EMD) between two histograms.\n",
        "        The histograms are converted to a suitable format for OpenCV's EMD function.\n",
        "        \"\"\"\n",
        "        # Reshape histograms to single-column for EMD compatibility\n",
        "        signature1 = np.array([[h, float(i)] for i, h in enumerate(hist1)], dtype=np.float32)\n",
        "        signature2 = np.array([[h, float(i)] for i, h in enumerate(hist2)], dtype=np.float32)\n",
        "\n",
        "        # Calculate EMD\n",
        "        emd_value, _, _ = cv2.EMD(signature1, signature2, cv2.DIST_L2)\n",
        "        return emd_value\n",
        "\n",
        "    hist1 = calculate_grayscale_histogram(img1)\n",
        "    hist2 = calculate_grayscale_histogram(img2)\n",
        "    emd_value = calculate(hist1, hist2)\n",
        "    return emd_value"
      ],
      "metadata": {
        "id": "xZDcpgSq5zxs"
      },
      "execution_count": 17,
      "outputs": []
    },
    {
      "cell_type": "code",
      "source": [
        "from google.colab import drive\n",
        "drive.mount('/content/drive')"
      ],
      "metadata": {
        "colab": {
          "base_uri": "https://localhost:8080/"
        },
        "id": "keGCz5Qn_YbZ",
        "outputId": "b310fbc3-3899-4d47-feb7-cbad739b69f6"
      },
      "execution_count": 18,
      "outputs": [
        {
          "output_type": "stream",
          "name": "stdout",
          "text": [
            "Drive already mounted at /content/drive; to attempt to forcibly remount, call drive.mount(\"/content/drive\", force_remount=True).\n"
          ]
        }
      ]
    },
    {
      "cell_type": "code",
      "source": [
        "###### IMAGE PREPROCESSING #######\n",
        "\n",
        "# Convert image to grayscale only if it has more than one channel\n",
        "def convert_grayscale(img):\n",
        "    if len(img.shape) == 3:  # Check if the image has multiple channels\n",
        "        gray_image = cv2.cvtColor(img, cv2.COLOR_BGR2GRAY)\n",
        "    else:\n",
        "        gray_image = img  # Already grayscale\n",
        "    return gray_image\n",
        "\n",
        "# Preprocess images for comparison\n",
        "def preprocess_image(img1, img2):\n",
        "    # Convert to grayscale\n",
        "    gray_img1 = convert_grayscale(img1)\n",
        "    gray_img2 = convert_grayscale(img2)\n",
        "\n",
        "    # Ensure both images have the same dimensions\n",
        "    if gray_img1.shape != gray_img2.shape:\n",
        "        min_height = min(gray_img1.shape[0], gray_img2.shape[0])\n",
        "        min_width = min(gray_img1.shape[1], gray_img2.shape[1])\n",
        "\n",
        "        # Crop both images from the center to ensure they match\n",
        "        def crop_center(img, height, width):\n",
        "            start_y = (img.shape[0] - height) // 2\n",
        "            start_x = (img.shape[1] - width) // 2\n",
        "            return img[start_y:start_y + height, start_x:start_x + width]\n",
        "\n",
        "        gray_img1 = crop_center(gray_img1, min_height, min_width)\n",
        "        gray_img2 = crop_center(gray_img2, min_height, min_width)\n",
        "\n",
        "    return gray_img1, gray_img2"
      ],
      "metadata": {
        "id": "YefjS5rR-_qb"
      },
      "execution_count": 19,
      "outputs": []
    },
    {
      "cell_type": "code",
      "source": [
        "#####################################\n",
        "###### PLOT METRIC DISTRIBUTION #####\n",
        "#####################################"
      ],
      "metadata": {
        "id": "d-khJpu5_V9l"
      },
      "execution_count": null,
      "outputs": []
    },
    {
      "cell_type": "code",
      "source": [
        "####### LOAD REAL & SYNTHETIC IMAGES ########\n",
        "\n",
        "import os\n",
        "\n",
        "# Path to the main folder (update this to your folder path in Google Drive)\n",
        "synthetic_image_folder = \"/content/drive/My Drive/mars_images/test_images\"\n",
        "real_image_folder = \"/content/drive/My Drive/mars_images/real_images\"\n",
        "\n",
        "\n",
        "def load_images_from_folder(image_folder):\n",
        "\n",
        "  # Dictionary to store images by class\n",
        "  images_by_class = {}\n",
        "\n",
        "  # Iterate through the subfolders\n",
        "  for class_folder in os.listdir(image_folder):\n",
        "      class_path = os.path.join(image_folder, class_folder)\n",
        "      if os.path.isdir(class_path):  # Ensure it's a folder\n",
        "          images_by_class[class_folder] = []\n",
        "          for image_file in os.listdir(class_path):\n",
        "              if image_file.lower().endswith((\".jpg\", \".png\", \".jpeg\", \".bmp\")):  # Check for image files\n",
        "                  images_by_class[class_folder].append(os.path.join(class_path, image_file))\n",
        "  return images_by_class\n",
        "\n",
        "synth_images_by_class = load_images_from_folder(synthetic_image_folder)\n",
        "real_images_by_class = load_images_from_folder(real_image_folder)\n",
        "\n",
        "# Print summary of images by class\n",
        "for class_name, image_list in synth_images_by_class.items():\n",
        "    print(f\"Synthetic Class: {class_name}, Number of Images: {len(image_list)}\")\n",
        "    # print(f\"Sample Images: {image_list[:3]}\")  # Show a few sample images for verification\n",
        "\n",
        "for class_name, image_list in real_images_by_class.items():\n",
        "    print(f\"Real Class: {class_name}, Number of Images: {len(image_list)}\")\n",
        "    # print(f\"Sample Images: {image_list[:3]}\")  # Show a few sample images for verification"
      ],
      "metadata": {
        "colab": {
          "base_uri": "https://localhost:8080/"
        },
        "id": "5Nf_32Ap_Wlo",
        "outputId": "d3ab6fa5-04c2-4f21-edbb-50481812dcd4"
      },
      "execution_count": 20,
      "outputs": [
        {
          "output_type": "stream",
          "name": "stdout",
          "text": [
            "Synthetic Class: cliffs, Number of Images: 54\n",
            "Synthetic Class: craters, Number of Images: 161\n",
            "Synthetic Class: subsurface_cave, Number of Images: 78\n",
            "Synthetic Class: lava_tubes, Number of Images: 23\n",
            "Synthetic Class: volcanic_plains_lava_flows, Number of Images: 76\n",
            "Synthetic Class: layer_sediments, Number of Images: 82\n",
            "Synthetic Class: rock_fields, Number of Images: 120\n",
            "Synthetic Class: sand_dunes, Number of Images: 48\n",
            "Synthetic Class: ridges, Number of Images: 115\n",
            "Real Class: cliffs, Number of Images: 5\n",
            "Real Class: craters, Number of Images: 5\n",
            "Real Class: layer_sediments, Number of Images: 5\n",
            "Real Class: ridges, Number of Images: 5\n",
            "Real Class: rock_fields, Number of Images: 5\n",
            "Real Class: sand_dunes, Number of Images: 5\n",
            "Real Class: subsurface_cave, Number of Images: 5\n",
            "Real Class: volcanic_plains_lava_flows, Number of Images: 5\n"
          ]
        }
      ]
    },
    {
      "cell_type": "code",
      "source": [
        "import itertools\n",
        "import numpy as np\n",
        "import matplotlib.pyplot as plt\n",
        "from tqdm import tqdm\n",
        "import cv2  # Ensure OpenCV is imported\n",
        "\n",
        "def synthetic_images_diversity_plots(image_list, metric_functions, class_name):\n",
        "    \"\"\"\n",
        "    Perform pairwise analysis for a list of images using specified metric functions and save plots.\n",
        "\n",
        "    Parameters:\n",
        "    - image_list: List of file paths to images.\n",
        "    - metric_functions: List of metric functions. Each function should take two images as input\n",
        "                        and return a similarity score.\n",
        "    - class_name: Name of the class (e.g., 'cliffs') used for naming the output file.\n",
        "\n",
        "    Returns:\n",
        "    - None (Saves the distribution plots of each metric in a single image file).\n",
        "    \"\"\"\n",
        "    # Dictionary to store results for each metric\n",
        "    metric_results = {metric_func.__name__: [] for metric_func in metric_functions}\n",
        "\n",
        "    # Pairwise comparisons\n",
        "    for img1, img2 in tqdm(itertools.combinations(image_list, 2), desc=\"Pairwise Comparisons\"):\n",
        "\n",
        "        # Load the images\n",
        "        image1 = cv2.imread(img1, cv2.IMREAD_GRAYSCALE)  # Load as grayscale\n",
        "        image2 = cv2.imread(img2, cv2.IMREAD_GRAYSCALE)\n",
        "\n",
        "        # Preprocess\n",
        "        image1, image2 = preprocess_image(image1, image2)\n",
        "\n",
        "        # Calculate each metric\n",
        "        for metric_func in metric_functions:\n",
        "            try:\n",
        "                score = metric_func(image1, image2)\n",
        "                metric_results[metric_func.__name__].append(score)\n",
        "            except Exception as e:\n",
        "                print(f\"Error calculating {metric_func.__name__} for a pair: {e}\")\n",
        "                continue\n",
        "\n",
        "    # Save plots into a single file\n",
        "    num_metrics = len(metric_results)\n",
        "    fig, axes = plt.subplots(num_metrics, 1, figsize=(10, 6 * num_metrics))\n",
        "\n",
        "    for i, (metric_name, scores) in enumerate(metric_results.items()):\n",
        "        ax = axes[i] if num_metrics > 1 else axes  # Handle single plot case\n",
        "        ax.hist(scores, bins=30, alpha=0.7, color='blue', density=True)\n",
        "        ax.set_title(f\"Distribution of {metric_name}\")\n",
        "        ax.set_xlabel(f\"{metric_name} Score\")\n",
        "        ax.set_ylabel(\"Density\")\n",
        "        ax.grid(True)\n",
        "\n",
        "    # Save the figure\n",
        "    output_filename = f\"{class_name}_synth_diversity.png\"\n",
        "    plt.tight_layout()\n",
        "    plt.savefig(output_filename)\n",
        "    print(f\"Plots saved to {output_filename}\")\n",
        "    plt.close(fig)\n",
        "\n",
        "    return metric_results"
      ],
      "metadata": {
        "id": "u7ocCWmMBG1I"
      },
      "execution_count": 21,
      "outputs": []
    },
    {
      "cell_type": "code",
      "source": [
        "import numpy as np\n",
        "import matplotlib.pyplot as plt\n",
        "from tqdm import tqdm\n",
        "import cv2\n",
        "import os\n",
        "\n",
        "def metric_sensitivity(real_images, synthetic_image_paths, metric_functions, synth_class_name, real_class_name, drive_path):\n",
        "    \"\"\"\n",
        "    Compare synthetic images from one class to real images of another class using specified metrics over multiple rounds.\n",
        "\n",
        "    Parameters:\n",
        "    - real_images: List of file paths to real images for each round.\n",
        "    - synthetic_image_paths: List of file paths to synthetic images.\n",
        "    - metric_functions: List of metric functions. Each function should take two images as input\n",
        "                        and return a similarity score.\n",
        "    - synth_class_name: Name of the synthetic images' class (e.g., 'cliffs').\n",
        "    - real_class_name: Name of the real images' class (e.g., 'ridges') used for naming the output file.\n",
        "    - drive_path: Path to the Google Drive folder where the output image will be saved.\n",
        "\n",
        "    Returns:\n",
        "    - None (Saves the combined plots as a single image).\n",
        "    \"\"\"\n",
        "    num_rounds = len(real_images)\n",
        "    num_metrics = len(metric_functions)\n",
        "\n",
        "    # Initialize results container\n",
        "    results = []\n",
        "\n",
        "    for round_idx, real_image_path in enumerate(real_images, start=1):\n",
        "        print(f\"Processing Round {round_idx}/{num_rounds} comparing synthetic {synth_class_name} to real {real_class_name}...\")\n",
        "        # Load the real image\n",
        "        real_image = cv2.imread(real_image_path, cv2.IMREAD_COLOR)\n",
        "\n",
        "        # Ensure the real image is loaded\n",
        "        if real_image is None:\n",
        "            print(f\"Error: Could not load real image at path: {real_image_path}\")\n",
        "            continue\n",
        "\n",
        "        # Dictionary to store results for the current round\n",
        "        round_results = {metric_func.__name__: [] for metric_func in metric_functions}\n",
        "\n",
        "        # Compare the real image with each synthetic image\n",
        "        for synthetic_image_path in tqdm(synthetic_image_paths, desc=f\"Round {round_idx}\"):\n",
        "            # Load synthetic image\n",
        "            synthetic_image = cv2.imread(synthetic_image_path, cv2.IMREAD_COLOR)\n",
        "\n",
        "            # Ensure the synthetic image is loaded\n",
        "            if synthetic_image is None:\n",
        "                print(f\"Error: Could not load synthetic image at path: {synthetic_image_path}\")\n",
        "                continue\n",
        "\n",
        "            # Preprocess images\n",
        "            real_preprocessed, synthetic_preprocessed = preprocess_image(real_image, synthetic_image)\n",
        "\n",
        "            # Calculate metrics\n",
        "            for metric_func in metric_functions:\n",
        "                try:\n",
        "                    score = metric_func(real_preprocessed, synthetic_preprocessed)\n",
        "                    round_results[metric_func.__name__].append(score)\n",
        "                except Exception as e:\n",
        "                    print(f\"Error calculating {metric_func.__name__}: {e}\")\n",
        "\n",
        "        results.append(round_results)\n",
        "\n",
        "    # Create a combined plot\n",
        "    fig, axes = plt.subplots(num_rounds, num_metrics, figsize=(5 * num_metrics, 4 * num_rounds))\n",
        "    fig.suptitle(f\"Metric Sensitivity Analysis: {synth_class_name} vs {real_class_name}\", fontsize=16)\n",
        "\n",
        "    for round_idx, round_results in enumerate(results):\n",
        "        for metric_idx, (metric_name, scores) in enumerate(round_results.items()):\n",
        "            if num_rounds > 1 and num_metrics > 1:\n",
        "                ax = axes[round_idx, metric_idx]\n",
        "            elif num_rounds > 1:\n",
        "                ax = axes[round_idx]\n",
        "            elif num_metrics > 1:\n",
        "                ax = axes[metric_idx]\n",
        "            else:\n",
        "                ax = axes\n",
        "\n",
        "            ax.hist(scores, bins=30, alpha=0.7, color='pink', density=True)\n",
        "            ax.set_title(f\"{metric_name} (Round {round_idx + 1})\")\n",
        "            ax.set_xlabel(\"Score\")\n",
        "            ax.set_ylabel(\"Density\")\n",
        "            ax.grid(True)\n",
        "\n",
        "    # Save the combined plot to Google Drive\n",
        "    os.makedirs(drive_path, exist_ok=True)  # Ensure the directory exists\n",
        "    output_filename = os.path.join(drive_path, f\"synth_{synth_class_name}_vs_real_{real_class_name}_metric_sensitivity.png\")\n",
        "    plt.tight_layout(rect=[0, 0, 1, 0.96])  # Leave space for the title\n",
        "    plt.savefig(output_filename)\n",
        "    print(f\"Combined plots saved to {output_filename}\")\n",
        "    plt.close(fig)"
      ],
      "metadata": {
        "id": "w0EVx9UnCLs1"
      },
      "execution_count": 22,
      "outputs": []
    },
    {
      "cell_type": "code",
      "source": [
        "classes = ['cliffs', 'ridges', 'layer_sediments', 'rock_fields', 'craters', 'volcanic_plains_lava_flows', 'sand_dunes', 'subsurface_cave']\n",
        "\n",
        "# selected metrics per class to evaluate on\n",
        "cliffs_metrics = [calculate_ssim, calculate_gmsd, calculate_nlpd, calculate_lpips]\n",
        "ridges_metrics = [calculate_ssim, calculate_gmsd, calculate_nlpd, calculate_lpips, texture_frequency_similarity]\n",
        "layer_metrics = [calculate_ssim, calculate_gmsd, calculate_nlpd, calculate_lpips, calculate_emd]\n",
        "rock_metrics = [calculate_ssim, calculate_gmsd, calculate_nlpd, calculate_lpips, calculate_emd]\n",
        "craters_metrics = [calculate_ssim, calculate_gmsd, calculate_nlpd, calculate_lpips, calculate_emd]\n",
        "lava_flow_metrics = [calculate_ssim, calculate_gmsd, calculate_nlpd, calculate_lpips, calculate_emd]\n",
        "sand_dunes_metrics = [calculate_ssim, calculate_gmsd, calculate_nlpd, calculate_lpips, calculate_emd]\n",
        "subsurface_cavities_metrics = [calculate_ssim, calculate_gmsd, calculate_nlpd, calculate_lpips]\n",
        "\n",
        "metrics_by_class = {\n",
        "    'cliffs': cliffs_metrics,\n",
        "    'ridges': ridges_metrics,\n",
        "    'layer_sediments': layer_metrics,\n",
        "    'rock_fields': rock_metrics,\n",
        "    'craters': craters_metrics,\n",
        "    'volcanic_plains_lava_flows': lava_flow_metrics,\n",
        "    'sand_dunes': sand_dunes_metrics,\n",
        "    'subsurface_cave': subsurface_cavities_metrics\n",
        "}"
      ],
      "metadata": {
        "id": "ttakhJMRjWOJ"
      },
      "execution_count": 23,
      "outputs": []
    },
    {
      "cell_type": "code",
      "source": [
        "###############################################\n",
        "###### SYNTHETIC DATA DIVERSITY ANALYSIS ######\n",
        "##############################################\n",
        "\n",
        "# synthetic image diversity (DONE)\n",
        "cliffs_results = synthetic_images_diversity_plots(synth_images_by_class['cliffs'], cliffs_metrics, 'cliffs')\n",
        "ridges_results = synthetic_images_diversity_plots(synth_images_by_class['ridges'], ridges_metrics, 'ridges')\n",
        "layer_results = synthetic_images_diversity_plots(synth_images_by_class['layer_sediments'], layer_metrics, 'layer_sediments')\n",
        "rock_results = synthetic_images_diversity_plots(synth_images_by_class['rock_fields'], rock_metrics, 'rock_fields')\n",
        "craters_results = synthetic_images_diversity_plots(synth_images_by_class['craters'], craters_metrics, 'craters')\n",
        "lava_flow_results = synthetic_images_diversity_plots(synth_images_by_class['volcanic_plains_lava_flows'], lava_flow_metrics, 'volcanic_plains_lava_flows')"
      ],
      "metadata": {
        "id": "AS4FhiCakZok"
      },
      "execution_count": null,
      "outputs": []
    },
    {
      "cell_type": "code",
      "source": [
        "# synthetic image diversity TODO\n",
        "sand_dunes_results = synthetic_images_diversity_plots(synth_images_by_class['sand_dunes'], sand_dunes_metrics, 'sand_dunes')\n",
        "subsurface_cavities_results = synthetic_images_diversity_plots(synth_images_by_class['subsurface_cave'], subsurface_cavities_metrics, 'subsurface_cave')"
      ],
      "metadata": {
        "colab": {
          "base_uri": "https://localhost:8080/"
        },
        "id": "ed-tR6NgpNkV",
        "outputId": "c4301429-fd64-4351-faba-52a6dc8122ce"
      },
      "execution_count": 24,
      "outputs": [
        {
          "output_type": "stream",
          "name": "stderr",
          "text": [
            "Pairwise Comparisons: 1128it [17:07,  1.10it/s]\n"
          ]
        },
        {
          "output_type": "stream",
          "name": "stdout",
          "text": [
            "Plots saved to sand_dunes_synth_diversity.png\n"
          ]
        },
        {
          "output_type": "stream",
          "name": "stderr",
          "text": [
            "Pairwise Comparisons: 3003it [22:52,  2.19it/s]\n"
          ]
        },
        {
          "output_type": "stream",
          "name": "stdout",
          "text": [
            "Plots saved to subsurface_cave_synth_diversity.png\n"
          ]
        }
      ]
    },
    {
      "cell_type": "code",
      "source": [
        "###############################################\n",
        "###### METRIC SENSITIVITY ANALYSIS ######\n",
        "##############################################\n",
        "\n",
        "# Loop through all combinations of real and synthetic classes\n",
        "for real_class in classes:\n",
        "    for synth_class in classes:\n",
        "\n",
        "        print(f\"Evaluating synthetic class '{synth_class}' against real class '{real_class}'...\")\n",
        "\n",
        "        # Get the metrics specific to the real class\n",
        "        metrics = metrics_by_class.get(real_class, [])\n",
        "\n",
        "        # Get real and synthetic images for the respective classes\n",
        "        real_images = real_images_by_class.get(real_class, [])\n",
        "        synth_images = synth_images_by_class.get(synth_class, [])\n",
        "\n",
        "        # Perform metric sensitivity evaluation\n",
        "        if real_images and synth_images:\n",
        "            metric_sensitivity(\n",
        "                real_images=real_images,\n",
        "                synthetic_image_paths=synth_images,\n",
        "                metric_functions=metrics,\n",
        "                synth_class_name=synth_class,\n",
        "                real_class_name=real_class,\n",
        "                drive_path='/content/drive/My Drive/mars_images'\n",
        "            )\n",
        "        else:\n",
        "            print(f\"Skipping evaluation for '{synth_class}' vs '{real_class}' due to missing images.\")"
      ],
      "metadata": {
        "colab": {
          "base_uri": "https://localhost:8080/"
        },
        "collapsed": true,
        "id": "qVnJRLeckkpg",
        "outputId": "a9c9072e-1321-46f9-fb54-35c267ad9918"
      },
      "execution_count": 13,
      "outputs": [
        {
          "metadata": {
            "tags": null
          },
          "name": "stdout",
          "output_type": "stream",
          "text": [
            "Evaluating synthetic class 'cliffs' against real class 'cliffs'...\n",
            "Processing Round 1/5 comparing synthetic cliffs to real cliffs...\n"
          ]
        },
        {
          "metadata": {
            "tags": null
          },
          "name": "stderr",
          "output_type": "stream",
          "text": [
            "Round 1: 100%|██████████| 54/54 [00:21<00:00,  2.54it/s]\n"
          ]
        },
        {
          "metadata": {
            "tags": null
          },
          "name": "stdout",
          "output_type": "stream",
          "text": [
            "Processing Round 2/5 comparing synthetic cliffs to real cliffs...\n"
          ]
        },
        {
          "metadata": {
            "tags": null
          },
          "name": "stderr",
          "output_type": "stream",
          "text": [
            "Round 2: 100%|██████████| 54/54 [00:20<00:00,  2.61it/s]\n"
          ]
        },
        {
          "metadata": {
            "tags": null
          },
          "name": "stdout",
          "output_type": "stream",
          "text": [
            "Processing Round 3/5 comparing synthetic cliffs to real cliffs...\n"
          ]
        },
        {
          "metadata": {
            "tags": null
          },
          "name": "stderr",
          "output_type": "stream",
          "text": [
            "Round 3: 100%|██████████| 54/54 [00:12<00:00,  4.41it/s]\n"
          ]
        },
        {
          "metadata": {
            "tags": null
          },
          "name": "stdout",
          "output_type": "stream",
          "text": [
            "Processing Round 4/5 comparing synthetic cliffs to real cliffs...\n"
          ]
        },
        {
          "metadata": {
            "tags": null
          },
          "name": "stderr",
          "output_type": "stream",
          "text": [
            "Round 4: 100%|██████████| 54/54 [00:14<00:00,  3.73it/s]\n"
          ]
        },
        {
          "metadata": {
            "tags": null
          },
          "name": "stdout",
          "output_type": "stream",
          "text": [
            "Processing Round 5/5 comparing synthetic cliffs to real cliffs...\n"
          ]
        },
        {
          "metadata": {
            "tags": null
          },
          "name": "stderr",
          "output_type": "stream",
          "text": [
            "Round 5: 100%|██████████| 54/54 [00:13<00:00,  4.06it/s]\n"
          ]
        },
        {
          "metadata": {
            "tags": null
          },
          "name": "stdout",
          "output_type": "stream",
          "text": [
            "Combined plots saved to /content/drive/My Drive/mars_images/synth_cliffs_vs_real_cliffs_metric_sensitivity.png\n",
            "Evaluating synthetic class 'ridges' against real class 'cliffs'...\n",
            "Processing Round 1/5 comparing synthetic ridges to real cliffs...\n"
          ]
        },
        {
          "metadata": {
            "tags": null
          },
          "name": "stderr",
          "output_type": "stream",
          "text": [
            "Round 1: 100%|██████████| 115/115 [00:43<00:00,  2.62it/s]\n"
          ]
        },
        {
          "metadata": {
            "tags": null
          },
          "name": "stdout",
          "output_type": "stream",
          "text": [
            "Processing Round 2/5 comparing synthetic ridges to real cliffs...\n"
          ]
        },
        {
          "metadata": {
            "tags": null
          },
          "name": "stderr",
          "output_type": "stream",
          "text": [
            "Round 2: 100%|██████████| 115/115 [00:44<00:00,  2.61it/s]\n"
          ]
        },
        {
          "metadata": {
            "tags": null
          },
          "name": "stdout",
          "output_type": "stream",
          "text": [
            "Processing Round 3/5 comparing synthetic ridges to real cliffs...\n"
          ]
        },
        {
          "metadata": {
            "tags": null
          },
          "name": "stderr",
          "output_type": "stream",
          "text": [
            "Round 3: 100%|██████████| 115/115 [00:24<00:00,  4.72it/s]\n"
          ]
        },
        {
          "metadata": {
            "tags": null
          },
          "name": "stdout",
          "output_type": "stream",
          "text": [
            "Processing Round 4/5 comparing synthetic ridges to real cliffs...\n"
          ]
        },
        {
          "metadata": {
            "tags": null
          },
          "name": "stderr",
          "output_type": "stream",
          "text": [
            "Round 4: 100%|██████████| 115/115 [00:31<00:00,  3.70it/s]\n"
          ]
        },
        {
          "metadata": {
            "tags": null
          },
          "name": "stdout",
          "output_type": "stream",
          "text": [
            "Processing Round 5/5 comparing synthetic ridges to real cliffs...\n"
          ]
        },
        {
          "metadata": {
            "tags": null
          },
          "name": "stderr",
          "output_type": "stream",
          "text": [
            "Round 5: 100%|██████████| 115/115 [00:26<00:00,  4.38it/s]\n"
          ]
        },
        {
          "metadata": {
            "tags": null
          },
          "name": "stdout",
          "output_type": "stream",
          "text": [
            "Combined plots saved to /content/drive/My Drive/mars_images/synth_ridges_vs_real_cliffs_metric_sensitivity.png\n",
            "Evaluating synthetic class 'layer_sediments' against real class 'cliffs'...\n",
            "Processing Round 1/5 comparing synthetic layer_sediments to real cliffs...\n"
          ]
        },
        {
          "metadata": {
            "tags": null
          },
          "name": "stderr",
          "output_type": "stream",
          "text": [
            "Round 1: 100%|██████████| 82/82 [00:31<00:00,  2.60it/s]\n"
          ]
        },
        {
          "metadata": {
            "tags": null
          },
          "name": "stdout",
          "output_type": "stream",
          "text": [
            "Processing Round 2/5 comparing synthetic layer_sediments to real cliffs...\n"
          ]
        },
        {
          "metadata": {
            "tags": null
          },
          "name": "stderr",
          "output_type": "stream",
          "text": [
            "Round 2: 100%|██████████| 82/82 [00:31<00:00,  2.62it/s]\n"
          ]
        },
        {
          "metadata": {
            "tags": null
          },
          "name": "stdout",
          "output_type": "stream",
          "text": [
            "Processing Round 3/5 comparing synthetic layer_sediments to real cliffs...\n"
          ]
        },
        {
          "metadata": {
            "tags": null
          },
          "name": "stderr",
          "output_type": "stream",
          "text": [
            "Round 3: 100%|██████████| 82/82 [00:19<00:00,  4.16it/s]\n"
          ]
        },
        {
          "metadata": {
            "tags": null
          },
          "name": "stdout",
          "output_type": "stream",
          "text": [
            "Processing Round 4/5 comparing synthetic layer_sediments to real cliffs...\n"
          ]
        },
        {
          "metadata": {
            "tags": null
          },
          "name": "stderr",
          "output_type": "stream",
          "text": [
            "Round 4: 100%|██████████| 82/82 [00:23<00:00,  3.52it/s]\n"
          ]
        },
        {
          "metadata": {
            "tags": null
          },
          "name": "stdout",
          "output_type": "stream",
          "text": [
            "Processing Round 5/5 comparing synthetic layer_sediments to real cliffs...\n"
          ]
        },
        {
          "metadata": {
            "tags": null
          },
          "name": "stderr",
          "output_type": "stream",
          "text": [
            "Round 5: 100%|██████████| 82/82 [00:20<00:00,  4.03it/s]\n"
          ]
        },
        {
          "metadata": {
            "tags": null
          },
          "name": "stdout",
          "output_type": "stream",
          "text": [
            "Combined plots saved to /content/drive/My Drive/mars_images/synth_layer_sediments_vs_real_cliffs_metric_sensitivity.png\n",
            "Evaluating synthetic class 'rock_fields' against real class 'cliffs'...\n",
            "Processing Round 1/5 comparing synthetic rock_fields to real cliffs...\n"
          ]
        },
        {
          "metadata": {
            "tags": null
          },
          "name": "stderr",
          "output_type": "stream",
          "text": [
            "Round 1: 100%|██████████| 120/120 [00:45<00:00,  2.61it/s]\n"
          ]
        },
        {
          "metadata": {
            "tags": null
          },
          "name": "stdout",
          "output_type": "stream",
          "text": [
            "Processing Round 2/5 comparing synthetic rock_fields to real cliffs...\n"
          ]
        },
        {
          "metadata": {
            "tags": null
          },
          "name": "stderr",
          "output_type": "stream",
          "text": [
            "Round 2: 100%|██████████| 120/120 [00:45<00:00,  2.63it/s]\n"
          ]
        },
        {
          "metadata": {
            "tags": null
          },
          "name": "stdout",
          "output_type": "stream",
          "text": [
            "Processing Round 3/5 comparing synthetic rock_fields to real cliffs...\n"
          ]
        },
        {
          "metadata": {
            "tags": null
          },
          "name": "stderr",
          "output_type": "stream",
          "text": [
            "Round 3: 100%|██████████| 120/120 [00:26<00:00,  4.57it/s]\n"
          ]
        },
        {
          "metadata": {
            "tags": null
          },
          "name": "stdout",
          "output_type": "stream",
          "text": [
            "Processing Round 4/5 comparing synthetic rock_fields to real cliffs...\n"
          ]
        },
        {
          "metadata": {
            "tags": null
          },
          "name": "stderr",
          "output_type": "stream",
          "text": [
            "Round 4: 100%|██████████| 120/120 [00:32<00:00,  3.70it/s]\n"
          ]
        },
        {
          "metadata": {
            "tags": null
          },
          "name": "stdout",
          "output_type": "stream",
          "text": [
            "Processing Round 5/5 comparing synthetic rock_fields to real cliffs...\n"
          ]
        },
        {
          "metadata": {
            "tags": null
          },
          "name": "stderr",
          "output_type": "stream",
          "text": [
            "Round 5: 100%|██████████| 120/120 [00:28<00:00,  4.22it/s]\n"
          ]
        },
        {
          "metadata": {
            "tags": null
          },
          "name": "stdout",
          "output_type": "stream",
          "text": [
            "Combined plots saved to /content/drive/My Drive/mars_images/synth_rock_fields_vs_real_cliffs_metric_sensitivity.png\n",
            "Evaluating synthetic class 'craters' against real class 'cliffs'...\n",
            "Processing Round 1/5 comparing synthetic craters to real cliffs...\n"
          ]
        },
        {
          "metadata": {
            "tags": null
          },
          "name": "stderr",
          "output_type": "stream",
          "text": [
            "Round 1: 100%|██████████| 161/161 [01:03<00:00,  2.55it/s]\n"
          ]
        },
        {
          "metadata": {
            "tags": null
          },
          "name": "stdout",
          "output_type": "stream",
          "text": [
            "Processing Round 2/5 comparing synthetic craters to real cliffs...\n"
          ]
        },
        {
          "metadata": {
            "tags": null
          },
          "name": "stderr",
          "output_type": "stream",
          "text": [
            "Round 2: 100%|██████████| 161/161 [01:01<00:00,  2.62it/s]\n"
          ]
        },
        {
          "metadata": {
            "tags": null
          },
          "name": "stdout",
          "output_type": "stream",
          "text": [
            "Processing Round 3/5 comparing synthetic craters to real cliffs...\n"
          ]
        },
        {
          "metadata": {
            "tags": null
          },
          "name": "stderr",
          "output_type": "stream",
          "text": [
            "Round 3: 100%|██████████| 161/161 [00:36<00:00,  4.45it/s]\n"
          ]
        },
        {
          "metadata": {
            "tags": null
          },
          "name": "stdout",
          "output_type": "stream",
          "text": [
            "Processing Round 4/5 comparing synthetic craters to real cliffs...\n"
          ]
        },
        {
          "metadata": {
            "tags": null
          },
          "name": "stderr",
          "output_type": "stream",
          "text": [
            "Round 4: 100%|██████████| 161/161 [00:43<00:00,  3.71it/s]\n"
          ]
        },
        {
          "metadata": {
            "tags": null
          },
          "name": "stdout",
          "output_type": "stream",
          "text": [
            "Processing Round 5/5 comparing synthetic craters to real cliffs...\n"
          ]
        },
        {
          "metadata": {
            "tags": null
          },
          "name": "stderr",
          "output_type": "stream",
          "text": [
            "Round 5: 100%|██████████| 161/161 [00:37<00:00,  4.35it/s]\n"
          ]
        },
        {
          "metadata": {
            "tags": null
          },
          "name": "stdout",
          "output_type": "stream",
          "text": [
            "Combined plots saved to /content/drive/My Drive/mars_images/synth_craters_vs_real_cliffs_metric_sensitivity.png\n",
            "Evaluating synthetic class 'volcanic_plains_lava_flows' against real class 'cliffs'...\n",
            "Processing Round 1/5 comparing synthetic volcanic_plains_lava_flows to real cliffs...\n"
          ]
        },
        {
          "metadata": {
            "tags": null
          },
          "name": "stderr",
          "output_type": "stream",
          "text": [
            "Round 1: 100%|██████████| 76/76 [00:31<00:00,  2.43it/s]\n"
          ]
        },
        {
          "metadata": {
            "tags": null
          },
          "name": "stdout",
          "output_type": "stream",
          "text": [
            "Processing Round 2/5 comparing synthetic volcanic_plains_lava_flows to real cliffs...\n"
          ]
        },
        {
          "metadata": {
            "tags": null
          },
          "name": "stderr",
          "output_type": "stream",
          "text": [
            "Round 2: 100%|██████████| 76/76 [00:28<00:00,  2.64it/s]\n"
          ]
        },
        {
          "metadata": {
            "tags": null
          },
          "name": "stdout",
          "output_type": "stream",
          "text": [
            "Processing Round 3/5 comparing synthetic volcanic_plains_lava_flows to real cliffs...\n"
          ]
        },
        {
          "metadata": {
            "tags": null
          },
          "name": "stderr",
          "output_type": "stream",
          "text": [
            "Round 3: 100%|██████████| 76/76 [00:17<00:00,  4.34it/s]\n"
          ]
        },
        {
          "metadata": {
            "tags": null
          },
          "name": "stdout",
          "output_type": "stream",
          "text": [
            "Processing Round 4/5 comparing synthetic volcanic_plains_lava_flows to real cliffs...\n"
          ]
        },
        {
          "metadata": {
            "tags": null
          },
          "name": "stderr",
          "output_type": "stream",
          "text": [
            "Round 4: 100%|██████████| 76/76 [00:19<00:00,  3.81it/s]\n"
          ]
        },
        {
          "metadata": {
            "tags": null
          },
          "name": "stdout",
          "output_type": "stream",
          "text": [
            "Processing Round 5/5 comparing synthetic volcanic_plains_lava_flows to real cliffs...\n"
          ]
        },
        {
          "metadata": {
            "tags": null
          },
          "name": "stderr",
          "output_type": "stream",
          "text": [
            "Round 5: 100%|██████████| 76/76 [00:17<00:00,  4.33it/s]\n"
          ]
        },
        {
          "metadata": {
            "tags": null
          },
          "name": "stdout",
          "output_type": "stream",
          "text": [
            "Combined plots saved to /content/drive/My Drive/mars_images/synth_volcanic_plains_lava_flows_vs_real_cliffs_metric_sensitivity.png\n",
            "Evaluating synthetic class 'sand_dunes' against real class 'cliffs'...\n",
            "Processing Round 1/5 comparing synthetic sand_dunes to real cliffs...\n"
          ]
        },
        {
          "metadata": {
            "tags": null
          },
          "name": "stderr",
          "output_type": "stream",
          "text": [
            "Round 1: 100%|██████████| 48/48 [00:18<00:00,  2.64it/s]\n"
          ]
        },
        {
          "metadata": {
            "tags": null
          },
          "name": "stdout",
          "output_type": "stream",
          "text": [
            "Processing Round 2/5 comparing synthetic sand_dunes to real cliffs...\n"
          ]
        },
        {
          "metadata": {
            "tags": null
          },
          "name": "stderr",
          "output_type": "stream",
          "text": [
            "Round 2: 100%|██████████| 48/48 [00:18<00:00,  2.65it/s]\n"
          ]
        },
        {
          "metadata": {
            "tags": null
          },
          "name": "stdout",
          "output_type": "stream",
          "text": [
            "Processing Round 3/5 comparing synthetic sand_dunes to real cliffs...\n"
          ]
        },
        {
          "metadata": {
            "tags": null
          },
          "name": "stderr",
          "output_type": "stream",
          "text": [
            "Round 3: 100%|██████████| 48/48 [00:12<00:00,  3.75it/s]\n"
          ]
        },
        {
          "metadata": {
            "tags": null
          },
          "name": "stdout",
          "output_type": "stream",
          "text": [
            "Processing Round 4/5 comparing synthetic sand_dunes to real cliffs...\n"
          ]
        },
        {
          "metadata": {
            "tags": null
          },
          "name": "stderr",
          "output_type": "stream",
          "text": [
            "Round 4: 100%|██████████| 48/48 [00:13<00:00,  3.64it/s]\n"
          ]
        },
        {
          "metadata": {
            "tags": null
          },
          "name": "stdout",
          "output_type": "stream",
          "text": [
            "Processing Round 5/5 comparing synthetic sand_dunes to real cliffs...\n"
          ]
        },
        {
          "metadata": {
            "tags": null
          },
          "name": "stderr",
          "output_type": "stream",
          "text": [
            "Round 5: 100%|██████████| 48/48 [00:10<00:00,  4.52it/s]\n"
          ]
        },
        {
          "metadata": {
            "tags": null
          },
          "name": "stdout",
          "output_type": "stream",
          "text": [
            "Combined plots saved to /content/drive/My Drive/mars_images/synth_sand_dunes_vs_real_cliffs_metric_sensitivity.png\n",
            "Evaluating synthetic class 'subsurface_cave' against real class 'cliffs'...\n",
            "Processing Round 1/5 comparing synthetic subsurface_cave to real cliffs...\n"
          ]
        },
        {
          "metadata": {
            "tags": null
          },
          "name": "stderr",
          "output_type": "stream",
          "text": [
            "Round 1: 100%|██████████| 78/78 [00:30<00:00,  2.59it/s]\n"
          ]
        },
        {
          "metadata": {
            "tags": null
          },
          "name": "stdout",
          "output_type": "stream",
          "text": [
            "Processing Round 2/5 comparing synthetic subsurface_cave to real cliffs...\n"
          ]
        },
        {
          "metadata": {
            "tags": null
          },
          "name": "stderr",
          "output_type": "stream",
          "text": [
            "Round 2: 100%|██████████| 78/78 [00:30<00:00,  2.53it/s]\n"
          ]
        },
        {
          "metadata": {
            "tags": null
          },
          "name": "stdout",
          "output_type": "stream",
          "text": [
            "Processing Round 3/5 comparing synthetic subsurface_cave to real cliffs...\n"
          ]
        },
        {
          "metadata": {
            "tags": null
          },
          "name": "stderr",
          "output_type": "stream",
          "text": [
            "Round 3: 100%|██████████| 78/78 [00:18<00:00,  4.25it/s]\n"
          ]
        },
        {
          "metadata": {
            "tags": null
          },
          "name": "stdout",
          "output_type": "stream",
          "text": [
            "Processing Round 4/5 comparing synthetic subsurface_cave to real cliffs...\n"
          ]
        },
        {
          "metadata": {
            "tags": null
          },
          "name": "stderr",
          "output_type": "stream",
          "text": [
            "Round 4: 100%|██████████| 78/78 [00:22<00:00,  3.49it/s]\n"
          ]
        },
        {
          "metadata": {
            "tags": null
          },
          "name": "stdout",
          "output_type": "stream",
          "text": [
            "Processing Round 5/5 comparing synthetic subsurface_cave to real cliffs...\n"
          ]
        },
        {
          "metadata": {
            "tags": null
          },
          "name": "stderr",
          "output_type": "stream",
          "text": [
            "Round 5: 100%|██████████| 78/78 [00:18<00:00,  4.31it/s]\n"
          ]
        },
        {
          "metadata": {
            "tags": null
          },
          "name": "stdout",
          "output_type": "stream",
          "text": [
            "Combined plots saved to /content/drive/My Drive/mars_images/synth_subsurface_cave_vs_real_cliffs_metric_sensitivity.png\n",
            "Evaluating synthetic class 'cliffs' against real class 'ridges'...\n",
            "Processing Round 1/5 comparing synthetic cliffs to real ridges...\n"
          ]
        },
        {
          "metadata": {
            "tags": null
          },
          "name": "stderr",
          "output_type": "stream",
          "text": [
            "Round 1: 100%|██████████| 54/54 [00:24<00:00,  2.17it/s]\n"
          ]
        },
        {
          "metadata": {
            "tags": null
          },
          "name": "stdout",
          "output_type": "stream",
          "text": [
            "Processing Round 2/5 comparing synthetic cliffs to real ridges...\n"
          ]
        },
        {
          "metadata": {
            "tags": null
          },
          "name": "stderr",
          "output_type": "stream",
          "text": [
            "Round 2: 100%|██████████| 54/54 [00:20<00:00,  2.59it/s]\n"
          ]
        },
        {
          "metadata": {
            "tags": null
          },
          "name": "stdout",
          "output_type": "stream",
          "text": [
            "Processing Round 3/5 comparing synthetic cliffs to real ridges...\n"
          ]
        },
        {
          "metadata": {
            "tags": null
          },
          "name": "stderr",
          "output_type": "stream",
          "text": [
            "Round 3: 100%|██████████| 54/54 [00:25<00:00,  2.15it/s]\n"
          ]
        },
        {
          "metadata": {
            "tags": null
          },
          "name": "stdout",
          "output_type": "stream",
          "text": [
            "Processing Round 4/5 comparing synthetic cliffs to real ridges...\n"
          ]
        },
        {
          "metadata": {
            "tags": null
          },
          "name": "stderr",
          "output_type": "stream",
          "text": [
            "Round 4: 100%|██████████| 54/54 [00:24<00:00,  2.22it/s]\n"
          ]
        },
        {
          "metadata": {
            "tags": null
          },
          "name": "stdout",
          "output_type": "stream",
          "text": [
            "Processing Round 5/5 comparing synthetic cliffs to real ridges...\n"
          ]
        },
        {
          "metadata": {
            "tags": null
          },
          "name": "stderr",
          "output_type": "stream",
          "text": [
            "Round 5: 100%|██████████| 54/54 [00:23<00:00,  2.26it/s]\n"
          ]
        },
        {
          "metadata": {
            "tags": null
          },
          "name": "stdout",
          "output_type": "stream",
          "text": [
            "Combined plots saved to /content/drive/My Drive/mars_images/synth_cliffs_vs_real_ridges_metric_sensitivity.png\n",
            "Evaluating synthetic class 'ridges' against real class 'ridges'...\n",
            "Processing Round 1/5 comparing synthetic ridges to real ridges...\n"
          ]
        },
        {
          "metadata": {
            "tags": null
          },
          "name": "stderr",
          "output_type": "stream",
          "text": [
            "Round 1: 100%|██████████| 115/115 [00:50<00:00,  2.26it/s]\n"
          ]
        },
        {
          "metadata": {
            "tags": null
          },
          "name": "stdout",
          "output_type": "stream",
          "text": [
            "Processing Round 2/5 comparing synthetic ridges to real ridges...\n"
          ]
        },
        {
          "metadata": {
            "tags": null
          },
          "name": "stderr",
          "output_type": "stream",
          "text": [
            "Round 2: 100%|██████████| 115/115 [00:47<00:00,  2.41it/s]\n"
          ]
        },
        {
          "metadata": {
            "tags": null
          },
          "name": "stdout",
          "output_type": "stream",
          "text": [
            "Processing Round 3/5 comparing synthetic ridges to real ridges...\n"
          ]
        },
        {
          "metadata": {
            "tags": null
          },
          "name": "stderr",
          "output_type": "stream",
          "text": [
            "Round 3: 100%|██████████| 115/115 [00:51<00:00,  2.25it/s]\n"
          ]
        },
        {
          "metadata": {
            "tags": null
          },
          "name": "stdout",
          "output_type": "stream",
          "text": [
            "Processing Round 4/5 comparing synthetic ridges to real ridges...\n"
          ]
        },
        {
          "metadata": {
            "tags": null
          },
          "name": "stderr",
          "output_type": "stream",
          "text": [
            "Round 4: 100%|██████████| 115/115 [00:51<00:00,  2.21it/s]\n"
          ]
        },
        {
          "metadata": {
            "tags": null
          },
          "name": "stdout",
          "output_type": "stream",
          "text": [
            "Processing Round 5/5 comparing synthetic ridges to real ridges...\n"
          ]
        },
        {
          "metadata": {
            "tags": null
          },
          "name": "stderr",
          "output_type": "stream",
          "text": [
            "Round 5: 100%|██████████| 115/115 [00:50<00:00,  2.27it/s]\n"
          ]
        },
        {
          "metadata": {
            "tags": null
          },
          "name": "stdout",
          "output_type": "stream",
          "text": [
            "Combined plots saved to /content/drive/My Drive/mars_images/synth_ridges_vs_real_ridges_metric_sensitivity.png\n",
            "Evaluating synthetic class 'layer_sediments' against real class 'ridges'...\n",
            "Processing Round 1/5 comparing synthetic layer_sediments to real ridges...\n"
          ]
        },
        {
          "metadata": {
            "tags": null
          },
          "name": "stderr",
          "output_type": "stream",
          "text": [
            "Round 1: 100%|██████████| 82/82 [00:35<00:00,  2.28it/s]\n"
          ]
        },
        {
          "metadata": {
            "tags": null
          },
          "name": "stdout",
          "output_type": "stream",
          "text": [
            "Processing Round 2/5 comparing synthetic layer_sediments to real ridges...\n"
          ]
        },
        {
          "metadata": {
            "tags": null
          },
          "name": "stderr",
          "output_type": "stream",
          "text": [
            "Round 2: 100%|██████████| 82/82 [00:35<00:00,  2.31it/s]\n"
          ]
        },
        {
          "metadata": {
            "tags": null
          },
          "name": "stdout",
          "output_type": "stream",
          "text": [
            "Processing Round 3/5 comparing synthetic layer_sediments to real ridges...\n"
          ]
        },
        {
          "metadata": {
            "tags": null
          },
          "name": "stderr",
          "output_type": "stream",
          "text": [
            "Round 3: 100%|██████████| 82/82 [00:36<00:00,  2.27it/s]\n"
          ]
        },
        {
          "metadata": {
            "tags": null
          },
          "name": "stdout",
          "output_type": "stream",
          "text": [
            "Processing Round 4/5 comparing synthetic layer_sediments to real ridges...\n"
          ]
        },
        {
          "metadata": {
            "tags": null
          },
          "name": "stderr",
          "output_type": "stream",
          "text": [
            "Round 4: 100%|██████████| 82/82 [00:36<00:00,  2.26it/s]\n"
          ]
        },
        {
          "metadata": {
            "tags": null
          },
          "name": "stdout",
          "output_type": "stream",
          "text": [
            "Processing Round 5/5 comparing synthetic layer_sediments to real ridges...\n"
          ]
        },
        {
          "metadata": {
            "tags": null
          },
          "name": "stderr",
          "output_type": "stream",
          "text": [
            "Round 5: 100%|██████████| 82/82 [00:37<00:00,  2.21it/s]\n"
          ]
        },
        {
          "metadata": {
            "tags": null
          },
          "name": "stdout",
          "output_type": "stream",
          "text": [
            "Combined plots saved to /content/drive/My Drive/mars_images/synth_layer_sediments_vs_real_ridges_metric_sensitivity.png\n",
            "Evaluating synthetic class 'rock_fields' against real class 'ridges'...\n",
            "Processing Round 1/5 comparing synthetic rock_fields to real ridges...\n"
          ]
        },
        {
          "metadata": {
            "tags": null
          },
          "name": "stderr",
          "output_type": "stream",
          "text": [
            "Round 1: 100%|██████████| 120/120 [00:54<00:00,  2.20it/s]\n"
          ]
        },
        {
          "metadata": {
            "tags": null
          },
          "name": "stdout",
          "output_type": "stream",
          "text": [
            "Processing Round 2/5 comparing synthetic rock_fields to real ridges...\n"
          ]
        },
        {
          "metadata": {
            "tags": null
          },
          "name": "stderr",
          "output_type": "stream",
          "text": [
            "Round 2: 100%|██████████| 120/120 [00:47<00:00,  2.52it/s]\n"
          ]
        },
        {
          "metadata": {
            "tags": null
          },
          "name": "stdout",
          "output_type": "stream",
          "text": [
            "Processing Round 3/5 comparing synthetic rock_fields to real ridges...\n"
          ]
        },
        {
          "metadata": {
            "tags": null
          },
          "name": "stderr",
          "output_type": "stream",
          "text": [
            "Round 3: 100%|██████████| 120/120 [00:56<00:00,  2.13it/s]\n"
          ]
        },
        {
          "metadata": {
            "tags": null
          },
          "name": "stdout",
          "output_type": "stream",
          "text": [
            "Processing Round 4/5 comparing synthetic rock_fields to real ridges...\n"
          ]
        },
        {
          "metadata": {
            "tags": null
          },
          "name": "stderr",
          "output_type": "stream",
          "text": [
            "Round 4: 100%|██████████| 120/120 [00:53<00:00,  2.25it/s]\n"
          ]
        },
        {
          "metadata": {
            "tags": null
          },
          "name": "stdout",
          "output_type": "stream",
          "text": [
            "Processing Round 5/5 comparing synthetic rock_fields to real ridges...\n"
          ]
        },
        {
          "metadata": {
            "tags": null
          },
          "name": "stderr",
          "output_type": "stream",
          "text": [
            "Round 5: 100%|██████████| 120/120 [00:54<00:00,  2.19it/s]\n"
          ]
        },
        {
          "metadata": {
            "tags": null
          },
          "name": "stdout",
          "output_type": "stream",
          "text": [
            "Combined plots saved to /content/drive/My Drive/mars_images/synth_rock_fields_vs_real_ridges_metric_sensitivity.png\n",
            "Evaluating synthetic class 'craters' against real class 'ridges'...\n",
            "Processing Round 1/5 comparing synthetic craters to real ridges...\n"
          ]
        },
        {
          "metadata": {
            "tags": null
          },
          "name": "stderr",
          "output_type": "stream",
          "text": [
            "Round 1: 100%|██████████| 161/161 [01:12<00:00,  2.21it/s]\n"
          ]
        },
        {
          "metadata": {
            "tags": null
          },
          "name": "stdout",
          "output_type": "stream",
          "text": [
            "Processing Round 2/5 comparing synthetic craters to real ridges...\n"
          ]
        },
        {
          "metadata": {
            "tags": null
          },
          "name": "stderr",
          "output_type": "stream",
          "text": [
            "Round 2: 100%|██████████| 161/161 [01:06<00:00,  2.42it/s]\n"
          ]
        },
        {
          "metadata": {
            "tags": null
          },
          "name": "stdout",
          "output_type": "stream",
          "text": [
            "Processing Round 3/5 comparing synthetic craters to real ridges...\n"
          ]
        },
        {
          "metadata": {
            "tags": null
          },
          "name": "stderr",
          "output_type": "stream",
          "text": [
            "Round 3: 100%|██████████| 161/161 [01:13<00:00,  2.20it/s]\n"
          ]
        },
        {
          "metadata": {
            "tags": null
          },
          "name": "stdout",
          "output_type": "stream",
          "text": [
            "Processing Round 4/5 comparing synthetic craters to real ridges...\n"
          ]
        },
        {
          "metadata": {
            "tags": null
          },
          "name": "stderr",
          "output_type": "stream",
          "text": [
            "Round 4: 100%|██████████| 161/161 [01:14<00:00,  2.15it/s]\n"
          ]
        },
        {
          "metadata": {
            "tags": null
          },
          "name": "stdout",
          "output_type": "stream",
          "text": [
            "Processing Round 5/5 comparing synthetic craters to real ridges...\n"
          ]
        },
        {
          "metadata": {
            "tags": null
          },
          "name": "stderr",
          "output_type": "stream",
          "text": [
            "Round 5: 100%|██████████| 161/161 [01:14<00:00,  2.15it/s]\n"
          ]
        },
        {
          "metadata": {
            "tags": null
          },
          "name": "stdout",
          "output_type": "stream",
          "text": [
            "Combined plots saved to /content/drive/My Drive/mars_images/synth_craters_vs_real_ridges_metric_sensitivity.png\n",
            "Evaluating synthetic class 'volcanic_plains_lava_flows' against real class 'ridges'...\n",
            "Processing Round 1/5 comparing synthetic volcanic_plains_lava_flows to real ridges...\n"
          ]
        },
        {
          "metadata": {
            "tags": null
          },
          "name": "stderr",
          "output_type": "stream",
          "text": [
            "Round 1: 100%|██████████| 76/76 [00:34<00:00,  2.18it/s]\n"
          ]
        },
        {
          "metadata": {
            "tags": null
          },
          "name": "stdout",
          "output_type": "stream",
          "text": [
            "Processing Round 2/5 comparing synthetic volcanic_plains_lava_flows to real ridges...\n"
          ]
        },
        {
          "metadata": {
            "tags": null
          },
          "name": "stderr",
          "output_type": "stream",
          "text": [
            "Round 2: 100%|██████████| 76/76 [00:30<00:00,  2.48it/s]\n"
          ]
        },
        {
          "metadata": {
            "tags": null
          },
          "name": "stdout",
          "output_type": "stream",
          "text": [
            "Processing Round 3/5 comparing synthetic volcanic_plains_lava_flows to real ridges...\n"
          ]
        },
        {
          "metadata": {
            "tags": null
          },
          "name": "stderr",
          "output_type": "stream",
          "text": [
            "Round 3: 100%|██████████| 76/76 [00:33<00:00,  2.24it/s]\n"
          ]
        },
        {
          "metadata": {
            "tags": null
          },
          "name": "stdout",
          "output_type": "stream",
          "text": [
            "Processing Round 4/5 comparing synthetic volcanic_plains_lava_flows to real ridges...\n"
          ]
        },
        {
          "metadata": {
            "tags": null
          },
          "name": "stderr",
          "output_type": "stream",
          "text": [
            "Round 4: 100%|██████████| 76/76 [00:33<00:00,  2.26it/s]\n"
          ]
        },
        {
          "metadata": {
            "tags": null
          },
          "name": "stdout",
          "output_type": "stream",
          "text": [
            "Processing Round 5/5 comparing synthetic volcanic_plains_lava_flows to real ridges...\n"
          ]
        },
        {
          "metadata": {
            "tags": null
          },
          "name": "stderr",
          "output_type": "stream",
          "text": [
            "Round 5: 100%|██████████| 76/76 [00:35<00:00,  2.17it/s]\n"
          ]
        },
        {
          "metadata": {
            "tags": null
          },
          "name": "stdout",
          "output_type": "stream",
          "text": [
            "Combined plots saved to /content/drive/My Drive/mars_images/synth_volcanic_plains_lava_flows_vs_real_ridges_metric_sensitivity.png\n",
            "Evaluating synthetic class 'sand_dunes' against real class 'ridges'...\n",
            "Processing Round 1/5 comparing synthetic sand_dunes to real ridges...\n"
          ]
        },
        {
          "metadata": {
            "tags": null
          },
          "name": "stderr",
          "output_type": "stream",
          "text": [
            "Round 1: 100%|██████████| 48/48 [00:23<00:00,  2.04it/s]\n"
          ]
        },
        {
          "metadata": {
            "tags": null
          },
          "name": "stdout",
          "output_type": "stream",
          "text": [
            "Processing Round 2/5 comparing synthetic sand_dunes to real ridges...\n"
          ]
        },
        {
          "metadata": {
            "tags": null
          },
          "name": "stderr",
          "output_type": "stream",
          "text": [
            "Round 2: 100%|██████████| 48/48 [00:19<00:00,  2.47it/s]\n"
          ]
        },
        {
          "metadata": {
            "tags": null
          },
          "name": "stdout",
          "output_type": "stream",
          "text": [
            "Processing Round 3/5 comparing synthetic sand_dunes to real ridges...\n"
          ]
        },
        {
          "metadata": {
            "tags": null
          },
          "name": "stderr",
          "output_type": "stream",
          "text": [
            "Round 3: 100%|██████████| 48/48 [00:20<00:00,  2.32it/s]\n"
          ]
        },
        {
          "metadata": {
            "tags": null
          },
          "name": "stdout",
          "output_type": "stream",
          "text": [
            "Processing Round 4/5 comparing synthetic sand_dunes to real ridges...\n"
          ]
        },
        {
          "metadata": {
            "tags": null
          },
          "name": "stderr",
          "output_type": "stream",
          "text": [
            "Round 4: 100%|██████████| 48/48 [00:22<00:00,  2.11it/s]\n"
          ]
        },
        {
          "metadata": {
            "tags": null
          },
          "name": "stdout",
          "output_type": "stream",
          "text": [
            "Processing Round 5/5 comparing synthetic sand_dunes to real ridges...\n"
          ]
        },
        {
          "metadata": {
            "tags": null
          },
          "name": "stderr",
          "output_type": "stream",
          "text": [
            "Round 5: 100%|██████████| 48/48 [00:20<00:00,  2.33it/s]\n"
          ]
        },
        {
          "metadata": {
            "tags": null
          },
          "name": "stdout",
          "output_type": "stream",
          "text": [
            "Combined plots saved to /content/drive/My Drive/mars_images/synth_sand_dunes_vs_real_ridges_metric_sensitivity.png\n",
            "Evaluating synthetic class 'subsurface_cave' against real class 'ridges'...\n",
            "Processing Round 1/5 comparing synthetic subsurface_cave to real ridges...\n"
          ]
        },
        {
          "metadata": {
            "tags": null
          },
          "name": "stderr",
          "output_type": "stream",
          "text": [
            "Round 1: 100%|██████████| 78/78 [00:34<00:00,  2.26it/s]\n"
          ]
        },
        {
          "metadata": {
            "tags": null
          },
          "name": "stdout",
          "output_type": "stream",
          "text": [
            "Processing Round 2/5 comparing synthetic subsurface_cave to real ridges...\n"
          ]
        },
        {
          "metadata": {
            "tags": null
          },
          "name": "stderr",
          "output_type": "stream",
          "text": [
            "Round 2: 100%|██████████| 78/78 [00:31<00:00,  2.52it/s]\n"
          ]
        },
        {
          "metadata": {
            "tags": null
          },
          "name": "stdout",
          "output_type": "stream",
          "text": [
            "Processing Round 3/5 comparing synthetic subsurface_cave to real ridges...\n"
          ]
        },
        {
          "metadata": {
            "tags": null
          },
          "name": "stderr",
          "output_type": "stream",
          "text": [
            "Round 3: 100%|██████████| 78/78 [00:34<00:00,  2.25it/s]\n"
          ]
        },
        {
          "metadata": {
            "tags": null
          },
          "name": "stdout",
          "output_type": "stream",
          "text": [
            "Processing Round 4/5 comparing synthetic subsurface_cave to real ridges...\n"
          ]
        },
        {
          "metadata": {
            "tags": null
          },
          "name": "stderr",
          "output_type": "stream",
          "text": [
            "Round 4: 100%|██████████| 78/78 [00:35<00:00,  2.17it/s]\n"
          ]
        },
        {
          "metadata": {
            "tags": null
          },
          "name": "stdout",
          "output_type": "stream",
          "text": [
            "Processing Round 5/5 comparing synthetic subsurface_cave to real ridges...\n"
          ]
        },
        {
          "metadata": {
            "tags": null
          },
          "name": "stderr",
          "output_type": "stream",
          "text": [
            "Round 5: 100%|██████████| 78/78 [00:36<00:00,  2.16it/s]\n"
          ]
        },
        {
          "metadata": {
            "tags": null
          },
          "name": "stdout",
          "output_type": "stream",
          "text": [
            "Combined plots saved to /content/drive/My Drive/mars_images/synth_subsurface_cave_vs_real_ridges_metric_sensitivity.png\n",
            "Evaluating synthetic class 'cliffs' against real class 'layer_sediments'...\n",
            "Processing Round 1/5 comparing synthetic cliffs to real layer_sediments...\n"
          ]
        },
        {
          "metadata": {
            "tags": null
          },
          "name": "stderr",
          "output_type": "stream",
          "text": [
            "Round 1: 100%|██████████| 54/54 [00:24<00:00,  2.19it/s]\n"
          ]
        },
        {
          "metadata": {
            "tags": null
          },
          "name": "stdout",
          "output_type": "stream",
          "text": [
            "Processing Round 2/5 comparing synthetic cliffs to real layer_sediments...\n"
          ]
        },
        {
          "metadata": {
            "tags": null
          },
          "name": "stderr",
          "output_type": "stream",
          "text": [
            "Round 2: 100%|██████████| 54/54 [00:26<00:00,  2.04it/s]\n"
          ]
        },
        {
          "metadata": {
            "tags": null
          },
          "name": "stdout",
          "output_type": "stream",
          "text": [
            "Processing Round 3/5 comparing synthetic cliffs to real layer_sediments...\n"
          ]
        },
        {
          "metadata": {
            "tags": null
          },
          "name": "stderr",
          "output_type": "stream",
          "text": [
            "Round 3: 100%|██████████| 54/54 [00:24<00:00,  2.16it/s]\n"
          ]
        },
        {
          "metadata": {
            "tags": null
          },
          "name": "stdout",
          "output_type": "stream",
          "text": [
            "Processing Round 4/5 comparing synthetic cliffs to real layer_sediments...\n"
          ]
        },
        {
          "metadata": {
            "tags": null
          },
          "name": "stderr",
          "output_type": "stream",
          "text": [
            "Round 4: 100%|██████████| 54/54 [00:23<00:00,  2.27it/s]\n"
          ]
        },
        {
          "metadata": {
            "tags": null
          },
          "name": "stdout",
          "output_type": "stream",
          "text": [
            "Processing Round 5/5 comparing synthetic cliffs to real layer_sediments...\n"
          ]
        },
        {
          "metadata": {
            "tags": null
          },
          "name": "stderr",
          "output_type": "stream",
          "text": [
            "Round 5: 100%|██████████| 54/54 [00:25<00:00,  2.13it/s]\n"
          ]
        },
        {
          "metadata": {
            "tags": null
          },
          "name": "stdout",
          "output_type": "stream",
          "text": [
            "Combined plots saved to /content/drive/My Drive/mars_images/synth_cliffs_vs_real_layer_sediments_metric_sensitivity.png\n",
            "Evaluating synthetic class 'ridges' against real class 'layer_sediments'...\n",
            "Processing Round 1/5 comparing synthetic ridges to real layer_sediments...\n"
          ]
        },
        {
          "metadata": {
            "tags": null
          },
          "name": "stderr",
          "output_type": "stream",
          "text": [
            "Round 1: 100%|██████████| 115/115 [00:52<00:00,  2.20it/s]\n"
          ]
        },
        {
          "metadata": {
            "tags": null
          },
          "name": "stdout",
          "output_type": "stream",
          "text": [
            "Processing Round 2/5 comparing synthetic ridges to real layer_sediments...\n"
          ]
        },
        {
          "metadata": {
            "tags": null
          },
          "name": "stderr",
          "output_type": "stream",
          "text": [
            "Round 2: 100%|██████████| 115/115 [00:57<00:00,  2.00it/s]\n"
          ]
        },
        {
          "metadata": {
            "tags": null
          },
          "name": "stdout",
          "output_type": "stream",
          "text": [
            "Processing Round 3/5 comparing synthetic ridges to real layer_sediments...\n"
          ]
        },
        {
          "metadata": {
            "tags": null
          },
          "name": "stderr",
          "output_type": "stream",
          "text": [
            "Round 3: 100%|██████████| 115/115 [00:52<00:00,  2.18it/s]\n"
          ]
        },
        {
          "metadata": {
            "tags": null
          },
          "name": "stdout",
          "output_type": "stream",
          "text": [
            "Processing Round 4/5 comparing synthetic ridges to real layer_sediments...\n"
          ]
        },
        {
          "metadata": {
            "tags": null
          },
          "name": "stderr",
          "output_type": "stream",
          "text": [
            "Round 4: 100%|██████████| 115/115 [00:52<00:00,  2.20it/s]\n"
          ]
        },
        {
          "metadata": {
            "tags": null
          },
          "name": "stdout",
          "output_type": "stream",
          "text": [
            "Processing Round 5/5 comparing synthetic ridges to real layer_sediments...\n"
          ]
        },
        {
          "metadata": {
            "tags": null
          },
          "name": "stderr",
          "output_type": "stream",
          "text": [
            "Round 5: 100%|██████████| 115/115 [00:53<00:00,  2.13it/s]\n"
          ]
        },
        {
          "metadata": {
            "tags": null
          },
          "name": "stdout",
          "output_type": "stream",
          "text": [
            "Combined plots saved to /content/drive/My Drive/mars_images/synth_ridges_vs_real_layer_sediments_metric_sensitivity.png\n",
            "Evaluating synthetic class 'layer_sediments' against real class 'layer_sediments'...\n",
            "Processing Round 1/5 comparing synthetic layer_sediments to real layer_sediments...\n"
          ]
        },
        {
          "metadata": {
            "tags": null
          },
          "name": "stderr",
          "output_type": "stream",
          "text": [
            "Round 1: 100%|██████████| 82/82 [00:38<00:00,  2.11it/s]\n"
          ]
        },
        {
          "metadata": {
            "tags": null
          },
          "name": "stdout",
          "output_type": "stream",
          "text": [
            "Processing Round 2/5 comparing synthetic layer_sediments to real layer_sediments...\n"
          ]
        },
        {
          "metadata": {
            "tags": null
          },
          "name": "stderr",
          "output_type": "stream",
          "text": [
            "Round 2: 100%|██████████| 82/82 [00:38<00:00,  2.14it/s]\n"
          ]
        },
        {
          "metadata": {
            "tags": null
          },
          "name": "stdout",
          "output_type": "stream",
          "text": [
            "Processing Round 3/5 comparing synthetic layer_sediments to real layer_sediments...\n"
          ]
        },
        {
          "metadata": {
            "tags": null
          },
          "name": "stderr",
          "output_type": "stream",
          "text": [
            "Round 3: 100%|██████████| 82/82 [00:39<00:00,  2.10it/s]\n"
          ]
        },
        {
          "metadata": {
            "tags": null
          },
          "name": "stdout",
          "output_type": "stream",
          "text": [
            "Processing Round 4/5 comparing synthetic layer_sediments to real layer_sediments...\n"
          ]
        },
        {
          "metadata": {
            "tags": null
          },
          "name": "stderr",
          "output_type": "stream",
          "text": [
            "Round 4: 100%|██████████| 82/82 [00:36<00:00,  2.24it/s]\n"
          ]
        },
        {
          "metadata": {
            "tags": null
          },
          "name": "stdout",
          "output_type": "stream",
          "text": [
            "Processing Round 5/5 comparing synthetic layer_sediments to real layer_sediments...\n"
          ]
        },
        {
          "metadata": {
            "tags": null
          },
          "name": "stderr",
          "output_type": "stream",
          "text": [
            "Round 5: 100%|██████████| 82/82 [00:37<00:00,  2.16it/s]\n"
          ]
        },
        {
          "metadata": {
            "tags": null
          },
          "name": "stdout",
          "output_type": "stream",
          "text": [
            "Combined plots saved to /content/drive/My Drive/mars_images/synth_layer_sediments_vs_real_layer_sediments_metric_sensitivity.png\n",
            "Evaluating synthetic class 'rock_fields' against real class 'layer_sediments'...\n",
            "Processing Round 1/5 comparing synthetic rock_fields to real layer_sediments...\n"
          ]
        },
        {
          "metadata": {
            "tags": null
          },
          "name": "stderr",
          "output_type": "stream",
          "text": [
            "Round 1: 100%|██████████| 120/120 [00:54<00:00,  2.18it/s]\n"
          ]
        },
        {
          "metadata": {
            "tags": null
          },
          "name": "stdout",
          "output_type": "stream",
          "text": [
            "Processing Round 2/5 comparing synthetic rock_fields to real layer_sediments...\n"
          ]
        },
        {
          "metadata": {
            "tags": null
          },
          "name": "stderr",
          "output_type": "stream",
          "text": [
            "Round 2: 100%|██████████| 120/120 [00:57<00:00,  2.09it/s]\n"
          ]
        },
        {
          "metadata": {
            "tags": null
          },
          "name": "stdout",
          "output_type": "stream",
          "text": [
            "Processing Round 3/5 comparing synthetic rock_fields to real layer_sediments...\n"
          ]
        },
        {
          "metadata": {
            "tags": null
          },
          "name": "stderr",
          "output_type": "stream",
          "text": [
            "Round 3: 100%|██████████| 120/120 [00:55<00:00,  2.18it/s]\n"
          ]
        },
        {
          "metadata": {
            "tags": null
          },
          "name": "stdout",
          "output_type": "stream",
          "text": [
            "Processing Round 4/5 comparing synthetic rock_fields to real layer_sediments...\n"
          ]
        },
        {
          "metadata": {
            "tags": null
          },
          "name": "stderr",
          "output_type": "stream",
          "text": [
            "Round 4: 100%|██████████| 120/120 [00:54<00:00,  2.20it/s]\n"
          ]
        },
        {
          "metadata": {
            "tags": null
          },
          "name": "stdout",
          "output_type": "stream",
          "text": [
            "Processing Round 5/5 comparing synthetic rock_fields to real layer_sediments...\n"
          ]
        },
        {
          "metadata": {
            "tags": null
          },
          "name": "stderr",
          "output_type": "stream",
          "text": [
            "Round 5: 100%|██████████| 120/120 [00:55<00:00,  2.15it/s]\n"
          ]
        },
        {
          "metadata": {
            "tags": null
          },
          "name": "stdout",
          "output_type": "stream",
          "text": [
            "Combined plots saved to /content/drive/My Drive/mars_images/synth_rock_fields_vs_real_layer_sediments_metric_sensitivity.png\n",
            "Evaluating synthetic class 'craters' against real class 'layer_sediments'...\n",
            "Processing Round 1/5 comparing synthetic craters to real layer_sediments...\n"
          ]
        },
        {
          "metadata": {
            "tags": null
          },
          "name": "stderr",
          "output_type": "stream",
          "text": [
            "Round 1: 100%|██████████| 161/161 [01:21<00:00,  1.99it/s]\n"
          ]
        },
        {
          "metadata": {
            "tags": null
          },
          "name": "stdout",
          "output_type": "stream",
          "text": [
            "Processing Round 2/5 comparing synthetic craters to real layer_sediments...\n"
          ]
        },
        {
          "metadata": {
            "tags": null
          },
          "name": "stderr",
          "output_type": "stream",
          "text": [
            "Round 2: 100%|██████████| 161/161 [01:21<00:00,  1.97it/s]\n"
          ]
        },
        {
          "metadata": {
            "tags": null
          },
          "name": "stdout",
          "output_type": "stream",
          "text": [
            "Processing Round 3/5 comparing synthetic craters to real layer_sediments...\n"
          ]
        },
        {
          "metadata": {
            "tags": null
          },
          "name": "stderr",
          "output_type": "stream",
          "text": [
            "Round 3: 100%|██████████| 161/161 [01:13<00:00,  2.19it/s]\n"
          ]
        },
        {
          "metadata": {
            "tags": null
          },
          "name": "stdout",
          "output_type": "stream",
          "text": [
            "Processing Round 4/5 comparing synthetic craters to real layer_sediments...\n"
          ]
        },
        {
          "metadata": {
            "tags": null
          },
          "name": "stderr",
          "output_type": "stream",
          "text": [
            "Round 4: 100%|██████████| 161/161 [01:12<00:00,  2.23it/s]\n"
          ]
        },
        {
          "metadata": {
            "tags": null
          },
          "name": "stdout",
          "output_type": "stream",
          "text": [
            "Processing Round 5/5 comparing synthetic craters to real layer_sediments...\n"
          ]
        },
        {
          "metadata": {
            "tags": null
          },
          "name": "stderr",
          "output_type": "stream",
          "text": [
            "Round 5: 100%|██████████| 161/161 [01:19<00:00,  2.04it/s]\n"
          ]
        },
        {
          "metadata": {
            "tags": null
          },
          "name": "stdout",
          "output_type": "stream",
          "text": [
            "Combined plots saved to /content/drive/My Drive/mars_images/synth_craters_vs_real_layer_sediments_metric_sensitivity.png\n",
            "Evaluating synthetic class 'volcanic_plains_lava_flows' against real class 'layer_sediments'...\n",
            "Processing Round 1/5 comparing synthetic volcanic_plains_lava_flows to real layer_sediments...\n"
          ]
        },
        {
          "metadata": {
            "tags": null
          },
          "name": "stderr",
          "output_type": "stream",
          "text": [
            "Round 1: 100%|██████████| 76/76 [00:35<00:00,  2.12it/s]\n"
          ]
        },
        {
          "metadata": {
            "tags": null
          },
          "name": "stdout",
          "output_type": "stream",
          "text": [
            "Processing Round 2/5 comparing synthetic volcanic_plains_lava_flows to real layer_sediments...\n"
          ]
        },
        {
          "metadata": {
            "tags": null
          },
          "name": "stderr",
          "output_type": "stream",
          "text": [
            "Round 2: 100%|██████████| 76/76 [00:37<00:00,  2.01it/s]\n"
          ]
        },
        {
          "metadata": {
            "tags": null
          },
          "name": "stdout",
          "output_type": "stream",
          "text": [
            "Processing Round 3/5 comparing synthetic volcanic_plains_lava_flows to real layer_sediments...\n"
          ]
        },
        {
          "metadata": {
            "tags": null
          },
          "name": "stderr",
          "output_type": "stream",
          "text": [
            "Round 3: 100%|██████████| 76/76 [00:34<00:00,  2.18it/s]\n"
          ]
        },
        {
          "metadata": {
            "tags": null
          },
          "name": "stdout",
          "output_type": "stream",
          "text": [
            "Processing Round 4/5 comparing synthetic volcanic_plains_lava_flows to real layer_sediments...\n"
          ]
        },
        {
          "metadata": {
            "tags": null
          },
          "name": "stderr",
          "output_type": "stream",
          "text": [
            "Round 4: 100%|██████████| 76/76 [00:32<00:00,  2.37it/s]\n"
          ]
        },
        {
          "metadata": {
            "tags": null
          },
          "name": "stdout",
          "output_type": "stream",
          "text": [
            "Processing Round 5/5 comparing synthetic volcanic_plains_lava_flows to real layer_sediments...\n"
          ]
        },
        {
          "metadata": {
            "tags": null
          },
          "name": "stderr",
          "output_type": "stream",
          "text": [
            "Round 5: 100%|██████████| 76/76 [00:38<00:00,  1.98it/s]\n"
          ]
        },
        {
          "metadata": {
            "tags": null
          },
          "name": "stdout",
          "output_type": "stream",
          "text": [
            "Combined plots saved to /content/drive/My Drive/mars_images/synth_volcanic_plains_lava_flows_vs_real_layer_sediments_metric_sensitivity.png\n",
            "Evaluating synthetic class 'sand_dunes' against real class 'layer_sediments'...\n",
            "Processing Round 1/5 comparing synthetic sand_dunes to real layer_sediments...\n"
          ]
        },
        {
          "metadata": {
            "tags": null
          },
          "name": "stderr",
          "output_type": "stream",
          "text": [
            "Round 1: 100%|██████████| 48/48 [00:24<00:00,  1.99it/s]\n"
          ]
        },
        {
          "metadata": {
            "tags": null
          },
          "name": "stdout",
          "output_type": "stream",
          "text": [
            "Processing Round 2/5 comparing synthetic sand_dunes to real layer_sediments...\n"
          ]
        },
        {
          "metadata": {
            "tags": null
          },
          "name": "stderr",
          "output_type": "stream",
          "text": [
            "Round 2: 100%|██████████| 48/48 [00:24<00:00,  1.98it/s]\n"
          ]
        },
        {
          "metadata": {
            "tags": null
          },
          "name": "stdout",
          "output_type": "stream",
          "text": [
            "Processing Round 3/5 comparing synthetic sand_dunes to real layer_sediments...\n"
          ]
        },
        {
          "metadata": {
            "tags": null
          },
          "name": "stderr",
          "output_type": "stream",
          "text": [
            "Round 3: 100%|██████████| 48/48 [00:22<00:00,  2.18it/s]\n"
          ]
        },
        {
          "metadata": {
            "tags": null
          },
          "name": "stdout",
          "output_type": "stream",
          "text": [
            "Processing Round 4/5 comparing synthetic sand_dunes to real layer_sediments...\n"
          ]
        },
        {
          "metadata": {
            "tags": null
          },
          "name": "stderr",
          "output_type": "stream",
          "text": [
            "Round 4: 100%|██████████| 48/48 [00:21<00:00,  2.20it/s]\n"
          ]
        },
        {
          "metadata": {
            "tags": null
          },
          "name": "stdout",
          "output_type": "stream",
          "text": [
            "Processing Round 5/5 comparing synthetic sand_dunes to real layer_sediments...\n"
          ]
        },
        {
          "metadata": {
            "tags": null
          },
          "name": "stderr",
          "output_type": "stream",
          "text": [
            "Round 5: 100%|██████████| 48/48 [00:22<00:00,  2.14it/s]\n"
          ]
        },
        {
          "metadata": {
            "tags": null
          },
          "name": "stdout",
          "output_type": "stream",
          "text": [
            "Combined plots saved to /content/drive/My Drive/mars_images/synth_sand_dunes_vs_real_layer_sediments_metric_sensitivity.png\n",
            "Evaluating synthetic class 'subsurface_cave' against real class 'layer_sediments'...\n",
            "Processing Round 1/5 comparing synthetic subsurface_cave to real layer_sediments...\n"
          ]
        },
        {
          "metadata": {
            "tags": null
          },
          "name": "stderr",
          "output_type": "stream",
          "text": [
            "Round 1: 100%|██████████| 78/78 [00:38<00:00,  2.02it/s]\n"
          ]
        },
        {
          "metadata": {
            "tags": null
          },
          "name": "stdout",
          "output_type": "stream",
          "text": [
            "Processing Round 2/5 comparing synthetic subsurface_cave to real layer_sediments...\n"
          ]
        },
        {
          "metadata": {
            "tags": null
          },
          "name": "stderr",
          "output_type": "stream",
          "text": [
            "Round 2: 100%|██████████| 78/78 [00:38<00:00,  2.02it/s]\n"
          ]
        },
        {
          "metadata": {
            "tags": null
          },
          "name": "stdout",
          "output_type": "stream",
          "text": [
            "Processing Round 3/5 comparing synthetic subsurface_cave to real layer_sediments...\n"
          ]
        },
        {
          "metadata": {
            "tags": null
          },
          "name": "stderr",
          "output_type": "stream",
          "text": [
            "Round 3: 100%|██████████| 78/78 [00:33<00:00,  2.33it/s]\n"
          ]
        },
        {
          "metadata": {
            "tags": null
          },
          "name": "stdout",
          "output_type": "stream",
          "text": [
            "Processing Round 4/5 comparing synthetic subsurface_cave to real layer_sediments...\n"
          ]
        },
        {
          "metadata": {
            "tags": null
          },
          "name": "stderr",
          "output_type": "stream",
          "text": [
            "Round 4: 100%|██████████| 78/78 [00:33<00:00,  2.35it/s]\n"
          ]
        },
        {
          "metadata": {
            "tags": null
          },
          "name": "stdout",
          "output_type": "stream",
          "text": [
            "Processing Round 5/5 comparing synthetic subsurface_cave to real layer_sediments...\n"
          ]
        },
        {
          "metadata": {
            "tags": null
          },
          "name": "stderr",
          "output_type": "stream",
          "text": [
            "Round 5: 100%|██████████| 78/78 [00:38<00:00,  2.04it/s]\n"
          ]
        },
        {
          "metadata": {
            "tags": null
          },
          "name": "stdout",
          "output_type": "stream",
          "text": [
            "Combined plots saved to /content/drive/My Drive/mars_images/synth_subsurface_cave_vs_real_layer_sediments_metric_sensitivity.png\n",
            "Evaluating synthetic class 'cliffs' against real class 'rock_fields'...\n",
            "Processing Round 1/5 comparing synthetic cliffs to real rock_fields...\n"
          ]
        },
        {
          "metadata": {
            "tags": null
          },
          "name": "stderr",
          "output_type": "stream",
          "text": [
            "Round 1: 100%|██████████| 54/54 [00:21<00:00,  2.54it/s]\n"
          ]
        },
        {
          "metadata": {
            "tags": null
          },
          "name": "stdout",
          "output_type": "stream",
          "text": [
            "Processing Round 2/5 comparing synthetic cliffs to real rock_fields...\n"
          ]
        },
        {
          "metadata": {
            "tags": null
          },
          "name": "stderr",
          "output_type": "stream",
          "text": [
            "Round 2: 100%|██████████| 54/54 [00:24<00:00,  2.21it/s]\n"
          ]
        },
        {
          "metadata": {
            "tags": null
          },
          "name": "stdout",
          "output_type": "stream",
          "text": [
            "Processing Round 3/5 comparing synthetic cliffs to real rock_fields...\n"
          ]
        },
        {
          "metadata": {
            "tags": null
          },
          "name": "stderr",
          "output_type": "stream",
          "text": [
            "Round 3: 100%|██████████| 54/54 [00:29<00:00,  1.86it/s]\n"
          ]
        },
        {
          "metadata": {
            "tags": null
          },
          "name": "stdout",
          "output_type": "stream",
          "text": [
            "Processing Round 4/5 comparing synthetic cliffs to real rock_fields...\n"
          ]
        },
        {
          "metadata": {
            "tags": null
          },
          "name": "stderr",
          "output_type": "stream",
          "text": [
            "Round 4: 100%|██████████| 54/54 [00:09<00:00,  5.52it/s]\n"
          ]
        },
        {
          "metadata": {
            "tags": null
          },
          "name": "stdout",
          "output_type": "stream",
          "text": [
            "Processing Round 5/5 comparing synthetic cliffs to real rock_fields...\n"
          ]
        },
        {
          "metadata": {
            "tags": null
          },
          "name": "stderr",
          "output_type": "stream",
          "text": [
            "Round 5: 100%|██████████| 54/54 [00:21<00:00,  2.46it/s]\n"
          ]
        },
        {
          "metadata": {
            "tags": null
          },
          "name": "stdout",
          "output_type": "stream",
          "text": [
            "Combined plots saved to /content/drive/My Drive/mars_images/synth_cliffs_vs_real_rock_fields_metric_sensitivity.png\n",
            "Evaluating synthetic class 'ridges' against real class 'rock_fields'...\n",
            "Processing Round 1/5 comparing synthetic ridges to real rock_fields...\n"
          ]
        },
        {
          "metadata": {
            "tags": null
          },
          "name": "stderr",
          "output_type": "stream",
          "text": [
            "Round 1: 100%|██████████| 115/115 [00:47<00:00,  2.43it/s]\n"
          ]
        },
        {
          "metadata": {
            "tags": null
          },
          "name": "stdout",
          "output_type": "stream",
          "text": [
            "Processing Round 2/5 comparing synthetic ridges to real rock_fields...\n"
          ]
        },
        {
          "metadata": {
            "tags": null
          },
          "name": "stderr",
          "output_type": "stream",
          "text": [
            "Round 2: 100%|██████████| 115/115 [00:49<00:00,  2.30it/s]\n"
          ]
        },
        {
          "metadata": {
            "tags": null
          },
          "name": "stdout",
          "output_type": "stream",
          "text": [
            "Processing Round 3/5 comparing synthetic ridges to real rock_fields...\n"
          ]
        },
        {
          "metadata": {
            "tags": null
          },
          "name": "stderr",
          "output_type": "stream",
          "text": [
            "Round 3: 100%|██████████| 115/115 [00:56<00:00,  2.05it/s]\n"
          ]
        },
        {
          "metadata": {
            "tags": null
          },
          "name": "stdout",
          "output_type": "stream",
          "text": [
            "Processing Round 4/5 comparing synthetic ridges to real rock_fields...\n"
          ]
        },
        {
          "metadata": {
            "tags": null
          },
          "name": "stderr",
          "output_type": "stream",
          "text": [
            "Round 4: 100%|██████████| 115/115 [00:26<00:00,  4.29it/s]\n"
          ]
        },
        {
          "metadata": {
            "tags": null
          },
          "name": "stdout",
          "output_type": "stream",
          "text": [
            "Processing Round 5/5 comparing synthetic ridges to real rock_fields...\n"
          ]
        },
        {
          "metadata": {
            "tags": null
          },
          "name": "stderr",
          "output_type": "stream",
          "text": [
            "Round 5: 100%|██████████| 115/115 [00:47<00:00,  2.43it/s]\n"
          ]
        },
        {
          "metadata": {
            "tags": null
          },
          "name": "stdout",
          "output_type": "stream",
          "text": [
            "Combined plots saved to /content/drive/My Drive/mars_images/synth_ridges_vs_real_rock_fields_metric_sensitivity.png\n",
            "Evaluating synthetic class 'layer_sediments' against real class 'rock_fields'...\n",
            "Processing Round 1/5 comparing synthetic layer_sediments to real rock_fields...\n"
          ]
        },
        {
          "metadata": {
            "tags": null
          },
          "name": "stderr",
          "output_type": "stream",
          "text": [
            "Round 1: 100%|██████████| 82/82 [00:32<00:00,  2.55it/s]\n"
          ]
        },
        {
          "metadata": {
            "tags": null
          },
          "name": "stdout",
          "output_type": "stream",
          "text": [
            "Processing Round 2/5 comparing synthetic layer_sediments to real rock_fields...\n"
          ]
        },
        {
          "metadata": {
            "tags": null
          },
          "name": "stderr",
          "output_type": "stream",
          "text": [
            "Round 2: 100%|██████████| 82/82 [00:36<00:00,  2.25it/s]\n"
          ]
        },
        {
          "metadata": {
            "tags": null
          },
          "name": "stdout",
          "output_type": "stream",
          "text": [
            "Processing Round 3/5 comparing synthetic layer_sediments to real rock_fields...\n"
          ]
        },
        {
          "metadata": {
            "tags": null
          },
          "name": "stderr",
          "output_type": "stream",
          "text": [
            "Round 3: 100%|██████████| 82/82 [00:40<00:00,  2.04it/s]\n"
          ]
        },
        {
          "metadata": {
            "tags": null
          },
          "name": "stdout",
          "output_type": "stream",
          "text": [
            "Processing Round 4/5 comparing synthetic layer_sediments to real rock_fields...\n"
          ]
        },
        {
          "metadata": {
            "tags": null
          },
          "name": "stderr",
          "output_type": "stream",
          "text": [
            "Round 4: 100%|██████████| 82/82 [00:17<00:00,  4.63it/s]\n"
          ]
        },
        {
          "metadata": {
            "tags": null
          },
          "name": "stdout",
          "output_type": "stream",
          "text": [
            "Processing Round 5/5 comparing synthetic layer_sediments to real rock_fields...\n"
          ]
        },
        {
          "metadata": {
            "tags": null
          },
          "name": "stderr",
          "output_type": "stream",
          "text": [
            "Round 5: 100%|██████████| 82/82 [00:33<00:00,  2.45it/s]\n"
          ]
        },
        {
          "metadata": {
            "tags": null
          },
          "name": "stdout",
          "output_type": "stream",
          "text": [
            "Combined plots saved to /content/drive/My Drive/mars_images/synth_layer_sediments_vs_real_rock_fields_metric_sensitivity.png\n",
            "Evaluating synthetic class 'rock_fields' against real class 'rock_fields'...\n",
            "Processing Round 1/5 comparing synthetic rock_fields to real rock_fields...\n"
          ]
        },
        {
          "metadata": {
            "tags": null
          },
          "name": "stderr",
          "output_type": "stream",
          "text": [
            "Round 1: 100%|██████████| 120/120 [00:46<00:00,  2.58it/s]\n"
          ]
        },
        {
          "metadata": {
            "tags": null
          },
          "name": "stdout",
          "output_type": "stream",
          "text": [
            "Processing Round 2/5 comparing synthetic rock_fields to real rock_fields...\n"
          ]
        },
        {
          "metadata": {
            "tags": null
          },
          "name": "stderr",
          "output_type": "stream",
          "text": [
            "Round 2: 100%|██████████| 120/120 [00:51<00:00,  2.33it/s]\n"
          ]
        },
        {
          "metadata": {
            "tags": null
          },
          "name": "stdout",
          "output_type": "stream",
          "text": [
            "Processing Round 3/5 comparing synthetic rock_fields to real rock_fields...\n"
          ]
        },
        {
          "metadata": {
            "tags": null
          },
          "name": "stderr",
          "output_type": "stream",
          "text": [
            "Round 3: 100%|██████████| 120/120 [00:58<00:00,  2.06it/s]\n"
          ]
        },
        {
          "metadata": {
            "tags": null
          },
          "name": "stdout",
          "output_type": "stream",
          "text": [
            "Processing Round 4/5 comparing synthetic rock_fields to real rock_fields...\n"
          ]
        },
        {
          "metadata": {
            "tags": null
          },
          "name": "stderr",
          "output_type": "stream",
          "text": [
            "Round 4: 100%|██████████| 120/120 [00:26<00:00,  4.49it/s]\n"
          ]
        },
        {
          "metadata": {
            "tags": null
          },
          "name": "stdout",
          "output_type": "stream",
          "text": [
            "Processing Round 5/5 comparing synthetic rock_fields to real rock_fields...\n"
          ]
        },
        {
          "metadata": {
            "tags": null
          },
          "name": "stderr",
          "output_type": "stream",
          "text": [
            "Round 5: 100%|██████████| 120/120 [00:48<00:00,  2.46it/s]\n"
          ]
        },
        {
          "metadata": {
            "tags": null
          },
          "name": "stdout",
          "output_type": "stream",
          "text": [
            "Combined plots saved to /content/drive/My Drive/mars_images/synth_rock_fields_vs_real_rock_fields_metric_sensitivity.png\n",
            "Evaluating synthetic class 'craters' against real class 'rock_fields'...\n",
            "Processing Round 1/5 comparing synthetic craters to real rock_fields...\n"
          ]
        },
        {
          "metadata": {
            "tags": null
          },
          "name": "stderr",
          "output_type": "stream",
          "text": [
            "Round 1: 100%|██████████| 161/161 [01:10<00:00,  2.30it/s]\n"
          ]
        },
        {
          "metadata": {
            "tags": null
          },
          "name": "stdout",
          "output_type": "stream",
          "text": [
            "Processing Round 2/5 comparing synthetic craters to real rock_fields...\n"
          ]
        },
        {
          "metadata": {
            "tags": null
          },
          "name": "stderr",
          "output_type": "stream",
          "text": [
            "Round 2: 100%|██████████| 161/161 [01:14<00:00,  2.17it/s]\n"
          ]
        },
        {
          "metadata": {
            "tags": null
          },
          "name": "stdout",
          "output_type": "stream",
          "text": [
            "Processing Round 3/5 comparing synthetic craters to real rock_fields...\n"
          ]
        },
        {
          "metadata": {
            "tags": null
          },
          "name": "stderr",
          "output_type": "stream",
          "text": [
            "Round 3: 100%|██████████| 161/161 [01:24<00:00,  1.90it/s]\n"
          ]
        },
        {
          "metadata": {
            "tags": null
          },
          "name": "stdout",
          "output_type": "stream",
          "text": [
            "Processing Round 4/5 comparing synthetic craters to real rock_fields...\n"
          ]
        },
        {
          "metadata": {
            "tags": null
          },
          "name": "stderr",
          "output_type": "stream",
          "text": [
            "Round 4: 100%|██████████| 161/161 [00:33<00:00,  4.85it/s]\n"
          ]
        },
        {
          "metadata": {
            "tags": null
          },
          "name": "stdout",
          "output_type": "stream",
          "text": [
            "Processing Round 5/5 comparing synthetic craters to real rock_fields...\n"
          ]
        },
        {
          "metadata": {
            "tags": null
          },
          "name": "stderr",
          "output_type": "stream",
          "text": [
            "Round 5: 100%|██████████| 161/161 [01:06<00:00,  2.43it/s]\n"
          ]
        },
        {
          "metadata": {
            "tags": null
          },
          "name": "stdout",
          "output_type": "stream",
          "text": [
            "Combined plots saved to /content/drive/My Drive/mars_images/synth_craters_vs_real_rock_fields_metric_sensitivity.png\n",
            "Evaluating synthetic class 'volcanic_plains_lava_flows' against real class 'rock_fields'...\n",
            "Processing Round 1/5 comparing synthetic volcanic_plains_lava_flows to real rock_fields...\n"
          ]
        },
        {
          "metadata": {
            "tags": null
          },
          "name": "stderr",
          "output_type": "stream",
          "text": [
            "Round 1: 100%|██████████| 76/76 [00:31<00:00,  2.40it/s]\n"
          ]
        },
        {
          "metadata": {
            "tags": null
          },
          "name": "stdout",
          "output_type": "stream",
          "text": [
            "Processing Round 2/5 comparing synthetic volcanic_plains_lava_flows to real rock_fields...\n"
          ]
        },
        {
          "metadata": {
            "tags": null
          },
          "name": "stderr",
          "output_type": "stream",
          "text": [
            "Round 2: 100%|██████████| 76/76 [00:33<00:00,  2.27it/s]\n"
          ]
        },
        {
          "metadata": {
            "tags": null
          },
          "name": "stdout",
          "output_type": "stream",
          "text": [
            "Processing Round 3/5 comparing synthetic volcanic_plains_lava_flows to real rock_fields...\n"
          ]
        },
        {
          "metadata": {
            "tags": null
          },
          "name": "stderr",
          "output_type": "stream",
          "text": [
            "Round 3: 100%|██████████| 76/76 [00:40<00:00,  1.89it/s]\n"
          ]
        },
        {
          "metadata": {
            "tags": null
          },
          "name": "stdout",
          "output_type": "stream",
          "text": [
            "Processing Round 4/5 comparing synthetic volcanic_plains_lava_flows to real rock_fields...\n"
          ]
        },
        {
          "metadata": {
            "tags": null
          },
          "name": "stderr",
          "output_type": "stream",
          "text": [
            "Round 4: 100%|██████████| 76/76 [00:14<00:00,  5.36it/s]\n"
          ]
        },
        {
          "metadata": {
            "tags": null
          },
          "name": "stdout",
          "output_type": "stream",
          "text": [
            "Processing Round 5/5 comparing synthetic volcanic_plains_lava_flows to real rock_fields...\n"
          ]
        },
        {
          "metadata": {
            "tags": null
          },
          "name": "stderr",
          "output_type": "stream",
          "text": [
            "Round 5: 100%|██████████| 76/76 [00:29<00:00,  2.54it/s]\n"
          ]
        },
        {
          "metadata": {
            "tags": null
          },
          "name": "stdout",
          "output_type": "stream",
          "text": [
            "Combined plots saved to /content/drive/My Drive/mars_images/synth_volcanic_plains_lava_flows_vs_real_rock_fields_metric_sensitivity.png\n",
            "Evaluating synthetic class 'sand_dunes' against real class 'rock_fields'...\n",
            "Processing Round 1/5 comparing synthetic sand_dunes to real rock_fields...\n"
          ]
        },
        {
          "metadata": {
            "tags": null
          },
          "name": "stderr",
          "output_type": "stream",
          "text": [
            "Round 1: 100%|██████████| 48/48 [00:19<00:00,  2.49it/s]\n"
          ]
        },
        {
          "metadata": {
            "tags": null
          },
          "name": "stdout",
          "output_type": "stream",
          "text": [
            "Processing Round 2/5 comparing synthetic sand_dunes to real rock_fields...\n"
          ]
        },
        {
          "metadata": {
            "tags": null
          },
          "name": "stderr",
          "output_type": "stream",
          "text": [
            "Round 2: 100%|██████████| 48/48 [00:21<00:00,  2.21it/s]\n"
          ]
        },
        {
          "metadata": {
            "tags": null
          },
          "name": "stdout",
          "output_type": "stream",
          "text": [
            "Processing Round 3/5 comparing synthetic sand_dunes to real rock_fields...\n"
          ]
        },
        {
          "metadata": {
            "tags": null
          },
          "name": "stderr",
          "output_type": "stream",
          "text": [
            "Round 3: 100%|██████████| 48/48 [00:23<00:00,  2.04it/s]\n"
          ]
        },
        {
          "metadata": {
            "tags": null
          },
          "name": "stdout",
          "output_type": "stream",
          "text": [
            "Processing Round 4/5 comparing synthetic sand_dunes to real rock_fields...\n"
          ]
        },
        {
          "metadata": {
            "tags": null
          },
          "name": "stderr",
          "output_type": "stream",
          "text": [
            "Round 4: 100%|██████████| 48/48 [00:09<00:00,  5.19it/s]\n"
          ]
        },
        {
          "metadata": {
            "tags": null
          },
          "name": "stdout",
          "output_type": "stream",
          "text": [
            "Processing Round 5/5 comparing synthetic sand_dunes to real rock_fields...\n"
          ]
        },
        {
          "metadata": {
            "tags": null
          },
          "name": "stderr",
          "output_type": "stream",
          "text": [
            "Round 5: 100%|██████████| 48/48 [00:19<00:00,  2.45it/s]\n"
          ]
        },
        {
          "metadata": {
            "tags": null
          },
          "name": "stdout",
          "output_type": "stream",
          "text": [
            "Combined plots saved to /content/drive/My Drive/mars_images/synth_sand_dunes_vs_real_rock_fields_metric_sensitivity.png\n",
            "Evaluating synthetic class 'subsurface_cave' against real class 'rock_fields'...\n",
            "Processing Round 1/5 comparing synthetic subsurface_cave to real rock_fields...\n"
          ]
        },
        {
          "metadata": {
            "tags": null
          },
          "name": "stderr",
          "output_type": "stream",
          "text": [
            "Round 1: 100%|██████████| 78/78 [00:32<00:00,  2.41it/s]\n"
          ]
        },
        {
          "metadata": {
            "tags": null
          },
          "name": "stdout",
          "output_type": "stream",
          "text": [
            "Processing Round 2/5 comparing synthetic subsurface_cave to real rock_fields...\n"
          ]
        },
        {
          "metadata": {
            "tags": null
          },
          "name": "stderr",
          "output_type": "stream",
          "text": [
            "Round 2: 100%|██████████| 78/78 [00:36<00:00,  2.16it/s]\n"
          ]
        },
        {
          "metadata": {
            "tags": null
          },
          "name": "stdout",
          "output_type": "stream",
          "text": [
            "Processing Round 3/5 comparing synthetic subsurface_cave to real rock_fields...\n"
          ]
        },
        {
          "metadata": {
            "tags": null
          },
          "name": "stderr",
          "output_type": "stream",
          "text": [
            "Round 3: 100%|██████████| 78/78 [00:39<00:00,  1.95it/s]\n"
          ]
        },
        {
          "metadata": {
            "tags": null
          },
          "name": "stdout",
          "output_type": "stream",
          "text": [
            "Processing Round 4/5 comparing synthetic subsurface_cave to real rock_fields...\n"
          ]
        },
        {
          "metadata": {
            "tags": null
          },
          "name": "stderr",
          "output_type": "stream",
          "text": [
            "Round 4: 100%|██████████| 78/78 [00:14<00:00,  5.44it/s]\n"
          ]
        },
        {
          "metadata": {
            "tags": null
          },
          "name": "stdout",
          "output_type": "stream",
          "text": [
            "Processing Round 5/5 comparing synthetic subsurface_cave to real rock_fields...\n"
          ]
        },
        {
          "metadata": {
            "tags": null
          },
          "name": "stderr",
          "output_type": "stream",
          "text": [
            "Round 5: 100%|██████████| 78/78 [00:30<00:00,  2.58it/s]\n"
          ]
        },
        {
          "metadata": {
            "tags": null
          },
          "name": "stdout",
          "output_type": "stream",
          "text": [
            "Combined plots saved to /content/drive/My Drive/mars_images/synth_subsurface_cave_vs_real_rock_fields_metric_sensitivity.png\n",
            "Evaluating synthetic class 'cliffs' against real class 'craters'...\n",
            "Processing Round 1/5 comparing synthetic cliffs to real craters...\n"
          ]
        },
        {
          "metadata": {
            "tags": null
          },
          "name": "stderr",
          "output_type": "stream",
          "text": [
            "Round 1: 100%|██████████| 54/54 [00:25<00:00,  2.12it/s]\n"
          ]
        },
        {
          "metadata": {
            "tags": null
          },
          "name": "stdout",
          "output_type": "stream",
          "text": [
            "Processing Round 2/5 comparing synthetic cliffs to real craters...\n"
          ]
        },
        {
          "metadata": {
            "tags": null
          },
          "name": "stderr",
          "output_type": "stream",
          "text": [
            "Round 2: 100%|██████████| 54/54 [00:25<00:00,  2.11it/s]\n"
          ]
        },
        {
          "metadata": {
            "tags": null
          },
          "name": "stdout",
          "output_type": "stream",
          "text": [
            "Processing Round 3/5 comparing synthetic cliffs to real craters...\n"
          ]
        },
        {
          "metadata": {
            "tags": null
          },
          "name": "stderr",
          "output_type": "stream",
          "text": [
            "Round 3: 100%|██████████| 54/54 [00:26<00:00,  2.06it/s]\n"
          ]
        },
        {
          "metadata": {
            "tags": null
          },
          "name": "stdout",
          "output_type": "stream",
          "text": [
            "Processing Round 4/5 comparing synthetic cliffs to real craters...\n"
          ]
        },
        {
          "metadata": {
            "tags": null
          },
          "name": "stderr",
          "output_type": "stream",
          "text": [
            "Round 4: 100%|██████████| 54/54 [00:26<00:00,  2.02it/s]\n"
          ]
        },
        {
          "metadata": {
            "tags": null
          },
          "name": "stdout",
          "output_type": "stream",
          "text": [
            "Processing Round 5/5 comparing synthetic cliffs to real craters...\n"
          ]
        },
        {
          "metadata": {
            "tags": null
          },
          "name": "stderr",
          "output_type": "stream",
          "text": [
            "Round 5: 100%|██████████| 54/54 [00:24<00:00,  2.18it/s]\n"
          ]
        },
        {
          "metadata": {
            "tags": null
          },
          "name": "stdout",
          "output_type": "stream",
          "text": [
            "Combined plots saved to /content/drive/My Drive/mars_images/synth_cliffs_vs_real_craters_metric_sensitivity.png\n",
            "Evaluating synthetic class 'ridges' against real class 'craters'...\n",
            "Processing Round 1/5 comparing synthetic ridges to real craters...\n"
          ]
        },
        {
          "metadata": {
            "tags": null
          },
          "name": "stderr",
          "output_type": "stream",
          "text": [
            "Round 1: 100%|██████████| 115/115 [00:58<00:00,  1.98it/s]\n"
          ]
        },
        {
          "metadata": {
            "tags": null
          },
          "name": "stdout",
          "output_type": "stream",
          "text": [
            "Processing Round 2/5 comparing synthetic ridges to real craters...\n"
          ]
        },
        {
          "metadata": {
            "tags": null
          },
          "name": "stderr",
          "output_type": "stream",
          "text": [
            "Round 2: 100%|██████████| 115/115 [00:55<00:00,  2.09it/s]\n"
          ]
        },
        {
          "metadata": {
            "tags": null
          },
          "name": "stdout",
          "output_type": "stream",
          "text": [
            "Processing Round 3/5 comparing synthetic ridges to real craters...\n"
          ]
        },
        {
          "metadata": {
            "tags": null
          },
          "name": "stderr",
          "output_type": "stream",
          "text": [
            "Round 3: 100%|██████████| 115/115 [01:00<00:00,  1.90it/s]\n"
          ]
        },
        {
          "metadata": {
            "tags": null
          },
          "name": "stdout",
          "output_type": "stream",
          "text": [
            "Processing Round 4/5 comparing synthetic ridges to real craters...\n"
          ]
        },
        {
          "metadata": {
            "tags": null
          },
          "name": "stderr",
          "output_type": "stream",
          "text": [
            "Round 4: 100%|██████████| 115/115 [01:01<00:00,  1.87it/s]\n"
          ]
        },
        {
          "metadata": {
            "tags": null
          },
          "name": "stdout",
          "output_type": "stream",
          "text": [
            "Processing Round 5/5 comparing synthetic ridges to real craters...\n"
          ]
        },
        {
          "metadata": {
            "tags": null
          },
          "name": "stderr",
          "output_type": "stream",
          "text": [
            "Round 5: 100%|██████████| 115/115 [00:55<00:00,  2.08it/s]\n"
          ]
        },
        {
          "metadata": {
            "tags": null
          },
          "name": "stdout",
          "output_type": "stream",
          "text": [
            "Combined plots saved to /content/drive/My Drive/mars_images/synth_ridges_vs_real_craters_metric_sensitivity.png\n",
            "Evaluating synthetic class 'layer_sediments' against real class 'craters'...\n",
            "Processing Round 1/5 comparing synthetic layer_sediments to real craters...\n"
          ]
        },
        {
          "metadata": {
            "tags": null
          },
          "name": "stderr",
          "output_type": "stream",
          "text": [
            "Round 1: 100%|██████████| 82/82 [00:41<00:00,  1.95it/s]\n"
          ]
        },
        {
          "metadata": {
            "tags": null
          },
          "name": "stdout",
          "output_type": "stream",
          "text": [
            "Processing Round 2/5 comparing synthetic layer_sediments to real craters...\n"
          ]
        },
        {
          "metadata": {
            "tags": null
          },
          "name": "stderr",
          "output_type": "stream",
          "text": [
            "Round 2: 100%|██████████| 82/82 [00:39<00:00,  2.06it/s]\n"
          ]
        },
        {
          "metadata": {
            "tags": null
          },
          "name": "stdout",
          "output_type": "stream",
          "text": [
            "Processing Round 3/5 comparing synthetic layer_sediments to real craters...\n"
          ]
        },
        {
          "metadata": {
            "tags": null
          },
          "name": "stderr",
          "output_type": "stream",
          "text": [
            "Round 3: 100%|██████████| 82/82 [00:45<00:00,  1.80it/s]\n"
          ]
        },
        {
          "metadata": {
            "tags": null
          },
          "name": "stdout",
          "output_type": "stream",
          "text": [
            "Processing Round 4/5 comparing synthetic layer_sediments to real craters...\n"
          ]
        },
        {
          "metadata": {
            "tags": null
          },
          "name": "stderr",
          "output_type": "stream",
          "text": [
            "Round 4: 100%|██████████| 82/82 [00:43<00:00,  1.86it/s]\n"
          ]
        },
        {
          "metadata": {
            "tags": null
          },
          "name": "stdout",
          "output_type": "stream",
          "text": [
            "Processing Round 5/5 comparing synthetic layer_sediments to real craters...\n"
          ]
        },
        {
          "metadata": {
            "tags": null
          },
          "name": "stderr",
          "output_type": "stream",
          "text": [
            "Round 5: 100%|██████████| 82/82 [00:39<00:00,  2.09it/s]\n"
          ]
        },
        {
          "metadata": {
            "tags": null
          },
          "name": "stdout",
          "output_type": "stream",
          "text": [
            "Combined plots saved to /content/drive/My Drive/mars_images/synth_layer_sediments_vs_real_craters_metric_sensitivity.png\n",
            "Evaluating synthetic class 'rock_fields' against real class 'craters'...\n",
            "Processing Round 1/5 comparing synthetic rock_fields to real craters...\n"
          ]
        },
        {
          "metadata": {
            "tags": null
          },
          "name": "stderr",
          "output_type": "stream",
          "text": [
            "Round 1: 100%|██████████| 120/120 [00:58<00:00,  2.05it/s]\n"
          ]
        },
        {
          "metadata": {
            "tags": null
          },
          "name": "stdout",
          "output_type": "stream",
          "text": [
            "Processing Round 2/5 comparing synthetic rock_fields to real craters...\n"
          ]
        },
        {
          "metadata": {
            "tags": null
          },
          "name": "stderr",
          "output_type": "stream",
          "text": [
            "Round 2: 100%|██████████| 120/120 [00:57<00:00,  2.07it/s]\n"
          ]
        },
        {
          "metadata": {
            "tags": null
          },
          "name": "stdout",
          "output_type": "stream",
          "text": [
            "Processing Round 3/5 comparing synthetic rock_fields to real craters...\n"
          ]
        },
        {
          "metadata": {
            "tags": null
          },
          "name": "stderr",
          "output_type": "stream",
          "text": [
            "Round 3: 100%|██████████| 120/120 [01:02<00:00,  1.93it/s]\n"
          ]
        },
        {
          "metadata": {
            "tags": null
          },
          "name": "stdout",
          "output_type": "stream",
          "text": [
            "Processing Round 4/5 comparing synthetic rock_fields to real craters...\n"
          ]
        },
        {
          "metadata": {
            "tags": null
          },
          "name": "stderr",
          "output_type": "stream",
          "text": [
            "Round 4: 100%|██████████| 120/120 [01:04<00:00,  1.86it/s]\n"
          ]
        },
        {
          "metadata": {
            "tags": null
          },
          "name": "stdout",
          "output_type": "stream",
          "text": [
            "Processing Round 5/5 comparing synthetic rock_fields to real craters...\n"
          ]
        },
        {
          "metadata": {
            "tags": null
          },
          "name": "stderr",
          "output_type": "stream",
          "text": [
            "Round 5: 100%|██████████| 120/120 [00:52<00:00,  2.27it/s]\n"
          ]
        },
        {
          "metadata": {
            "tags": null
          },
          "name": "stdout",
          "output_type": "stream",
          "text": [
            "Combined plots saved to /content/drive/My Drive/mars_images/synth_rock_fields_vs_real_craters_metric_sensitivity.png\n",
            "Evaluating synthetic class 'craters' against real class 'craters'...\n",
            "Processing Round 1/5 comparing synthetic craters to real craters...\n"
          ]
        },
        {
          "metadata": {
            "tags": null
          },
          "name": "stderr",
          "output_type": "stream",
          "text": [
            "Round 1: 100%|██████████| 161/161 [01:24<00:00,  1.91it/s]\n"
          ]
        },
        {
          "metadata": {
            "tags": null
          },
          "name": "stdout",
          "output_type": "stream",
          "text": [
            "Processing Round 2/5 comparing synthetic craters to real craters...\n"
          ]
        },
        {
          "metadata": {
            "tags": null
          },
          "name": "stderr",
          "output_type": "stream",
          "text": [
            "Round 2: 100%|██████████| 161/161 [01:24<00:00,  1.91it/s]\n"
          ]
        },
        {
          "metadata": {
            "tags": null
          },
          "name": "stdout",
          "output_type": "stream",
          "text": [
            "Processing Round 3/5 comparing synthetic craters to real craters...\n"
          ]
        },
        {
          "metadata": {
            "tags": null
          },
          "name": "stderr",
          "output_type": "stream",
          "text": [
            "Round 3: 100%|██████████| 161/161 [01:26<00:00,  1.85it/s]\n"
          ]
        },
        {
          "metadata": {
            "tags": null
          },
          "name": "stdout",
          "output_type": "stream",
          "text": [
            "Processing Round 4/5 comparing synthetic craters to real craters...\n"
          ]
        },
        {
          "metadata": {
            "tags": null
          },
          "name": "stderr",
          "output_type": "stream",
          "text": [
            "Round 4: 100%|██████████| 161/161 [01:25<00:00,  1.89it/s]\n"
          ]
        },
        {
          "metadata": {
            "tags": null
          },
          "name": "stdout",
          "output_type": "stream",
          "text": [
            "Processing Round 5/5 comparing synthetic craters to real craters...\n"
          ]
        },
        {
          "metadata": {
            "tags": null
          },
          "name": "stderr",
          "output_type": "stream",
          "text": [
            "Round 5: 100%|██████████| 161/161 [01:22<00:00,  1.95it/s]\n"
          ]
        },
        {
          "metadata": {
            "tags": null
          },
          "name": "stdout",
          "output_type": "stream",
          "text": [
            "Combined plots saved to /content/drive/My Drive/mars_images/synth_craters_vs_real_craters_metric_sensitivity.png\n",
            "Evaluating synthetic class 'volcanic_plains_lava_flows' against real class 'craters'...\n",
            "Processing Round 1/5 comparing synthetic volcanic_plains_lava_flows to real craters...\n"
          ]
        },
        {
          "metadata": {
            "tags": null
          },
          "name": "stderr",
          "output_type": "stream",
          "text": [
            "Round 1: 100%|██████████| 76/76 [00:40<00:00,  1.86it/s]\n"
          ]
        },
        {
          "metadata": {
            "tags": null
          },
          "name": "stdout",
          "output_type": "stream",
          "text": [
            "Processing Round 2/5 comparing synthetic volcanic_plains_lava_flows to real craters...\n"
          ]
        },
        {
          "metadata": {
            "tags": null
          },
          "name": "stderr",
          "output_type": "stream",
          "text": [
            "Round 2: 100%|██████████| 76/76 [00:40<00:00,  1.85it/s]\n"
          ]
        },
        {
          "metadata": {
            "tags": null
          },
          "name": "stdout",
          "output_type": "stream",
          "text": [
            "Processing Round 3/5 comparing synthetic volcanic_plains_lava_flows to real craters...\n"
          ]
        },
        {
          "metadata": {
            "tags": null
          },
          "name": "stderr",
          "output_type": "stream",
          "text": [
            "Round 3: 100%|██████████| 76/76 [00:38<00:00,  1.98it/s]\n"
          ]
        },
        {
          "metadata": {
            "tags": null
          },
          "name": "stdout",
          "output_type": "stream",
          "text": [
            "Processing Round 4/5 comparing synthetic volcanic_plains_lava_flows to real craters...\n"
          ]
        },
        {
          "metadata": {
            "tags": null
          },
          "name": "stderr",
          "output_type": "stream",
          "text": [
            "Round 4: 100%|██████████| 76/76 [00:39<00:00,  1.92it/s]\n"
          ]
        },
        {
          "metadata": {
            "tags": null
          },
          "name": "stdout",
          "output_type": "stream",
          "text": [
            "Processing Round 5/5 comparing synthetic volcanic_plains_lava_flows to real craters...\n"
          ]
        },
        {
          "metadata": {
            "tags": null
          },
          "name": "stderr",
          "output_type": "stream",
          "text": [
            "Round 5: 100%|██████████| 76/76 [00:37<00:00,  2.03it/s]\n"
          ]
        },
        {
          "metadata": {
            "tags": null
          },
          "name": "stdout",
          "output_type": "stream",
          "text": [
            "Combined plots saved to /content/drive/My Drive/mars_images/synth_volcanic_plains_lava_flows_vs_real_craters_metric_sensitivity.png\n",
            "Evaluating synthetic class 'sand_dunes' against real class 'craters'...\n",
            "Processing Round 1/5 comparing synthetic sand_dunes to real craters...\n"
          ]
        },
        {
          "metadata": {
            "tags": null
          },
          "name": "stderr",
          "output_type": "stream",
          "text": [
            "Round 1: 100%|██████████| 48/48 [00:26<00:00,  1.82it/s]\n"
          ]
        },
        {
          "metadata": {
            "tags": null
          },
          "name": "stdout",
          "output_type": "stream",
          "text": [
            "Processing Round 2/5 comparing synthetic sand_dunes to real craters...\n"
          ]
        },
        {
          "metadata": {
            "tags": null
          },
          "name": "stderr",
          "output_type": "stream",
          "text": [
            "Round 2: 100%|██████████| 48/48 [00:25<00:00,  1.85it/s]\n"
          ]
        },
        {
          "metadata": {
            "tags": null
          },
          "name": "stdout",
          "output_type": "stream",
          "text": [
            "Processing Round 3/5 comparing synthetic sand_dunes to real craters...\n"
          ]
        },
        {
          "metadata": {
            "tags": null
          },
          "name": "stderr",
          "output_type": "stream",
          "text": [
            "Round 3: 100%|██████████| 48/48 [00:23<00:00,  2.00it/s]\n"
          ]
        },
        {
          "metadata": {
            "tags": null
          },
          "name": "stdout",
          "output_type": "stream",
          "text": [
            "Processing Round 4/5 comparing synthetic sand_dunes to real craters...\n"
          ]
        },
        {
          "metadata": {
            "tags": null
          },
          "name": "stderr",
          "output_type": "stream",
          "text": [
            "Round 4: 100%|██████████| 48/48 [00:25<00:00,  1.90it/s]\n"
          ]
        },
        {
          "metadata": {
            "tags": null
          },
          "name": "stdout",
          "output_type": "stream",
          "text": [
            "Processing Round 5/5 comparing synthetic sand_dunes to real craters...\n"
          ]
        },
        {
          "metadata": {
            "tags": null
          },
          "name": "stderr",
          "output_type": "stream",
          "text": [
            "Round 5: 100%|██████████| 48/48 [00:24<00:00,  1.93it/s]\n"
          ]
        },
        {
          "metadata": {
            "tags": null
          },
          "name": "stdout",
          "output_type": "stream",
          "text": [
            "Combined plots saved to /content/drive/My Drive/mars_images/synth_sand_dunes_vs_real_craters_metric_sensitivity.png\n",
            "Evaluating synthetic class 'subsurface_cave' against real class 'craters'...\n",
            "Processing Round 1/5 comparing synthetic subsurface_cave to real craters...\n"
          ]
        },
        {
          "metadata": {
            "tags": null
          },
          "name": "stderr",
          "output_type": "stream",
          "text": [
            "Round 1: 100%|██████████| 78/78 [00:39<00:00,  1.98it/s]\n"
          ]
        },
        {
          "metadata": {
            "tags": null
          },
          "name": "stdout",
          "output_type": "stream",
          "text": [
            "Processing Round 2/5 comparing synthetic subsurface_cave to real craters...\n"
          ]
        },
        {
          "metadata": {
            "tags": null
          },
          "name": "stderr",
          "output_type": "stream",
          "text": [
            "Round 2: 100%|██████████| 78/78 [00:40<00:00,  1.94it/s]\n"
          ]
        },
        {
          "metadata": {
            "tags": null
          },
          "name": "stdout",
          "output_type": "stream",
          "text": [
            "Processing Round 3/5 comparing synthetic subsurface_cave to real craters...\n"
          ]
        },
        {
          "metadata": {
            "tags": null
          },
          "name": "stderr",
          "output_type": "stream",
          "text": [
            "Round 3: 100%|██████████| 78/78 [00:39<00:00,  1.98it/s]\n"
          ]
        },
        {
          "metadata": {
            "tags": null
          },
          "name": "stdout",
          "output_type": "stream",
          "text": [
            "Processing Round 4/5 comparing synthetic subsurface_cave to real craters...\n"
          ]
        },
        {
          "metadata": {
            "tags": null
          },
          "name": "stderr",
          "output_type": "stream",
          "text": [
            "Round 4: 100%|██████████| 78/78 [00:40<00:00,  1.93it/s]\n"
          ]
        },
        {
          "metadata": {
            "tags": null
          },
          "name": "stdout",
          "output_type": "stream",
          "text": [
            "Processing Round 5/5 comparing synthetic subsurface_cave to real craters...\n"
          ]
        },
        {
          "metadata": {
            "tags": null
          },
          "name": "stderr",
          "output_type": "stream",
          "text": [
            "Round 5: 100%|██████████| 78/78 [00:38<00:00,  2.05it/s]\n"
          ]
        },
        {
          "metadata": {
            "tags": null
          },
          "name": "stdout",
          "output_type": "stream",
          "text": [
            "Combined plots saved to /content/drive/My Drive/mars_images/synth_subsurface_cave_vs_real_craters_metric_sensitivity.png\n",
            "Evaluating synthetic class 'cliffs' against real class 'volcanic_plains_lava_flows'...\n",
            "Processing Round 1/5 comparing synthetic cliffs to real volcanic_plains_lava_flows...\n"
          ]
        },
        {
          "metadata": {
            "tags": null
          },
          "name": "stderr",
          "output_type": "stream",
          "text": [
            "Round 1: 100%|██████████| 54/54 [00:30<00:00,  1.78it/s]\n"
          ]
        },
        {
          "metadata": {
            "tags": null
          },
          "name": "stdout",
          "output_type": "stream",
          "text": [
            "Processing Round 2/5 comparing synthetic cliffs to real volcanic_plains_lava_flows...\n"
          ]
        },
        {
          "metadata": {
            "tags": null
          },
          "name": "stderr",
          "output_type": "stream",
          "text": [
            "Round 2: 100%|██████████| 54/54 [00:21<00:00,  2.52it/s]\n"
          ]
        },
        {
          "metadata": {
            "tags": null
          },
          "name": "stdout",
          "output_type": "stream",
          "text": [
            "Processing Round 3/5 comparing synthetic cliffs to real volcanic_plains_lava_flows...\n"
          ]
        },
        {
          "metadata": {
            "tags": null
          },
          "name": "stderr",
          "output_type": "stream",
          "text": [
            "Round 3: 100%|██████████| 54/54 [00:21<00:00,  2.46it/s]\n"
          ]
        },
        {
          "metadata": {
            "tags": null
          },
          "name": "stdout",
          "output_type": "stream",
          "text": [
            "Processing Round 4/5 comparing synthetic cliffs to real volcanic_plains_lava_flows...\n"
          ]
        },
        {
          "metadata": {
            "tags": null
          },
          "name": "stderr",
          "output_type": "stream",
          "text": [
            "Round 4: 100%|██████████| 54/54 [00:20<00:00,  2.61it/s]\n"
          ]
        },
        {
          "metadata": {
            "tags": null
          },
          "name": "stdout",
          "output_type": "stream",
          "text": [
            "Processing Round 5/5 comparing synthetic cliffs to real volcanic_plains_lava_flows...\n"
          ]
        },
        {
          "metadata": {
            "tags": null
          },
          "name": "stderr",
          "output_type": "stream",
          "text": [
            "Round 5: 100%|██████████| 54/54 [00:28<00:00,  1.88it/s]\n"
          ]
        },
        {
          "metadata": {
            "tags": null
          },
          "name": "stdout",
          "output_type": "stream",
          "text": [
            "Combined plots saved to /content/drive/My Drive/mars_images/synth_cliffs_vs_real_volcanic_plains_lava_flows_metric_sensitivity.png\n",
            "Evaluating synthetic class 'ridges' against real class 'volcanic_plains_lava_flows'...\n",
            "Processing Round 1/5 comparing synthetic ridges to real volcanic_plains_lava_flows...\n"
          ]
        },
        {
          "metadata": {
            "tags": null
          },
          "name": "stderr",
          "output_type": "stream",
          "text": [
            "Round 1: 100%|██████████| 115/115 [01:00<00:00,  1.91it/s]\n"
          ]
        },
        {
          "metadata": {
            "tags": null
          },
          "name": "stdout",
          "output_type": "stream",
          "text": [
            "Processing Round 2/5 comparing synthetic ridges to real volcanic_plains_lava_flows...\n"
          ]
        },
        {
          "metadata": {
            "tags": null
          },
          "name": "stderr",
          "output_type": "stream",
          "text": [
            "Round 2: 100%|██████████| 115/115 [00:41<00:00,  2.76it/s]\n"
          ]
        },
        {
          "metadata": {
            "tags": null
          },
          "name": "stdout",
          "output_type": "stream",
          "text": [
            "Processing Round 3/5 comparing synthetic ridges to real volcanic_plains_lava_flows...\n"
          ]
        },
        {
          "metadata": {
            "tags": null
          },
          "name": "stderr",
          "output_type": "stream",
          "text": [
            "Round 3: 100%|██████████| 115/115 [00:47<00:00,  2.40it/s]\n"
          ]
        },
        {
          "metadata": {
            "tags": null
          },
          "name": "stdout",
          "output_type": "stream",
          "text": [
            "Processing Round 4/5 comparing synthetic ridges to real volcanic_plains_lava_flows...\n"
          ]
        },
        {
          "metadata": {
            "tags": null
          },
          "name": "stderr",
          "output_type": "stream",
          "text": [
            "Round 4: 100%|██████████| 115/115 [00:44<00:00,  2.60it/s]\n"
          ]
        },
        {
          "metadata": {
            "tags": null
          },
          "name": "stdout",
          "output_type": "stream",
          "text": [
            "Processing Round 5/5 comparing synthetic ridges to real volcanic_plains_lava_flows...\n"
          ]
        },
        {
          "metadata": {
            "tags": null
          },
          "name": "stderr",
          "output_type": "stream",
          "text": [
            "Round 5: 100%|██████████| 115/115 [00:58<00:00,  1.96it/s]\n"
          ]
        },
        {
          "metadata": {
            "tags": null
          },
          "name": "stdout",
          "output_type": "stream",
          "text": [
            "Combined plots saved to /content/drive/My Drive/mars_images/synth_ridges_vs_real_volcanic_plains_lava_flows_metric_sensitivity.png\n",
            "Evaluating synthetic class 'layer_sediments' against real class 'volcanic_plains_lava_flows'...\n",
            "Processing Round 1/5 comparing synthetic layer_sediments to real volcanic_plains_lava_flows...\n"
          ]
        },
        {
          "metadata": {
            "tags": null
          },
          "name": "stderr",
          "output_type": "stream",
          "text": [
            "Round 1: 100%|██████████| 82/82 [00:44<00:00,  1.86it/s]\n"
          ]
        },
        {
          "metadata": {
            "tags": null
          },
          "name": "stdout",
          "output_type": "stream",
          "text": [
            "Processing Round 2/5 comparing synthetic layer_sediments to real volcanic_plains_lava_flows...\n"
          ]
        },
        {
          "metadata": {
            "tags": null
          },
          "name": "stderr",
          "output_type": "stream",
          "text": [
            "Round 2: 100%|██████████| 82/82 [00:29<00:00,  2.82it/s]\n"
          ]
        },
        {
          "metadata": {
            "tags": null
          },
          "name": "stdout",
          "output_type": "stream",
          "text": [
            "Processing Round 3/5 comparing synthetic layer_sediments to real volcanic_plains_lava_flows...\n"
          ]
        },
        {
          "metadata": {
            "tags": null
          },
          "name": "stderr",
          "output_type": "stream",
          "text": [
            "Round 3: 100%|██████████| 82/82 [00:34<00:00,  2.40it/s]\n"
          ]
        },
        {
          "metadata": {
            "tags": null
          },
          "name": "stdout",
          "output_type": "stream",
          "text": [
            "Processing Round 4/5 comparing synthetic layer_sediments to real volcanic_plains_lava_flows...\n"
          ]
        },
        {
          "metadata": {
            "tags": null
          },
          "name": "stderr",
          "output_type": "stream",
          "text": [
            "Round 4: 100%|██████████| 82/82 [00:31<00:00,  2.64it/s]\n"
          ]
        },
        {
          "metadata": {
            "tags": null
          },
          "name": "stdout",
          "output_type": "stream",
          "text": [
            "Processing Round 5/5 comparing synthetic layer_sediments to real volcanic_plains_lava_flows...\n"
          ]
        },
        {
          "metadata": {
            "tags": null
          },
          "name": "stderr",
          "output_type": "stream",
          "text": [
            "Round 5: 100%|██████████| 82/82 [00:44<00:00,  1.86it/s]\n"
          ]
        },
        {
          "metadata": {
            "tags": null
          },
          "name": "stdout",
          "output_type": "stream",
          "text": [
            "Combined plots saved to /content/drive/My Drive/mars_images/synth_layer_sediments_vs_real_volcanic_plains_lava_flows_metric_sensitivity.png\n",
            "Evaluating synthetic class 'rock_fields' against real class 'volcanic_plains_lava_flows'...\n",
            "Processing Round 1/5 comparing synthetic rock_fields to real volcanic_plains_lava_flows...\n"
          ]
        },
        {
          "metadata": {
            "tags": null
          },
          "name": "stderr",
          "output_type": "stream",
          "text": [
            "Round 1: 100%|██████████| 120/120 [01:06<00:00,  1.80it/s]\n"
          ]
        },
        {
          "metadata": {
            "tags": null
          },
          "name": "stdout",
          "output_type": "stream",
          "text": [
            "Processing Round 2/5 comparing synthetic rock_fields to real volcanic_plains_lava_flows...\n"
          ]
        },
        {
          "metadata": {
            "tags": null
          },
          "name": "stderr",
          "output_type": "stream",
          "text": [
            "Round 2: 100%|██████████| 120/120 [00:42<00:00,  2.84it/s]\n"
          ]
        },
        {
          "metadata": {
            "tags": null
          },
          "name": "stdout",
          "output_type": "stream",
          "text": [
            "Processing Round 3/5 comparing synthetic rock_fields to real volcanic_plains_lava_flows...\n"
          ]
        },
        {
          "metadata": {
            "tags": null
          },
          "name": "stderr",
          "output_type": "stream",
          "text": [
            "Round 3: 100%|██████████| 120/120 [00:51<00:00,  2.31it/s]\n"
          ]
        },
        {
          "metadata": {
            "tags": null
          },
          "name": "stdout",
          "output_type": "stream",
          "text": [
            "Processing Round 4/5 comparing synthetic rock_fields to real volcanic_plains_lava_flows...\n"
          ]
        },
        {
          "metadata": {
            "tags": null
          },
          "name": "stderr",
          "output_type": "stream",
          "text": [
            "Round 4: 100%|██████████| 120/120 [00:41<00:00,  2.86it/s]\n"
          ]
        },
        {
          "metadata": {
            "tags": null
          },
          "name": "stdout",
          "output_type": "stream",
          "text": [
            "Processing Round 5/5 comparing synthetic rock_fields to real volcanic_plains_lava_flows...\n"
          ]
        },
        {
          "metadata": {
            "tags": null
          },
          "name": "stderr",
          "output_type": "stream",
          "text": [
            "Round 5: 100%|██████████| 120/120 [01:05<00:00,  1.82it/s]\n"
          ]
        },
        {
          "metadata": {
            "tags": null
          },
          "name": "stdout",
          "output_type": "stream",
          "text": [
            "Combined plots saved to /content/drive/My Drive/mars_images/synth_rock_fields_vs_real_volcanic_plains_lava_flows_metric_sensitivity.png\n",
            "Evaluating synthetic class 'craters' against real class 'volcanic_plains_lava_flows'...\n",
            "Processing Round 1/5 comparing synthetic craters to real volcanic_plains_lava_flows...\n"
          ]
        },
        {
          "metadata": {
            "tags": null
          },
          "name": "stderr",
          "output_type": "stream",
          "text": [
            "Round 1: 100%|██████████| 161/161 [01:29<00:00,  1.79it/s]\n"
          ]
        },
        {
          "metadata": {
            "tags": null
          },
          "name": "stdout",
          "output_type": "stream",
          "text": [
            "Processing Round 2/5 comparing synthetic craters to real volcanic_plains_lava_flows...\n"
          ]
        },
        {
          "metadata": {
            "tags": null
          },
          "name": "stderr",
          "output_type": "stream",
          "text": [
            "Round 2: 100%|██████████| 161/161 [01:02<00:00,  2.60it/s]\n"
          ]
        },
        {
          "metadata": {
            "tags": null
          },
          "name": "stdout",
          "output_type": "stream",
          "text": [
            "Processing Round 3/5 comparing synthetic craters to real volcanic_plains_lava_flows...\n"
          ]
        },
        {
          "metadata": {
            "tags": null
          },
          "name": "stderr",
          "output_type": "stream",
          "text": [
            "Round 3: 100%|██████████| 161/161 [01:14<00:00,  2.16it/s]\n"
          ]
        },
        {
          "metadata": {
            "tags": null
          },
          "name": "stdout",
          "output_type": "stream",
          "text": [
            "Processing Round 4/5 comparing synthetic craters to real volcanic_plains_lava_flows...\n"
          ]
        },
        {
          "metadata": {
            "tags": null
          },
          "name": "stderr",
          "output_type": "stream",
          "text": [
            "Round 4: 100%|██████████| 161/161 [01:04<00:00,  2.50it/s]\n"
          ]
        },
        {
          "metadata": {
            "tags": null
          },
          "name": "stdout",
          "output_type": "stream",
          "text": [
            "Processing Round 5/5 comparing synthetic craters to real volcanic_plains_lava_flows...\n"
          ]
        },
        {
          "metadata": {
            "tags": null
          },
          "name": "stderr",
          "output_type": "stream",
          "text": [
            "Round 5: 100%|██████████| 161/161 [01:26<00:00,  1.85it/s]\n"
          ]
        },
        {
          "metadata": {
            "tags": null
          },
          "name": "stdout",
          "output_type": "stream",
          "text": [
            "Combined plots saved to /content/drive/My Drive/mars_images/synth_craters_vs_real_volcanic_plains_lava_flows_metric_sensitivity.png\n",
            "Evaluating synthetic class 'volcanic_plains_lava_flows' against real class 'volcanic_plains_lava_flows'...\n",
            "Processing Round 1/5 comparing synthetic volcanic_plains_lava_flows to real volcanic_plains_lava_flows...\n"
          ]
        },
        {
          "metadata": {
            "tags": null
          },
          "name": "stderr",
          "output_type": "stream",
          "text": [
            "Round 1: 100%|██████████| 76/76 [00:41<00:00,  1.82it/s]\n"
          ]
        },
        {
          "metadata": {
            "tags": null
          },
          "name": "stdout",
          "output_type": "stream",
          "text": [
            "Processing Round 2/5 comparing synthetic volcanic_plains_lava_flows to real volcanic_plains_lava_flows...\n"
          ]
        },
        {
          "metadata": {
            "tags": null
          },
          "name": "stderr",
          "output_type": "stream",
          "text": [
            "Round 2: 100%|██████████| 76/76 [00:28<00:00,  2.68it/s]\n"
          ]
        },
        {
          "metadata": {
            "tags": null
          },
          "name": "stdout",
          "output_type": "stream",
          "text": [
            "Processing Round 3/5 comparing synthetic volcanic_plains_lava_flows to real volcanic_plains_lava_flows...\n"
          ]
        },
        {
          "metadata": {
            "tags": null
          },
          "name": "stderr",
          "output_type": "stream",
          "text": [
            "Round 3: 100%|██████████| 76/76 [00:37<00:00,  2.05it/s]\n"
          ]
        },
        {
          "metadata": {
            "tags": null
          },
          "name": "stdout",
          "output_type": "stream",
          "text": [
            "Processing Round 4/5 comparing synthetic volcanic_plains_lava_flows to real volcanic_plains_lava_flows...\n"
          ]
        },
        {
          "metadata": {
            "tags": null
          },
          "name": "stderr",
          "output_type": "stream",
          "text": [
            "Round 4: 100%|██████████| 76/76 [00:27<00:00,  2.77it/s]\n"
          ]
        },
        {
          "metadata": {
            "tags": null
          },
          "name": "stdout",
          "output_type": "stream",
          "text": [
            "Processing Round 5/5 comparing synthetic volcanic_plains_lava_flows to real volcanic_plains_lava_flows...\n"
          ]
        },
        {
          "output_type": "stream",
          "name": "stderr",
          "text": [
            "Round 5: 100%|██████████| 76/76 [00:39<00:00,  1.95it/s]\n"
          ]
        },
        {
          "output_type": "stream",
          "name": "stdout",
          "text": [
            "Combined plots saved to /content/drive/My Drive/mars_images/synth_volcanic_plains_lava_flows_vs_real_volcanic_plains_lava_flows_metric_sensitivity.png\n",
            "Evaluating synthetic class 'sand_dunes' against real class 'volcanic_plains_lava_flows'...\n",
            "Processing Round 1/5 comparing synthetic sand_dunes to real volcanic_plains_lava_flows...\n"
          ]
        },
        {
          "output_type": "stream",
          "name": "stderr",
          "text": [
            "Round 1: 100%|██████████| 48/48 [00:24<00:00,  1.93it/s]\n"
          ]
        },
        {
          "output_type": "stream",
          "name": "stdout",
          "text": [
            "Processing Round 2/5 comparing synthetic sand_dunes to real volcanic_plains_lava_flows...\n"
          ]
        },
        {
          "output_type": "stream",
          "name": "stderr",
          "text": [
            "Round 2: 100%|██████████| 48/48 [00:19<00:00,  2.50it/s]\n"
          ]
        },
        {
          "output_type": "stream",
          "name": "stdout",
          "text": [
            "Processing Round 3/5 comparing synthetic sand_dunes to real volcanic_plains_lava_flows...\n"
          ]
        },
        {
          "output_type": "stream",
          "name": "stderr",
          "text": [
            "Round 3: 100%|██████████| 48/48 [00:21<00:00,  2.27it/s]\n"
          ]
        },
        {
          "output_type": "stream",
          "name": "stdout",
          "text": [
            "Processing Round 4/5 comparing synthetic sand_dunes to real volcanic_plains_lava_flows...\n"
          ]
        },
        {
          "output_type": "stream",
          "name": "stderr",
          "text": [
            "Round 4: 100%|██████████| 48/48 [00:19<00:00,  2.42it/s]\n"
          ]
        },
        {
          "output_type": "stream",
          "name": "stdout",
          "text": [
            "Processing Round 5/5 comparing synthetic sand_dunes to real volcanic_plains_lava_flows...\n"
          ]
        },
        {
          "output_type": "stream",
          "name": "stderr",
          "text": [
            "Round 5: 100%|██████████| 48/48 [00:25<00:00,  1.89it/s]\n"
          ]
        },
        {
          "output_type": "stream",
          "name": "stdout",
          "text": [
            "Combined plots saved to /content/drive/My Drive/mars_images/synth_sand_dunes_vs_real_volcanic_plains_lava_flows_metric_sensitivity.png\n",
            "Evaluating synthetic class 'subsurface_cave' against real class 'volcanic_plains_lava_flows'...\n",
            "Processing Round 1/5 comparing synthetic subsurface_cave to real volcanic_plains_lava_flows...\n"
          ]
        },
        {
          "output_type": "stream",
          "name": "stderr",
          "text": [
            "Round 1: 100%|██████████| 78/78 [00:42<00:00,  1.83it/s]\n"
          ]
        },
        {
          "output_type": "stream",
          "name": "stdout",
          "text": [
            "Processing Round 2/5 comparing synthetic subsurface_cave to real volcanic_plains_lava_flows...\n"
          ]
        },
        {
          "output_type": "stream",
          "name": "stderr",
          "text": [
            "Round 2: 100%|██████████| 78/78 [00:30<00:00,  2.57it/s]\n"
          ]
        },
        {
          "output_type": "stream",
          "name": "stdout",
          "text": [
            "Processing Round 3/5 comparing synthetic subsurface_cave to real volcanic_plains_lava_flows...\n"
          ]
        },
        {
          "output_type": "stream",
          "name": "stderr",
          "text": [
            "Round 3: 100%|██████████| 78/78 [00:34<00:00,  2.27it/s]\n"
          ]
        },
        {
          "output_type": "stream",
          "name": "stdout",
          "text": [
            "Processing Round 4/5 comparing synthetic subsurface_cave to real volcanic_plains_lava_flows...\n"
          ]
        },
        {
          "output_type": "stream",
          "name": "stderr",
          "text": [
            "Round 4: 100%|██████████| 78/78 [00:29<00:00,  2.63it/s]\n"
          ]
        },
        {
          "output_type": "stream",
          "name": "stdout",
          "text": [
            "Processing Round 5/5 comparing synthetic subsurface_cave to real volcanic_plains_lava_flows...\n"
          ]
        },
        {
          "output_type": "stream",
          "name": "stderr",
          "text": [
            "Round 5: 100%|██████████| 78/78 [00:40<00:00,  1.91it/s]\n"
          ]
        },
        {
          "output_type": "stream",
          "name": "stdout",
          "text": [
            "Combined plots saved to /content/drive/My Drive/mars_images/synth_subsurface_cave_vs_real_volcanic_plains_lava_flows_metric_sensitivity.png\n",
            "Evaluating synthetic class 'cliffs' against real class 'sand_dunes'...\n",
            "Processing Round 1/5 comparing synthetic cliffs to real sand_dunes...\n"
          ]
        },
        {
          "output_type": "stream",
          "name": "stderr",
          "text": [
            "Round 1: 100%|██████████| 54/54 [00:25<00:00,  2.10it/s]\n"
          ]
        },
        {
          "output_type": "stream",
          "name": "stdout",
          "text": [
            "Processing Round 2/5 comparing synthetic cliffs to real sand_dunes...\n"
          ]
        },
        {
          "output_type": "stream",
          "name": "stderr",
          "text": [
            "Round 2: 100%|██████████| 54/54 [00:28<00:00,  1.91it/s]\n"
          ]
        },
        {
          "output_type": "stream",
          "name": "stdout",
          "text": [
            "Processing Round 3/5 comparing synthetic cliffs to real sand_dunes...\n"
          ]
        },
        {
          "output_type": "stream",
          "name": "stderr",
          "text": [
            "Round 3: 100%|██████████| 54/54 [00:27<00:00,  1.97it/s]\n"
          ]
        },
        {
          "output_type": "stream",
          "name": "stdout",
          "text": [
            "Processing Round 4/5 comparing synthetic cliffs to real sand_dunes...\n"
          ]
        },
        {
          "output_type": "stream",
          "name": "stderr",
          "text": [
            "Round 4: 100%|██████████| 54/54 [00:25<00:00,  2.12it/s]\n"
          ]
        },
        {
          "output_type": "stream",
          "name": "stdout",
          "text": [
            "Processing Round 5/5 comparing synthetic cliffs to real sand_dunes...\n"
          ]
        },
        {
          "output_type": "stream",
          "name": "stderr",
          "text": [
            "Round 5: 100%|██████████| 54/54 [00:26<00:00,  2.06it/s]\n"
          ]
        },
        {
          "output_type": "stream",
          "name": "stdout",
          "text": [
            "Combined plots saved to /content/drive/My Drive/mars_images/synth_cliffs_vs_real_sand_dunes_metric_sensitivity.png\n",
            "Evaluating synthetic class 'ridges' against real class 'sand_dunes'...\n",
            "Processing Round 1/5 comparing synthetic ridges to real sand_dunes...\n"
          ]
        },
        {
          "output_type": "stream",
          "name": "stderr",
          "text": [
            "Round 1: 100%|██████████| 115/115 [00:52<00:00,  2.19it/s]\n"
          ]
        },
        {
          "output_type": "stream",
          "name": "stdout",
          "text": [
            "Processing Round 2/5 comparing synthetic ridges to real sand_dunes...\n"
          ]
        },
        {
          "output_type": "stream",
          "name": "stderr",
          "text": [
            "Round 2: 100%|██████████| 115/115 [01:00<00:00,  1.92it/s]\n"
          ]
        },
        {
          "output_type": "stream",
          "name": "stdout",
          "text": [
            "Processing Round 3/5 comparing synthetic ridges to real sand_dunes...\n"
          ]
        },
        {
          "output_type": "stream",
          "name": "stderr",
          "text": [
            "Round 3: 100%|██████████| 115/115 [00:56<00:00,  2.02it/s]\n"
          ]
        },
        {
          "output_type": "stream",
          "name": "stdout",
          "text": [
            "Processing Round 4/5 comparing synthetic ridges to real sand_dunes...\n"
          ]
        },
        {
          "output_type": "stream",
          "name": "stderr",
          "text": [
            "Round 4: 100%|██████████| 115/115 [00:52<00:00,  2.18it/s]\n"
          ]
        },
        {
          "output_type": "stream",
          "name": "stdout",
          "text": [
            "Processing Round 5/5 comparing synthetic ridges to real sand_dunes...\n"
          ]
        },
        {
          "output_type": "stream",
          "name": "stderr",
          "text": [
            "Round 5: 100%|██████████| 115/115 [01:05<00:00,  1.75it/s]\n"
          ]
        },
        {
          "output_type": "stream",
          "name": "stdout",
          "text": [
            "Combined plots saved to /content/drive/My Drive/mars_images/synth_ridges_vs_real_sand_dunes_metric_sensitivity.png\n",
            "Evaluating synthetic class 'layer_sediments' against real class 'sand_dunes'...\n",
            "Processing Round 1/5 comparing synthetic layer_sediments to real sand_dunes...\n"
          ]
        },
        {
          "output_type": "stream",
          "name": "stderr",
          "text": [
            "Round 1: 100%|██████████| 82/82 [00:41<00:00,  1.96it/s]\n"
          ]
        },
        {
          "output_type": "stream",
          "name": "stdout",
          "text": [
            "Processing Round 2/5 comparing synthetic layer_sediments to real sand_dunes...\n"
          ]
        },
        {
          "output_type": "stream",
          "name": "stderr",
          "text": [
            "Round 2: 100%|██████████| 82/82 [00:47<00:00,  1.72it/s]\n"
          ]
        },
        {
          "output_type": "stream",
          "name": "stdout",
          "text": [
            "Processing Round 3/5 comparing synthetic layer_sediments to real sand_dunes...\n"
          ]
        },
        {
          "output_type": "stream",
          "name": "stderr",
          "text": [
            "Round 3: 100%|██████████| 82/82 [00:46<00:00,  1.77it/s]\n"
          ]
        },
        {
          "output_type": "stream",
          "name": "stdout",
          "text": [
            "Processing Round 4/5 comparing synthetic layer_sediments to real sand_dunes...\n"
          ]
        },
        {
          "output_type": "stream",
          "name": "stderr",
          "text": [
            "Round 4: 100%|██████████| 82/82 [00:44<00:00,  1.85it/s]\n"
          ]
        },
        {
          "output_type": "stream",
          "name": "stdout",
          "text": [
            "Processing Round 5/5 comparing synthetic layer_sediments to real sand_dunes...\n"
          ]
        },
        {
          "output_type": "stream",
          "name": "stderr",
          "text": [
            "Round 5: 100%|██████████| 82/82 [00:38<00:00,  2.13it/s]\n"
          ]
        },
        {
          "output_type": "stream",
          "name": "stdout",
          "text": [
            "Combined plots saved to /content/drive/My Drive/mars_images/synth_layer_sediments_vs_real_sand_dunes_metric_sensitivity.png\n",
            "Evaluating synthetic class 'rock_fields' against real class 'sand_dunes'...\n",
            "Processing Round 1/5 comparing synthetic rock_fields to real sand_dunes...\n"
          ]
        },
        {
          "output_type": "stream",
          "name": "stderr",
          "text": [
            "Round 1: 100%|██████████| 120/120 [00:52<00:00,  2.28it/s]\n"
          ]
        },
        {
          "output_type": "stream",
          "name": "stdout",
          "text": [
            "Processing Round 2/5 comparing synthetic rock_fields to real sand_dunes...\n"
          ]
        },
        {
          "output_type": "stream",
          "name": "stderr",
          "text": [
            "Round 2: 100%|██████████| 120/120 [00:59<00:00,  2.01it/s]\n"
          ]
        },
        {
          "output_type": "stream",
          "name": "stdout",
          "text": [
            "Processing Round 3/5 comparing synthetic rock_fields to real sand_dunes...\n"
          ]
        },
        {
          "output_type": "stream",
          "name": "stderr",
          "text": [
            "Round 3: 100%|██████████| 120/120 [01:01<00:00,  1.95it/s]\n"
          ]
        },
        {
          "output_type": "stream",
          "name": "stdout",
          "text": [
            "Processing Round 4/5 comparing synthetic rock_fields to real sand_dunes...\n"
          ]
        },
        {
          "output_type": "stream",
          "name": "stderr",
          "text": [
            "Round 4: 100%|██████████| 120/120 [00:55<00:00,  2.15it/s]\n"
          ]
        },
        {
          "output_type": "stream",
          "name": "stdout",
          "text": [
            "Processing Round 5/5 comparing synthetic rock_fields to real sand_dunes...\n"
          ]
        },
        {
          "output_type": "stream",
          "name": "stderr",
          "text": [
            "Round 5: 100%|██████████| 120/120 [00:59<00:00,  2.01it/s]\n"
          ]
        },
        {
          "output_type": "stream",
          "name": "stdout",
          "text": [
            "Combined plots saved to /content/drive/My Drive/mars_images/synth_rock_fields_vs_real_sand_dunes_metric_sensitivity.png\n",
            "Evaluating synthetic class 'craters' against real class 'sand_dunes'...\n",
            "Processing Round 1/5 comparing synthetic craters to real sand_dunes...\n"
          ]
        },
        {
          "output_type": "stream",
          "name": "stderr",
          "text": [
            "Round 1: 100%|██████████| 161/161 [01:19<00:00,  2.01it/s]\n"
          ]
        },
        {
          "output_type": "stream",
          "name": "stdout",
          "text": [
            "Processing Round 2/5 comparing synthetic craters to real sand_dunes...\n"
          ]
        },
        {
          "output_type": "stream",
          "name": "stderr",
          "text": [
            "Round 2: 100%|██████████| 161/161 [01:26<00:00,  1.85it/s]\n"
          ]
        },
        {
          "output_type": "stream",
          "name": "stdout",
          "text": [
            "Processing Round 3/5 comparing synthetic craters to real sand_dunes...\n"
          ]
        },
        {
          "output_type": "stream",
          "name": "stderr",
          "text": [
            "Round 3: 100%|██████████| 161/161 [01:26<00:00,  1.86it/s]\n"
          ]
        },
        {
          "output_type": "stream",
          "name": "stdout",
          "text": [
            "Processing Round 4/5 comparing synthetic craters to real sand_dunes...\n"
          ]
        },
        {
          "output_type": "stream",
          "name": "stderr",
          "text": [
            "Round 4: 100%|██████████| 161/161 [01:13<00:00,  2.18it/s]\n"
          ]
        },
        {
          "output_type": "stream",
          "name": "stdout",
          "text": [
            "Processing Round 5/5 comparing synthetic craters to real sand_dunes...\n"
          ]
        },
        {
          "output_type": "stream",
          "name": "stderr",
          "text": [
            "Round 5: 100%|██████████| 161/161 [01:21<00:00,  1.98it/s]\n"
          ]
        },
        {
          "output_type": "stream",
          "name": "stdout",
          "text": [
            "Combined plots saved to /content/drive/My Drive/mars_images/synth_craters_vs_real_sand_dunes_metric_sensitivity.png\n",
            "Evaluating synthetic class 'volcanic_plains_lava_flows' against real class 'sand_dunes'...\n",
            "Processing Round 1/5 comparing synthetic volcanic_plains_lava_flows to real sand_dunes...\n"
          ]
        },
        {
          "output_type": "stream",
          "name": "stderr",
          "text": [
            "Round 1: 100%|██████████| 76/76 [00:36<00:00,  2.06it/s]\n"
          ]
        },
        {
          "output_type": "stream",
          "name": "stdout",
          "text": [
            "Processing Round 2/5 comparing synthetic volcanic_plains_lava_flows to real sand_dunes...\n"
          ]
        },
        {
          "output_type": "stream",
          "name": "stderr",
          "text": [
            "Round 2: 100%|██████████| 76/76 [00:41<00:00,  1.83it/s]\n"
          ]
        },
        {
          "output_type": "stream",
          "name": "stdout",
          "text": [
            "Processing Round 3/5 comparing synthetic volcanic_plains_lava_flows to real sand_dunes...\n"
          ]
        },
        {
          "output_type": "stream",
          "name": "stderr",
          "text": [
            "Round 3: 100%|██████████| 76/76 [00:41<00:00,  1.84it/s]\n"
          ]
        },
        {
          "output_type": "stream",
          "name": "stdout",
          "text": [
            "Processing Round 4/5 comparing synthetic volcanic_plains_lava_flows to real sand_dunes...\n"
          ]
        },
        {
          "output_type": "stream",
          "name": "stderr",
          "text": [
            "Round 4: 100%|██████████| 76/76 [00:35<00:00,  2.15it/s]\n"
          ]
        },
        {
          "output_type": "stream",
          "name": "stdout",
          "text": [
            "Processing Round 5/5 comparing synthetic volcanic_plains_lava_flows to real sand_dunes...\n"
          ]
        },
        {
          "output_type": "stream",
          "name": "stderr",
          "text": [
            "Round 5: 100%|██████████| 76/76 [00:39<00:00,  1.94it/s]\n"
          ]
        },
        {
          "output_type": "stream",
          "name": "stdout",
          "text": [
            "Combined plots saved to /content/drive/My Drive/mars_images/synth_volcanic_plains_lava_flows_vs_real_sand_dunes_metric_sensitivity.png\n",
            "Evaluating synthetic class 'sand_dunes' against real class 'sand_dunes'...\n",
            "Processing Round 1/5 comparing synthetic sand_dunes to real sand_dunes...\n"
          ]
        },
        {
          "output_type": "stream",
          "name": "stderr",
          "text": [
            "Round 1: 100%|██████████| 48/48 [00:22<00:00,  2.17it/s]\n"
          ]
        },
        {
          "output_type": "stream",
          "name": "stdout",
          "text": [
            "Processing Round 2/5 comparing synthetic sand_dunes to real sand_dunes...\n"
          ]
        },
        {
          "output_type": "stream",
          "name": "stderr",
          "text": [
            "Round 2: 100%|██████████| 48/48 [00:25<00:00,  1.87it/s]\n"
          ]
        },
        {
          "output_type": "stream",
          "name": "stdout",
          "text": [
            "Processing Round 3/5 comparing synthetic sand_dunes to real sand_dunes...\n"
          ]
        },
        {
          "output_type": "stream",
          "name": "stderr",
          "text": [
            "Round 3: 100%|██████████| 48/48 [00:24<00:00,  1.93it/s]\n"
          ]
        },
        {
          "output_type": "stream",
          "name": "stdout",
          "text": [
            "Processing Round 4/5 comparing synthetic sand_dunes to real sand_dunes...\n"
          ]
        },
        {
          "output_type": "stream",
          "name": "stderr",
          "text": [
            "Round 4: 100%|██████████| 48/48 [00:21<00:00,  2.24it/s]\n"
          ]
        },
        {
          "output_type": "stream",
          "name": "stdout",
          "text": [
            "Processing Round 5/5 comparing synthetic sand_dunes to real sand_dunes...\n"
          ]
        },
        {
          "output_type": "stream",
          "name": "stderr",
          "text": [
            "Round 5: 100%|██████████| 48/48 [00:24<00:00,  1.98it/s]\n"
          ]
        },
        {
          "output_type": "stream",
          "name": "stdout",
          "text": [
            "Combined plots saved to /content/drive/My Drive/mars_images/synth_sand_dunes_vs_real_sand_dunes_metric_sensitivity.png\n",
            "Evaluating synthetic class 'subsurface_cave' against real class 'sand_dunes'...\n",
            "Processing Round 1/5 comparing synthetic subsurface_cave to real sand_dunes...\n"
          ]
        },
        {
          "output_type": "stream",
          "name": "stderr",
          "text": [
            "Round 1: 100%|██████████| 78/78 [00:37<00:00,  2.08it/s]\n"
          ]
        },
        {
          "output_type": "stream",
          "name": "stdout",
          "text": [
            "Processing Round 2/5 comparing synthetic subsurface_cave to real sand_dunes...\n"
          ]
        },
        {
          "output_type": "stream",
          "name": "stderr",
          "text": [
            "Round 2: 100%|██████████| 78/78 [00:43<00:00,  1.80it/s]\n"
          ]
        },
        {
          "output_type": "stream",
          "name": "stdout",
          "text": [
            "Processing Round 3/5 comparing synthetic subsurface_cave to real sand_dunes...\n"
          ]
        },
        {
          "output_type": "stream",
          "name": "stderr",
          "text": [
            "Round 3: 100%|██████████| 78/78 [00:40<00:00,  1.91it/s]\n"
          ]
        },
        {
          "output_type": "stream",
          "name": "stdout",
          "text": [
            "Processing Round 4/5 comparing synthetic subsurface_cave to real sand_dunes...\n"
          ]
        },
        {
          "output_type": "stream",
          "name": "stderr",
          "text": [
            "Round 4: 100%|██████████| 78/78 [00:34<00:00,  2.28it/s]\n"
          ]
        },
        {
          "output_type": "stream",
          "name": "stdout",
          "text": [
            "Processing Round 5/5 comparing synthetic subsurface_cave to real sand_dunes...\n"
          ]
        },
        {
          "output_type": "stream",
          "name": "stderr",
          "text": [
            "Round 5: 100%|██████████| 78/78 [00:37<00:00,  2.09it/s]\n"
          ]
        },
        {
          "output_type": "stream",
          "name": "stdout",
          "text": [
            "Combined plots saved to /content/drive/My Drive/mars_images/synth_subsurface_cave_vs_real_sand_dunes_metric_sensitivity.png\n",
            "Evaluating synthetic class 'cliffs' against real class 'subsurface_cave'...\n",
            "Processing Round 1/5 comparing synthetic cliffs to real subsurface_cave...\n"
          ]
        },
        {
          "output_type": "stream",
          "name": "stderr",
          "text": [
            "Round 1: 100%|██████████| 54/54 [00:13<00:00,  3.98it/s]\n"
          ]
        },
        {
          "output_type": "stream",
          "name": "stdout",
          "text": [
            "Processing Round 2/5 comparing synthetic cliffs to real subsurface_cave...\n"
          ]
        },
        {
          "output_type": "stream",
          "name": "stderr",
          "text": [
            "Round 2: 100%|██████████| 54/54 [00:24<00:00,  2.17it/s]\n"
          ]
        },
        {
          "output_type": "stream",
          "name": "stdout",
          "text": [
            "Processing Round 3/5 comparing synthetic cliffs to real subsurface_cave...\n"
          ]
        },
        {
          "output_type": "stream",
          "name": "stderr",
          "text": [
            "Round 3: 100%|██████████| 54/54 [00:21<00:00,  2.56it/s]\n"
          ]
        },
        {
          "output_type": "stream",
          "name": "stdout",
          "text": [
            "Processing Round 4/5 comparing synthetic cliffs to real subsurface_cave...\n"
          ]
        },
        {
          "output_type": "stream",
          "name": "stderr",
          "text": [
            "Round 4: 100%|██████████| 54/54 [00:22<00:00,  2.37it/s]\n"
          ]
        },
        {
          "output_type": "stream",
          "name": "stdout",
          "text": [
            "Processing Round 5/5 comparing synthetic cliffs to real subsurface_cave...\n"
          ]
        },
        {
          "output_type": "stream",
          "name": "stderr",
          "text": [
            "Round 5: 100%|██████████| 54/54 [00:21<00:00,  2.52it/s]\n"
          ]
        },
        {
          "output_type": "stream",
          "name": "stdout",
          "text": [
            "Combined plots saved to /content/drive/My Drive/mars_images/synth_cliffs_vs_real_subsurface_cave_metric_sensitivity.png\n",
            "Evaluating synthetic class 'ridges' against real class 'subsurface_cave'...\n",
            "Processing Round 1/5 comparing synthetic ridges to real subsurface_cave...\n"
          ]
        },
        {
          "output_type": "stream",
          "name": "stderr",
          "text": [
            "Round 1: 100%|██████████| 115/115 [00:29<00:00,  3.96it/s]\n"
          ]
        },
        {
          "output_type": "stream",
          "name": "stdout",
          "text": [
            "Processing Round 2/5 comparing synthetic ridges to real subsurface_cave...\n"
          ]
        },
        {
          "output_type": "stream",
          "name": "stderr",
          "text": [
            "Round 2: 100%|██████████| 115/115 [00:46<00:00,  2.45it/s]\n"
          ]
        },
        {
          "output_type": "stream",
          "name": "stdout",
          "text": [
            "Processing Round 3/5 comparing synthetic ridges to real subsurface_cave...\n"
          ]
        },
        {
          "output_type": "stream",
          "name": "stderr",
          "text": [
            "Round 3: 100%|██████████| 115/115 [00:48<00:00,  2.36it/s]\n"
          ]
        },
        {
          "output_type": "stream",
          "name": "stdout",
          "text": [
            "Processing Round 4/5 comparing synthetic ridges to real subsurface_cave...\n"
          ]
        },
        {
          "output_type": "stream",
          "name": "stderr",
          "text": [
            "Round 4: 100%|██████████| 115/115 [00:47<00:00,  2.42it/s]\n"
          ]
        },
        {
          "output_type": "stream",
          "name": "stdout",
          "text": [
            "Processing Round 5/5 comparing synthetic ridges to real subsurface_cave...\n"
          ]
        },
        {
          "output_type": "stream",
          "name": "stderr",
          "text": [
            "Round 5: 100%|██████████| 115/115 [00:48<00:00,  2.36it/s]\n"
          ]
        },
        {
          "output_type": "stream",
          "name": "stdout",
          "text": [
            "Combined plots saved to /content/drive/My Drive/mars_images/synth_ridges_vs_real_subsurface_cave_metric_sensitivity.png\n",
            "Evaluating synthetic class 'layer_sediments' against real class 'subsurface_cave'...\n",
            "Processing Round 1/5 comparing synthetic layer_sediments to real subsurface_cave...\n"
          ]
        },
        {
          "output_type": "stream",
          "name": "stderr",
          "text": [
            "Round 1: 100%|██████████| 82/82 [00:22<00:00,  3.69it/s]\n"
          ]
        },
        {
          "output_type": "stream",
          "name": "stdout",
          "text": [
            "Processing Round 2/5 comparing synthetic layer_sediments to real subsurface_cave...\n"
          ]
        },
        {
          "output_type": "stream",
          "name": "stderr",
          "text": [
            "Round 2: 100%|██████████| 82/82 [00:34<00:00,  2.38it/s]\n"
          ]
        },
        {
          "output_type": "stream",
          "name": "stdout",
          "text": [
            "Processing Round 3/5 comparing synthetic layer_sediments to real subsurface_cave...\n"
          ]
        },
        {
          "output_type": "stream",
          "name": "stderr",
          "text": [
            "Round 3: 100%|██████████| 82/82 [00:36<00:00,  2.26it/s]\n"
          ]
        },
        {
          "output_type": "stream",
          "name": "stdout",
          "text": [
            "Processing Round 4/5 comparing synthetic layer_sediments to real subsurface_cave...\n"
          ]
        },
        {
          "output_type": "stream",
          "name": "stderr",
          "text": [
            "Round 4: 100%|██████████| 82/82 [00:35<00:00,  2.30it/s]\n"
          ]
        },
        {
          "output_type": "stream",
          "name": "stdout",
          "text": [
            "Processing Round 5/5 comparing synthetic layer_sediments to real subsurface_cave...\n"
          ]
        },
        {
          "output_type": "stream",
          "name": "stderr",
          "text": [
            "Round 5: 100%|██████████| 82/82 [00:34<00:00,  2.38it/s]\n"
          ]
        },
        {
          "output_type": "stream",
          "name": "stdout",
          "text": [
            "Combined plots saved to /content/drive/My Drive/mars_images/synth_layer_sediments_vs_real_subsurface_cave_metric_sensitivity.png\n",
            "Evaluating synthetic class 'rock_fields' against real class 'subsurface_cave'...\n",
            "Processing Round 1/5 comparing synthetic rock_fields to real subsurface_cave...\n"
          ]
        },
        {
          "output_type": "stream",
          "name": "stderr",
          "text": [
            "Round 1: 100%|██████████| 120/120 [00:33<00:00,  3.56it/s]\n"
          ]
        },
        {
          "output_type": "stream",
          "name": "stdout",
          "text": [
            "Processing Round 2/5 comparing synthetic rock_fields to real subsurface_cave...\n"
          ]
        },
        {
          "output_type": "stream",
          "name": "stderr",
          "text": [
            "Round 2: 100%|██████████| 120/120 [00:51<00:00,  2.31it/s]\n"
          ]
        },
        {
          "output_type": "stream",
          "name": "stdout",
          "text": [
            "Processing Round 3/5 comparing synthetic rock_fields to real subsurface_cave...\n"
          ]
        },
        {
          "output_type": "stream",
          "name": "stderr",
          "text": [
            "Round 3: 100%|██████████| 120/120 [00:51<00:00,  2.32it/s]\n"
          ]
        },
        {
          "output_type": "stream",
          "name": "stdout",
          "text": [
            "Processing Round 4/5 comparing synthetic rock_fields to real subsurface_cave...\n"
          ]
        },
        {
          "output_type": "stream",
          "name": "stderr",
          "text": [
            "Round 4: 100%|██████████| 120/120 [00:49<00:00,  2.42it/s]\n"
          ]
        },
        {
          "output_type": "stream",
          "name": "stdout",
          "text": [
            "Processing Round 5/5 comparing synthetic rock_fields to real subsurface_cave...\n"
          ]
        },
        {
          "output_type": "stream",
          "name": "stderr",
          "text": [
            "Round 5: 100%|██████████| 120/120 [00:50<00:00,  2.36it/s]\n"
          ]
        },
        {
          "output_type": "stream",
          "name": "stdout",
          "text": [
            "Combined plots saved to /content/drive/My Drive/mars_images/synth_rock_fields_vs_real_subsurface_cave_metric_sensitivity.png\n",
            "Evaluating synthetic class 'craters' against real class 'subsurface_cave'...\n",
            "Processing Round 1/5 comparing synthetic craters to real subsurface_cave...\n"
          ]
        },
        {
          "output_type": "stream",
          "name": "stderr",
          "text": [
            "Round 1: 100%|██████████| 161/161 [00:42<00:00,  3.76it/s]\n"
          ]
        },
        {
          "output_type": "stream",
          "name": "stdout",
          "text": [
            "Processing Round 2/5 comparing synthetic craters to real subsurface_cave...\n"
          ]
        },
        {
          "output_type": "stream",
          "name": "stderr",
          "text": [
            "Round 2: 100%|██████████| 161/161 [01:05<00:00,  2.46it/s]\n"
          ]
        },
        {
          "output_type": "stream",
          "name": "stdout",
          "text": [
            "Processing Round 3/5 comparing synthetic craters to real subsurface_cave...\n"
          ]
        },
        {
          "output_type": "stream",
          "name": "stderr",
          "text": [
            "Round 3: 100%|██████████| 161/161 [01:07<00:00,  2.40it/s]\n"
          ]
        },
        {
          "output_type": "stream",
          "name": "stdout",
          "text": [
            "Processing Round 4/5 comparing synthetic craters to real subsurface_cave...\n"
          ]
        },
        {
          "output_type": "stream",
          "name": "stderr",
          "text": [
            "Round 4: 100%|██████████| 161/161 [01:07<00:00,  2.39it/s]\n"
          ]
        },
        {
          "output_type": "stream",
          "name": "stdout",
          "text": [
            "Processing Round 5/5 comparing synthetic craters to real subsurface_cave...\n"
          ]
        },
        {
          "output_type": "stream",
          "name": "stderr",
          "text": [
            "Round 5: 100%|██████████| 161/161 [01:07<00:00,  2.40it/s]\n"
          ]
        },
        {
          "output_type": "stream",
          "name": "stdout",
          "text": [
            "Combined plots saved to /content/drive/My Drive/mars_images/synth_craters_vs_real_subsurface_cave_metric_sensitivity.png\n",
            "Evaluating synthetic class 'volcanic_plains_lava_flows' against real class 'subsurface_cave'...\n",
            "Processing Round 1/5 comparing synthetic volcanic_plains_lava_flows to real subsurface_cave...\n"
          ]
        },
        {
          "output_type": "stream",
          "name": "stderr",
          "text": [
            "Round 1: 100%|██████████| 76/76 [00:19<00:00,  3.89it/s]\n"
          ]
        },
        {
          "output_type": "stream",
          "name": "stdout",
          "text": [
            "Processing Round 2/5 comparing synthetic volcanic_plains_lava_flows to real subsurface_cave...\n"
          ]
        },
        {
          "output_type": "stream",
          "name": "stderr",
          "text": [
            "Round 2: 100%|██████████| 76/76 [00:32<00:00,  2.35it/s]\n"
          ]
        },
        {
          "output_type": "stream",
          "name": "stdout",
          "text": [
            "Processing Round 3/5 comparing synthetic volcanic_plains_lava_flows to real subsurface_cave...\n"
          ]
        },
        {
          "output_type": "stream",
          "name": "stderr",
          "text": [
            "Round 3: 100%|██████████| 76/76 [00:33<00:00,  2.29it/s]\n"
          ]
        },
        {
          "output_type": "stream",
          "name": "stdout",
          "text": [
            "Processing Round 4/5 comparing synthetic volcanic_plains_lava_flows to real subsurface_cave...\n"
          ]
        },
        {
          "output_type": "stream",
          "name": "stderr",
          "text": [
            "Round 4: 100%|██████████| 76/76 [00:31<00:00,  2.42it/s]\n"
          ]
        },
        {
          "output_type": "stream",
          "name": "stdout",
          "text": [
            "Processing Round 5/5 comparing synthetic volcanic_plains_lava_flows to real subsurface_cave...\n"
          ]
        },
        {
          "output_type": "stream",
          "name": "stderr",
          "text": [
            "Round 5: 100%|██████████| 76/76 [00:31<00:00,  2.42it/s]\n"
          ]
        },
        {
          "output_type": "stream",
          "name": "stdout",
          "text": [
            "Combined plots saved to /content/drive/My Drive/mars_images/synth_volcanic_plains_lava_flows_vs_real_subsurface_cave_metric_sensitivity.png\n",
            "Evaluating synthetic class 'sand_dunes' against real class 'subsurface_cave'...\n",
            "Processing Round 1/5 comparing synthetic sand_dunes to real subsurface_cave...\n"
          ]
        },
        {
          "output_type": "stream",
          "name": "stderr",
          "text": [
            "Round 1: 100%|██████████| 48/48 [00:12<00:00,  3.88it/s]\n"
          ]
        },
        {
          "output_type": "stream",
          "name": "stdout",
          "text": [
            "Processing Round 2/5 comparing synthetic sand_dunes to real subsurface_cave...\n"
          ]
        },
        {
          "output_type": "stream",
          "name": "stderr",
          "text": [
            "Round 2: 100%|██████████| 48/48 [00:20<00:00,  2.38it/s]\n"
          ]
        },
        {
          "output_type": "stream",
          "name": "stdout",
          "text": [
            "Processing Round 3/5 comparing synthetic sand_dunes to real subsurface_cave...\n"
          ]
        },
        {
          "output_type": "stream",
          "name": "stderr",
          "text": [
            "Round 3: 100%|██████████| 48/48 [00:19<00:00,  2.42it/s]\n"
          ]
        },
        {
          "output_type": "stream",
          "name": "stdout",
          "text": [
            "Processing Round 4/5 comparing synthetic sand_dunes to real subsurface_cave...\n"
          ]
        },
        {
          "output_type": "stream",
          "name": "stderr",
          "text": [
            "Round 4: 100%|██████████| 48/48 [00:19<00:00,  2.51it/s]\n"
          ]
        },
        {
          "output_type": "stream",
          "name": "stdout",
          "text": [
            "Processing Round 5/5 comparing synthetic sand_dunes to real subsurface_cave...\n"
          ]
        },
        {
          "output_type": "stream",
          "name": "stderr",
          "text": [
            "Round 5: 100%|██████████| 48/48 [00:20<00:00,  2.31it/s]\n"
          ]
        },
        {
          "output_type": "stream",
          "name": "stdout",
          "text": [
            "Combined plots saved to /content/drive/My Drive/mars_images/synth_sand_dunes_vs_real_subsurface_cave_metric_sensitivity.png\n",
            "Evaluating synthetic class 'subsurface_cave' against real class 'subsurface_cave'...\n",
            "Processing Round 1/5 comparing synthetic subsurface_cave to real subsurface_cave...\n"
          ]
        },
        {
          "output_type": "stream",
          "name": "stderr",
          "text": [
            "Round 1: 100%|██████████| 78/78 [00:19<00:00,  4.01it/s]\n"
          ]
        },
        {
          "output_type": "stream",
          "name": "stdout",
          "text": [
            "Processing Round 2/5 comparing synthetic subsurface_cave to real subsurface_cave...\n"
          ]
        },
        {
          "output_type": "stream",
          "name": "stderr",
          "text": [
            "Round 2: 100%|██████████| 78/78 [00:32<00:00,  2.42it/s]\n"
          ]
        },
        {
          "output_type": "stream",
          "name": "stdout",
          "text": [
            "Processing Round 3/5 comparing synthetic subsurface_cave to real subsurface_cave...\n"
          ]
        },
        {
          "output_type": "stream",
          "name": "stderr",
          "text": [
            "Round 3: 100%|██████████| 78/78 [00:33<00:00,  2.30it/s]\n"
          ]
        },
        {
          "output_type": "stream",
          "name": "stdout",
          "text": [
            "Processing Round 4/5 comparing synthetic subsurface_cave to real subsurface_cave...\n"
          ]
        },
        {
          "output_type": "stream",
          "name": "stderr",
          "text": [
            "Round 4: 100%|██████████| 78/78 [00:32<00:00,  2.37it/s]\n"
          ]
        },
        {
          "output_type": "stream",
          "name": "stdout",
          "text": [
            "Processing Round 5/5 comparing synthetic subsurface_cave to real subsurface_cave...\n"
          ]
        },
        {
          "output_type": "stream",
          "name": "stderr",
          "text": [
            "Round 5: 100%|██████████| 78/78 [00:33<00:00,  2.36it/s]\n"
          ]
        },
        {
          "output_type": "stream",
          "name": "stdout",
          "text": [
            "Combined plots saved to /content/drive/My Drive/mars_images/synth_subsurface_cave_vs_real_subsurface_cave_metric_sensitivity.png\n"
          ]
        }
      ]
    },
    {
      "cell_type": "code",
      "source": [
        "# # real lava flow vs. sand dunes + subsurface cavities\n",
        "# for real_class in ['volcanic_plains_lava_flows']:\n",
        "#   for synth_class in ['sand_dunes', 'subsurface_cave']:\n",
        "#       print(f\"Evaluating synthetic class '{synth_class}' against real class '{real_class}'...\")\n",
        "\n",
        "#       # Get the metrics specific to the real class\n",
        "#       metrics = metrics_by_class.get(real_class, [])\n",
        "\n",
        "#       # Get real and synthetic images for the respective classes\n",
        "#       real_images = real_images_by_class.get(real_class, [])\n",
        "#       synth_images = synth_images_by_class.get(synth_class, [])\n",
        "\n",
        "#       # Perform metric sensitivity evaluation\n",
        "#       if real_images and synth_images:\n",
        "#           metric_sensitivity(\n",
        "#               real_images=real_images,\n",
        "#               synthetic_image_paths=synth_images,\n",
        "#               metric_functions=metrics,\n",
        "#               synth_class_name=synth_class,\n",
        "#               real_class_name=real_class,\n",
        "#               drive_path='/content'\n",
        "#           )\n",
        "#       else:\n",
        "#           print(f\"Skipping evaluation for '{synth_class}' vs '{real_class}' due to missing images.\")"
      ],
      "metadata": {
        "colab": {
          "base_uri": "https://localhost:8080/"
        },
        "id": "xQnoILRnDpGJ",
        "outputId": "db2a09f4-db40-4240-95ec-268c9c101194"
      },
      "execution_count": 27,
      "outputs": [
        {
          "output_type": "stream",
          "name": "stdout",
          "text": [
            "Evaluating synthetic class 'sand_dunes' against real class 'volcanic_plains_lava_flows'...\n",
            "Processing Round 1/5 comparing synthetic sand_dunes to real volcanic_plains_lava_flows...\n"
          ]
        },
        {
          "output_type": "stream",
          "name": "stderr",
          "text": [
            "Round 1: 100%|██████████| 48/48 [00:29<00:00,  1.63it/s]\n"
          ]
        },
        {
          "output_type": "stream",
          "name": "stdout",
          "text": [
            "Processing Round 2/5 comparing synthetic sand_dunes to real volcanic_plains_lava_flows...\n"
          ]
        },
        {
          "output_type": "stream",
          "name": "stderr",
          "text": [
            "Round 2: 100%|██████████| 48/48 [00:18<00:00,  2.57it/s]\n"
          ]
        },
        {
          "output_type": "stream",
          "name": "stdout",
          "text": [
            "Processing Round 3/5 comparing synthetic sand_dunes to real volcanic_plains_lava_flows...\n"
          ]
        },
        {
          "output_type": "stream",
          "name": "stderr",
          "text": [
            "Round 3: 100%|██████████| 48/48 [00:21<00:00,  2.24it/s]\n"
          ]
        },
        {
          "output_type": "stream",
          "name": "stdout",
          "text": [
            "Processing Round 4/5 comparing synthetic sand_dunes to real volcanic_plains_lava_flows...\n"
          ]
        },
        {
          "output_type": "stream",
          "name": "stderr",
          "text": [
            "Round 4: 100%|██████████| 48/48 [00:21<00:00,  2.27it/s]\n"
          ]
        },
        {
          "output_type": "stream",
          "name": "stdout",
          "text": [
            "Processing Round 5/5 comparing synthetic sand_dunes to real volcanic_plains_lava_flows...\n"
          ]
        },
        {
          "output_type": "stream",
          "name": "stderr",
          "text": [
            "Round 5: 100%|██████████| 48/48 [00:25<00:00,  1.89it/s]\n"
          ]
        },
        {
          "output_type": "stream",
          "name": "stdout",
          "text": [
            "Combined plots saved to /content/synth_sand_dunes_vs_real_volcanic_plains_lava_flows_metric_sensitivity.png\n",
            "Evaluating synthetic class 'subsurface_cave' against real class 'volcanic_plains_lava_flows'...\n",
            "Processing Round 1/5 comparing synthetic subsurface_cave to real volcanic_plains_lava_flows...\n"
          ]
        },
        {
          "output_type": "stream",
          "name": "stderr",
          "text": [
            "Round 1: 100%|██████████| 78/78 [00:45<00:00,  1.73it/s]\n"
          ]
        },
        {
          "output_type": "stream",
          "name": "stdout",
          "text": [
            "Processing Round 2/5 comparing synthetic subsurface_cave to real volcanic_plains_lava_flows...\n"
          ]
        },
        {
          "output_type": "stream",
          "name": "stderr",
          "text": [
            "Round 2: 100%|██████████| 78/78 [00:30<00:00,  2.57it/s]\n"
          ]
        },
        {
          "output_type": "stream",
          "name": "stdout",
          "text": [
            "Processing Round 3/5 comparing synthetic subsurface_cave to real volcanic_plains_lava_flows...\n"
          ]
        },
        {
          "output_type": "stream",
          "name": "stderr",
          "text": [
            "Round 3: 100%|██████████| 78/78 [00:34<00:00,  2.27it/s]\n"
          ]
        },
        {
          "output_type": "stream",
          "name": "stdout",
          "text": [
            "Processing Round 4/5 comparing synthetic subsurface_cave to real volcanic_plains_lava_flows...\n"
          ]
        },
        {
          "output_type": "stream",
          "name": "stderr",
          "text": [
            "Round 4: 100%|██████████| 78/78 [00:29<00:00,  2.65it/s]\n"
          ]
        },
        {
          "output_type": "stream",
          "name": "stdout",
          "text": [
            "Processing Round 5/5 comparing synthetic subsurface_cave to real volcanic_plains_lava_flows...\n"
          ]
        },
        {
          "output_type": "stream",
          "name": "stderr",
          "text": [
            "Round 5: 100%|██████████| 78/78 [00:43<00:00,  1.81it/s]\n"
          ]
        },
        {
          "output_type": "stream",
          "name": "stdout",
          "text": [
            "Combined plots saved to /content/synth_subsurface_cave_vs_real_volcanic_plains_lava_flows_metric_sensitivity.png\n"
          ]
        }
      ]
    },
    {
      "cell_type": "code",
      "source": [
        "# # real sand dunes + all the other synthetic image classes\n",
        "# for real_class in ['sand_dunes', 'subsurface_cave']:\n",
        "#   for synth_class in classes:\n",
        "#       print(f\"Evaluating synthetic class '{synth_class}' against real class '{real_class}'...\")\n",
        "\n",
        "#       # Get the metrics specific to the real class\n",
        "#       metrics = metrics_by_class.get(real_class, [])\n",
        "\n",
        "#       # Get real and synthetic images for the respective classes\n",
        "#       real_images = real_images_by_class.get(real_class, [])\n",
        "#       synth_images = synth_images_by_class.get(synth_class, [])\n",
        "\n",
        "#       # Perform metric sensitivity evaluation\n",
        "#       if real_images and synth_images:\n",
        "#           metric_sensitivity(\n",
        "#               real_images=real_images,\n",
        "#               synthetic_image_paths=synth_images,\n",
        "#               metric_functions=metrics,\n",
        "#               synth_class_name=synth_class,\n",
        "#               real_class_name=real_class,\n",
        "#               drive_path='/content'\n",
        "#           )\n",
        "#       else:\n",
        "#           print(f\"Skipping evaluation for '{synth_class}' vs '{real_class}' due to missing images.\")"
      ],
      "metadata": {
        "colab": {
          "base_uri": "https://localhost:8080/"
        },
        "id": "-2ZxgPB1EzQA",
        "outputId": "8da401d5-8453-482a-8a19-40afec94abec"
      },
      "execution_count": 29,
      "outputs": [
        {
          "output_type": "stream",
          "name": "stdout",
          "text": [
            "Evaluating synthetic class 'cliffs' against real class 'sand_dunes'...\n",
            "Processing Round 1/5 comparing synthetic cliffs to real sand_dunes...\n"
          ]
        },
        {
          "output_type": "stream",
          "name": "stderr",
          "text": [
            "Round 1: 100%|██████████| 54/54 [00:25<00:00,  2.10it/s]\n"
          ]
        },
        {
          "output_type": "stream",
          "name": "stdout",
          "text": [
            "Processing Round 2/5 comparing synthetic cliffs to real sand_dunes...\n"
          ]
        },
        {
          "output_type": "stream",
          "name": "stderr",
          "text": [
            "Round 2: 100%|██████████| 54/54 [00:27<00:00,  1.93it/s]\n"
          ]
        },
        {
          "output_type": "stream",
          "name": "stdout",
          "text": [
            "Processing Round 3/5 comparing synthetic cliffs to real sand_dunes...\n"
          ]
        },
        {
          "output_type": "stream",
          "name": "stderr",
          "text": [
            "Round 3: 100%|██████████| 54/54 [00:29<00:00,  1.84it/s]\n"
          ]
        },
        {
          "output_type": "stream",
          "name": "stdout",
          "text": [
            "Processing Round 4/5 comparing synthetic cliffs to real sand_dunes...\n"
          ]
        },
        {
          "output_type": "stream",
          "name": "stderr",
          "text": [
            "Round 4: 100%|██████████| 54/54 [00:23<00:00,  2.26it/s]\n"
          ]
        },
        {
          "output_type": "stream",
          "name": "stdout",
          "text": [
            "Processing Round 5/5 comparing synthetic cliffs to real sand_dunes...\n"
          ]
        },
        {
          "output_type": "stream",
          "name": "stderr",
          "text": [
            "Round 5: 100%|██████████| 54/54 [00:26<00:00,  2.04it/s]\n"
          ]
        },
        {
          "output_type": "stream",
          "name": "stdout",
          "text": [
            "Combined plots saved to /content/synth_cliffs_vs_real_sand_dunes_metric_sensitivity.png\n",
            "Evaluating synthetic class 'ridges' against real class 'sand_dunes'...\n",
            "Processing Round 1/5 comparing synthetic ridges to real sand_dunes...\n"
          ]
        },
        {
          "output_type": "stream",
          "name": "stderr",
          "text": [
            "Round 1: 100%|██████████| 115/115 [00:51<00:00,  2.24it/s]\n"
          ]
        },
        {
          "output_type": "stream",
          "name": "stdout",
          "text": [
            "Processing Round 2/5 comparing synthetic ridges to real sand_dunes...\n"
          ]
        },
        {
          "output_type": "stream",
          "name": "stderr",
          "text": [
            "Round 2: 100%|██████████| 115/115 [01:00<00:00,  1.91it/s]\n"
          ]
        },
        {
          "output_type": "stream",
          "name": "stdout",
          "text": [
            "Processing Round 3/5 comparing synthetic ridges to real sand_dunes...\n"
          ]
        },
        {
          "output_type": "stream",
          "name": "stderr",
          "text": [
            "Round 3: 100%|██████████| 115/115 [00:57<00:00,  2.00it/s]\n"
          ]
        },
        {
          "output_type": "stream",
          "name": "stdout",
          "text": [
            "Processing Round 4/5 comparing synthetic ridges to real sand_dunes...\n"
          ]
        },
        {
          "output_type": "stream",
          "name": "stderr",
          "text": [
            "Round 4: 100%|██████████| 115/115 [00:54<00:00,  2.11it/s]\n"
          ]
        },
        {
          "output_type": "stream",
          "name": "stdout",
          "text": [
            "Processing Round 5/5 comparing synthetic ridges to real sand_dunes...\n"
          ]
        },
        {
          "output_type": "stream",
          "name": "stderr",
          "text": [
            "Round 5: 100%|██████████| 115/115 [00:56<00:00,  2.02it/s]\n"
          ]
        },
        {
          "output_type": "stream",
          "name": "stdout",
          "text": [
            "Combined plots saved to /content/synth_ridges_vs_real_sand_dunes_metric_sensitivity.png\n",
            "Evaluating synthetic class 'layer_sediments' against real class 'sand_dunes'...\n",
            "Processing Round 1/5 comparing synthetic layer_sediments to real sand_dunes...\n"
          ]
        },
        {
          "output_type": "stream",
          "name": "stderr",
          "text": [
            "Round 1: 100%|██████████| 82/82 [00:35<00:00,  2.29it/s]\n"
          ]
        },
        {
          "output_type": "stream",
          "name": "stdout",
          "text": [
            "Processing Round 2/5 comparing synthetic layer_sediments to real sand_dunes...\n"
          ]
        },
        {
          "output_type": "stream",
          "name": "stderr",
          "text": [
            "Round 2: 100%|██████████| 82/82 [00:41<00:00,  1.97it/s]\n"
          ]
        },
        {
          "output_type": "stream",
          "name": "stdout",
          "text": [
            "Processing Round 3/5 comparing synthetic layer_sediments to real sand_dunes...\n"
          ]
        },
        {
          "output_type": "stream",
          "name": "stderr",
          "text": [
            "Round 3: 100%|██████████| 82/82 [00:41<00:00,  1.97it/s]\n"
          ]
        },
        {
          "output_type": "stream",
          "name": "stdout",
          "text": [
            "Processing Round 4/5 comparing synthetic layer_sediments to real sand_dunes...\n"
          ]
        },
        {
          "output_type": "stream",
          "name": "stderr",
          "text": [
            "Round 4: 100%|██████████| 82/82 [00:38<00:00,  2.13it/s]\n"
          ]
        },
        {
          "output_type": "stream",
          "name": "stdout",
          "text": [
            "Processing Round 5/5 comparing synthetic layer_sediments to real sand_dunes...\n"
          ]
        },
        {
          "output_type": "stream",
          "name": "stderr",
          "text": [
            "Round 5: 100%|██████████| 82/82 [00:37<00:00,  2.17it/s]\n"
          ]
        },
        {
          "output_type": "stream",
          "name": "stdout",
          "text": [
            "Combined plots saved to /content/synth_layer_sediments_vs_real_sand_dunes_metric_sensitivity.png\n",
            "Evaluating synthetic class 'rock_fields' against real class 'sand_dunes'...\n",
            "Processing Round 1/5 comparing synthetic rock_fields to real sand_dunes...\n"
          ]
        },
        {
          "output_type": "stream",
          "name": "stderr",
          "text": [
            "Round 1: 100%|██████████| 120/120 [00:52<00:00,  2.30it/s]\n"
          ]
        },
        {
          "output_type": "stream",
          "name": "stdout",
          "text": [
            "Processing Round 2/5 comparing synthetic rock_fields to real sand_dunes...\n"
          ]
        },
        {
          "output_type": "stream",
          "name": "stderr",
          "text": [
            "Round 2: 100%|██████████| 120/120 [00:59<00:00,  2.03it/s]\n"
          ]
        },
        {
          "output_type": "stream",
          "name": "stdout",
          "text": [
            "Processing Round 3/5 comparing synthetic rock_fields to real sand_dunes...\n"
          ]
        },
        {
          "output_type": "stream",
          "name": "stderr",
          "text": [
            "Round 3: 100%|██████████| 120/120 [00:58<00:00,  2.07it/s]\n"
          ]
        },
        {
          "output_type": "stream",
          "name": "stdout",
          "text": [
            "Processing Round 4/5 comparing synthetic rock_fields to real sand_dunes...\n"
          ]
        },
        {
          "output_type": "stream",
          "name": "stderr",
          "text": [
            "Round 4: 100%|██████████| 120/120 [00:56<00:00,  2.14it/s]\n"
          ]
        },
        {
          "output_type": "stream",
          "name": "stdout",
          "text": [
            "Processing Round 5/5 comparing synthetic rock_fields to real sand_dunes...\n"
          ]
        },
        {
          "output_type": "stream",
          "name": "stderr",
          "text": [
            "Round 5: 100%|██████████| 120/120 [00:56<00:00,  2.12it/s]\n"
          ]
        },
        {
          "output_type": "stream",
          "name": "stdout",
          "text": [
            "Combined plots saved to /content/synth_rock_fields_vs_real_sand_dunes_metric_sensitivity.png\n",
            "Evaluating synthetic class 'craters' against real class 'sand_dunes'...\n",
            "Processing Round 1/5 comparing synthetic craters to real sand_dunes...\n"
          ]
        },
        {
          "output_type": "stream",
          "name": "stderr",
          "text": [
            "Round 1: 100%|██████████| 161/161 [01:17<00:00,  2.09it/s]\n"
          ]
        },
        {
          "output_type": "stream",
          "name": "stdout",
          "text": [
            "Processing Round 2/5 comparing synthetic craters to real sand_dunes...\n"
          ]
        },
        {
          "output_type": "stream",
          "name": "stderr",
          "text": [
            "Round 2: 100%|██████████| 161/161 [01:26<00:00,  1.86it/s]\n"
          ]
        },
        {
          "output_type": "stream",
          "name": "stdout",
          "text": [
            "Processing Round 3/5 comparing synthetic craters to real sand_dunes...\n"
          ]
        },
        {
          "output_type": "stream",
          "name": "stderr",
          "text": [
            "Round 3: 100%|██████████| 161/161 [01:26<00:00,  1.85it/s]\n"
          ]
        },
        {
          "output_type": "stream",
          "name": "stdout",
          "text": [
            "Processing Round 4/5 comparing synthetic craters to real sand_dunes...\n"
          ]
        },
        {
          "output_type": "stream",
          "name": "stderr",
          "text": [
            "Round 4: 100%|██████████| 161/161 [01:13<00:00,  2.19it/s]\n"
          ]
        },
        {
          "output_type": "stream",
          "name": "stdout",
          "text": [
            "Processing Round 5/5 comparing synthetic craters to real sand_dunes...\n"
          ]
        },
        {
          "output_type": "stream",
          "name": "stderr",
          "text": [
            "Round 5: 100%|██████████| 161/161 [01:19<00:00,  2.04it/s]\n"
          ]
        },
        {
          "output_type": "stream",
          "name": "stdout",
          "text": [
            "Combined plots saved to /content/synth_craters_vs_real_sand_dunes_metric_sensitivity.png\n",
            "Evaluating synthetic class 'volcanic_plains_lava_flows' against real class 'sand_dunes'...\n",
            "Processing Round 1/5 comparing synthetic volcanic_plains_lava_flows to real sand_dunes...\n"
          ]
        },
        {
          "output_type": "stream",
          "name": "stderr",
          "text": [
            "Round 1: 100%|██████████| 76/76 [00:35<00:00,  2.13it/s]\n"
          ]
        },
        {
          "output_type": "stream",
          "name": "stdout",
          "text": [
            "Processing Round 2/5 comparing synthetic volcanic_plains_lava_flows to real sand_dunes...\n"
          ]
        },
        {
          "output_type": "stream",
          "name": "stderr",
          "text": [
            "Round 2: 100%|██████████| 76/76 [00:41<00:00,  1.84it/s]\n"
          ]
        },
        {
          "output_type": "stream",
          "name": "stdout",
          "text": [
            "Processing Round 3/5 comparing synthetic volcanic_plains_lava_flows to real sand_dunes...\n"
          ]
        },
        {
          "output_type": "stream",
          "name": "stderr",
          "text": [
            "Round 3: 100%|██████████| 76/76 [00:36<00:00,  2.07it/s]\n"
          ]
        },
        {
          "output_type": "stream",
          "name": "stdout",
          "text": [
            "Processing Round 4/5 comparing synthetic volcanic_plains_lava_flows to real sand_dunes...\n"
          ]
        },
        {
          "output_type": "stream",
          "name": "stderr",
          "text": [
            "Round 4: 100%|██████████| 76/76 [00:31<00:00,  2.38it/s]\n"
          ]
        },
        {
          "output_type": "stream",
          "name": "stdout",
          "text": [
            "Processing Round 5/5 comparing synthetic volcanic_plains_lava_flows to real sand_dunes...\n"
          ]
        },
        {
          "output_type": "stream",
          "name": "stderr",
          "text": [
            "Round 5: 100%|██████████| 76/76 [00:36<00:00,  2.10it/s]\n"
          ]
        },
        {
          "output_type": "stream",
          "name": "stdout",
          "text": [
            "Combined plots saved to /content/synth_volcanic_plains_lava_flows_vs_real_sand_dunes_metric_sensitivity.png\n",
            "Evaluating synthetic class 'sand_dunes' against real class 'sand_dunes'...\n",
            "Processing Round 1/5 comparing synthetic sand_dunes to real sand_dunes...\n"
          ]
        },
        {
          "output_type": "stream",
          "name": "stderr",
          "text": [
            "Round 1: 100%|██████████| 48/48 [00:22<00:00,  2.14it/s]\n"
          ]
        },
        {
          "output_type": "stream",
          "name": "stdout",
          "text": [
            "Processing Round 2/5 comparing synthetic sand_dunes to real sand_dunes...\n"
          ]
        },
        {
          "output_type": "stream",
          "name": "stderr",
          "text": [
            "Round 2: 100%|██████████| 48/48 [00:24<00:00,  1.93it/s]\n"
          ]
        },
        {
          "output_type": "stream",
          "name": "stdout",
          "text": [
            "Processing Round 3/5 comparing synthetic sand_dunes to real sand_dunes...\n"
          ]
        },
        {
          "output_type": "stream",
          "name": "stderr",
          "text": [
            "Round 3: 100%|██████████| 48/48 [00:23<00:00,  2.02it/s]\n"
          ]
        },
        {
          "output_type": "stream",
          "name": "stdout",
          "text": [
            "Processing Round 4/5 comparing synthetic sand_dunes to real sand_dunes...\n"
          ]
        },
        {
          "output_type": "stream",
          "name": "stderr",
          "text": [
            "Round 4: 100%|██████████| 48/48 [00:20<00:00,  2.35it/s]\n"
          ]
        },
        {
          "output_type": "stream",
          "name": "stdout",
          "text": [
            "Processing Round 5/5 comparing synthetic sand_dunes to real sand_dunes...\n"
          ]
        },
        {
          "output_type": "stream",
          "name": "stderr",
          "text": [
            "Round 5: 100%|██████████| 48/48 [00:23<00:00,  2.07it/s]\n"
          ]
        },
        {
          "output_type": "stream",
          "name": "stdout",
          "text": [
            "Combined plots saved to /content/synth_sand_dunes_vs_real_sand_dunes_metric_sensitivity.png\n",
            "Evaluating synthetic class 'subsurface_cave' against real class 'sand_dunes'...\n",
            "Processing Round 1/5 comparing synthetic subsurface_cave to real sand_dunes...\n"
          ]
        },
        {
          "output_type": "stream",
          "name": "stderr",
          "text": [
            "Round 1: 100%|██████████| 78/78 [00:36<00:00,  2.16it/s]\n"
          ]
        },
        {
          "output_type": "stream",
          "name": "stdout",
          "text": [
            "Processing Round 2/5 comparing synthetic subsurface_cave to real sand_dunes...\n"
          ]
        },
        {
          "output_type": "stream",
          "name": "stderr",
          "text": [
            "Round 2: 100%|██████████| 78/78 [00:40<00:00,  1.91it/s]\n"
          ]
        },
        {
          "output_type": "stream",
          "name": "stdout",
          "text": [
            "Processing Round 3/5 comparing synthetic subsurface_cave to real sand_dunes...\n"
          ]
        },
        {
          "output_type": "stream",
          "name": "stderr",
          "text": [
            "Round 3: 100%|██████████| 78/78 [00:38<00:00,  2.00it/s]\n"
          ]
        },
        {
          "output_type": "stream",
          "name": "stdout",
          "text": [
            "Processing Round 4/5 comparing synthetic subsurface_cave to real sand_dunes...\n"
          ]
        },
        {
          "output_type": "stream",
          "name": "stderr",
          "text": [
            "Round 4: 100%|██████████| 78/78 [00:32<00:00,  2.42it/s]\n"
          ]
        },
        {
          "output_type": "stream",
          "name": "stdout",
          "text": [
            "Processing Round 5/5 comparing synthetic subsurface_cave to real sand_dunes...\n"
          ]
        },
        {
          "output_type": "stream",
          "name": "stderr",
          "text": [
            "Round 5: 100%|██████████| 78/78 [00:36<00:00,  2.16it/s]\n"
          ]
        },
        {
          "output_type": "stream",
          "name": "stdout",
          "text": [
            "Combined plots saved to /content/synth_subsurface_cave_vs_real_sand_dunes_metric_sensitivity.png\n",
            "Evaluating synthetic class 'cliffs' against real class 'subsurface_cave'...\n",
            "Processing Round 1/5 comparing synthetic cliffs to real subsurface_cave...\n"
          ]
        },
        {
          "output_type": "stream",
          "name": "stderr",
          "text": [
            "Round 1: 100%|██████████| 54/54 [00:15<00:00,  3.45it/s]\n"
          ]
        },
        {
          "output_type": "stream",
          "name": "stdout",
          "text": [
            "Processing Round 2/5 comparing synthetic cliffs to real subsurface_cave...\n"
          ]
        },
        {
          "output_type": "stream",
          "name": "stderr",
          "text": [
            "Round 2: 100%|██████████| 54/54 [00:20<00:00,  2.70it/s]\n"
          ]
        },
        {
          "output_type": "stream",
          "name": "stdout",
          "text": [
            "Processing Round 3/5 comparing synthetic cliffs to real subsurface_cave...\n"
          ]
        },
        {
          "output_type": "stream",
          "name": "stderr",
          "text": [
            "Round 3: 100%|██████████| 54/54 [00:21<00:00,  2.48it/s]\n"
          ]
        },
        {
          "output_type": "stream",
          "name": "stdout",
          "text": [
            "Processing Round 4/5 comparing synthetic cliffs to real subsurface_cave...\n"
          ]
        },
        {
          "output_type": "stream",
          "name": "stderr",
          "text": [
            "Round 4: 100%|██████████| 54/54 [00:20<00:00,  2.67it/s]\n"
          ]
        },
        {
          "output_type": "stream",
          "name": "stdout",
          "text": [
            "Processing Round 5/5 comparing synthetic cliffs to real subsurface_cave...\n"
          ]
        },
        {
          "output_type": "stream",
          "name": "stderr",
          "text": [
            "Round 5: 100%|██████████| 54/54 [00:23<00:00,  2.32it/s]\n"
          ]
        },
        {
          "output_type": "stream",
          "name": "stdout",
          "text": [
            "Combined plots saved to /content/synth_cliffs_vs_real_subsurface_cave_metric_sensitivity.png\n",
            "Evaluating synthetic class 'ridges' against real class 'subsurface_cave'...\n",
            "Processing Round 1/5 comparing synthetic ridges to real subsurface_cave...\n"
          ]
        },
        {
          "output_type": "stream",
          "name": "stderr",
          "text": [
            "Round 1: 100%|██████████| 115/115 [00:32<00:00,  3.51it/s]\n"
          ]
        },
        {
          "output_type": "stream",
          "name": "stdout",
          "text": [
            "Processing Round 2/5 comparing synthetic ridges to real subsurface_cave...\n"
          ]
        },
        {
          "output_type": "stream",
          "name": "stderr",
          "text": [
            "Round 2: 100%|██████████| 115/115 [00:46<00:00,  2.48it/s]\n"
          ]
        },
        {
          "output_type": "stream",
          "name": "stdout",
          "text": [
            "Processing Round 3/5 comparing synthetic ridges to real subsurface_cave...\n"
          ]
        },
        {
          "output_type": "stream",
          "name": "stderr",
          "text": [
            "Round 3: 100%|██████████| 115/115 [00:44<00:00,  2.59it/s]\n"
          ]
        },
        {
          "output_type": "stream",
          "name": "stdout",
          "text": [
            "Processing Round 4/5 comparing synthetic ridges to real subsurface_cave...\n"
          ]
        },
        {
          "output_type": "stream",
          "name": "stderr",
          "text": [
            "Round 4: 100%|██████████| 115/115 [00:44<00:00,  2.58it/s]\n"
          ]
        },
        {
          "output_type": "stream",
          "name": "stdout",
          "text": [
            "Processing Round 5/5 comparing synthetic ridges to real subsurface_cave...\n"
          ]
        },
        {
          "output_type": "stream",
          "name": "stderr",
          "text": [
            "Round 5: 100%|██████████| 115/115 [00:45<00:00,  2.51it/s]\n"
          ]
        },
        {
          "output_type": "stream",
          "name": "stdout",
          "text": [
            "Combined plots saved to /content/synth_ridges_vs_real_subsurface_cave_metric_sensitivity.png\n",
            "Evaluating synthetic class 'layer_sediments' against real class 'subsurface_cave'...\n",
            "Processing Round 1/5 comparing synthetic layer_sediments to real subsurface_cave...\n"
          ]
        },
        {
          "output_type": "stream",
          "name": "stderr",
          "text": [
            "Round 1: 100%|██████████| 82/82 [00:21<00:00,  3.87it/s]\n"
          ]
        },
        {
          "output_type": "stream",
          "name": "stdout",
          "text": [
            "Processing Round 2/5 comparing synthetic layer_sediments to real subsurface_cave...\n"
          ]
        },
        {
          "output_type": "stream",
          "name": "stderr",
          "text": [
            "Round 2: 100%|██████████| 82/82 [00:31<00:00,  2.61it/s]\n"
          ]
        },
        {
          "output_type": "stream",
          "name": "stdout",
          "text": [
            "Processing Round 3/5 comparing synthetic layer_sediments to real subsurface_cave...\n"
          ]
        },
        {
          "output_type": "stream",
          "name": "stderr",
          "text": [
            "Round 3: 100%|██████████| 82/82 [00:31<00:00,  2.62it/s]\n"
          ]
        },
        {
          "output_type": "stream",
          "name": "stdout",
          "text": [
            "Processing Round 4/5 comparing synthetic layer_sediments to real subsurface_cave...\n"
          ]
        },
        {
          "output_type": "stream",
          "name": "stderr",
          "text": [
            "Round 4: 100%|██████████| 82/82 [00:33<00:00,  2.46it/s]\n"
          ]
        },
        {
          "output_type": "stream",
          "name": "stdout",
          "text": [
            "Processing Round 5/5 comparing synthetic layer_sediments to real subsurface_cave...\n"
          ]
        },
        {
          "output_type": "stream",
          "name": "stderr",
          "text": [
            "Round 5: 100%|██████████| 82/82 [00:31<00:00,  2.63it/s]\n"
          ]
        },
        {
          "output_type": "stream",
          "name": "stdout",
          "text": [
            "Combined plots saved to /content/synth_layer_sediments_vs_real_subsurface_cave_metric_sensitivity.png\n",
            "Evaluating synthetic class 'rock_fields' against real class 'subsurface_cave'...\n",
            "Processing Round 1/5 comparing synthetic rock_fields to real subsurface_cave...\n"
          ]
        },
        {
          "output_type": "stream",
          "name": "stderr",
          "text": [
            "Round 1: 100%|██████████| 120/120 [00:30<00:00,  3.95it/s]\n"
          ]
        },
        {
          "output_type": "stream",
          "name": "stdout",
          "text": [
            "Processing Round 2/5 comparing synthetic rock_fields to real subsurface_cave...\n"
          ]
        },
        {
          "output_type": "stream",
          "name": "stderr",
          "text": [
            "Round 2: 100%|██████████| 120/120 [00:45<00:00,  2.63it/s]\n"
          ]
        },
        {
          "output_type": "stream",
          "name": "stdout",
          "text": [
            "Processing Round 3/5 comparing synthetic rock_fields to real subsurface_cave...\n"
          ]
        },
        {
          "output_type": "stream",
          "name": "stderr",
          "text": [
            "Round 3: 100%|██████████| 120/120 [00:47<00:00,  2.51it/s]\n"
          ]
        },
        {
          "output_type": "stream",
          "name": "stdout",
          "text": [
            "Processing Round 4/5 comparing synthetic rock_fields to real subsurface_cave...\n"
          ]
        },
        {
          "output_type": "stream",
          "name": "stderr",
          "text": [
            "Round 4: 100%|██████████| 120/120 [00:46<00:00,  2.61it/s]\n"
          ]
        },
        {
          "output_type": "stream",
          "name": "stdout",
          "text": [
            "Processing Round 5/5 comparing synthetic rock_fields to real subsurface_cave...\n"
          ]
        },
        {
          "output_type": "stream",
          "name": "stderr",
          "text": [
            "Round 5: 100%|██████████| 120/120 [00:46<00:00,  2.59it/s]\n"
          ]
        },
        {
          "output_type": "stream",
          "name": "stdout",
          "text": [
            "Combined plots saved to /content/synth_rock_fields_vs_real_subsurface_cave_metric_sensitivity.png\n",
            "Evaluating synthetic class 'craters' against real class 'subsurface_cave'...\n",
            "Processing Round 1/5 comparing synthetic craters to real subsurface_cave...\n"
          ]
        },
        {
          "output_type": "stream",
          "name": "stderr",
          "text": [
            "Round 1: 100%|██████████| 161/161 [00:41<00:00,  3.86it/s]\n"
          ]
        },
        {
          "output_type": "stream",
          "name": "stdout",
          "text": [
            "Processing Round 2/5 comparing synthetic craters to real subsurface_cave...\n"
          ]
        },
        {
          "output_type": "stream",
          "name": "stderr",
          "text": [
            "Round 2: 100%|██████████| 161/161 [01:02<00:00,  2.57it/s]\n"
          ]
        },
        {
          "output_type": "stream",
          "name": "stdout",
          "text": [
            "Processing Round 3/5 comparing synthetic craters to real subsurface_cave...\n"
          ]
        },
        {
          "output_type": "stream",
          "name": "stderr",
          "text": [
            "Round 3: 100%|██████████| 161/161 [01:03<00:00,  2.54it/s]\n"
          ]
        },
        {
          "output_type": "stream",
          "name": "stdout",
          "text": [
            "Processing Round 4/5 comparing synthetic craters to real subsurface_cave...\n"
          ]
        },
        {
          "output_type": "stream",
          "name": "stderr",
          "text": [
            "Round 4: 100%|██████████| 161/161 [01:01<00:00,  2.62it/s]\n"
          ]
        },
        {
          "output_type": "stream",
          "name": "stdout",
          "text": [
            "Processing Round 5/5 comparing synthetic craters to real subsurface_cave...\n"
          ]
        },
        {
          "output_type": "stream",
          "name": "stderr",
          "text": [
            "Round 5: 100%|██████████| 161/161 [01:01<00:00,  2.63it/s]\n"
          ]
        },
        {
          "output_type": "stream",
          "name": "stdout",
          "text": [
            "Combined plots saved to /content/synth_craters_vs_real_subsurface_cave_metric_sensitivity.png\n",
            "Evaluating synthetic class 'volcanic_plains_lava_flows' against real class 'subsurface_cave'...\n",
            "Processing Round 1/5 comparing synthetic volcanic_plains_lava_flows to real subsurface_cave...\n"
          ]
        },
        {
          "output_type": "stream",
          "name": "stderr",
          "text": [
            "Round 1: 100%|██████████| 76/76 [00:20<00:00,  3.67it/s]\n"
          ]
        },
        {
          "output_type": "stream",
          "name": "stdout",
          "text": [
            "Processing Round 2/5 comparing synthetic volcanic_plains_lava_flows to real subsurface_cave...\n"
          ]
        },
        {
          "output_type": "stream",
          "name": "stderr",
          "text": [
            "Round 2: 100%|██████████| 76/76 [00:29<00:00,  2.61it/s]\n"
          ]
        },
        {
          "output_type": "stream",
          "name": "stdout",
          "text": [
            "Processing Round 3/5 comparing synthetic volcanic_plains_lava_flows to real subsurface_cave...\n"
          ]
        },
        {
          "output_type": "stream",
          "name": "stderr",
          "text": [
            "Round 3: 100%|██████████| 76/76 [00:29<00:00,  2.58it/s]\n"
          ]
        },
        {
          "output_type": "stream",
          "name": "stdout",
          "text": [
            "Processing Round 4/5 comparing synthetic volcanic_plains_lava_flows to real subsurface_cave...\n"
          ]
        },
        {
          "output_type": "stream",
          "name": "stderr",
          "text": [
            "Round 4: 100%|██████████| 76/76 [00:29<00:00,  2.59it/s]\n"
          ]
        },
        {
          "output_type": "stream",
          "name": "stdout",
          "text": [
            "Processing Round 5/5 comparing synthetic volcanic_plains_lava_flows to real subsurface_cave...\n"
          ]
        },
        {
          "output_type": "stream",
          "name": "stderr",
          "text": [
            "Round 5: 100%|██████████| 76/76 [00:29<00:00,  2.58it/s]\n"
          ]
        },
        {
          "output_type": "stream",
          "name": "stdout",
          "text": [
            "Combined plots saved to /content/synth_volcanic_plains_lava_flows_vs_real_subsurface_cave_metric_sensitivity.png\n",
            "Evaluating synthetic class 'sand_dunes' against real class 'subsurface_cave'...\n",
            "Processing Round 1/5 comparing synthetic sand_dunes to real subsurface_cave...\n"
          ]
        },
        {
          "output_type": "stream",
          "name": "stderr",
          "text": [
            "Round 1: 100%|██████████| 48/48 [00:13<00:00,  3.56it/s]\n"
          ]
        },
        {
          "output_type": "stream",
          "name": "stdout",
          "text": [
            "Processing Round 2/5 comparing synthetic sand_dunes to real subsurface_cave...\n"
          ]
        },
        {
          "output_type": "stream",
          "name": "stderr",
          "text": [
            "Round 2: 100%|██████████| 48/48 [00:17<00:00,  2.68it/s]\n"
          ]
        },
        {
          "output_type": "stream",
          "name": "stdout",
          "text": [
            "Processing Round 3/5 comparing synthetic sand_dunes to real subsurface_cave...\n"
          ]
        },
        {
          "output_type": "stream",
          "name": "stderr",
          "text": [
            "Round 3: 100%|██████████| 48/48 [00:19<00:00,  2.46it/s]\n"
          ]
        },
        {
          "output_type": "stream",
          "name": "stdout",
          "text": [
            "Processing Round 4/5 comparing synthetic sand_dunes to real subsurface_cave...\n"
          ]
        },
        {
          "output_type": "stream",
          "name": "stderr",
          "text": [
            "Round 4: 100%|██████████| 48/48 [00:18<00:00,  2.63it/s]\n"
          ]
        },
        {
          "output_type": "stream",
          "name": "stdout",
          "text": [
            "Processing Round 5/5 comparing synthetic sand_dunes to real subsurface_cave...\n"
          ]
        },
        {
          "output_type": "stream",
          "name": "stderr",
          "text": [
            "Round 5: 100%|██████████| 48/48 [00:18<00:00,  2.66it/s]\n"
          ]
        },
        {
          "output_type": "stream",
          "name": "stdout",
          "text": [
            "Combined plots saved to /content/synth_sand_dunes_vs_real_subsurface_cave_metric_sensitivity.png\n",
            "Evaluating synthetic class 'subsurface_cave' against real class 'subsurface_cave'...\n",
            "Processing Round 1/5 comparing synthetic subsurface_cave to real subsurface_cave...\n"
          ]
        },
        {
          "output_type": "stream",
          "name": "stderr",
          "text": [
            "Round 1: 100%|██████████| 78/78 [00:20<00:00,  3.86it/s]\n"
          ]
        },
        {
          "output_type": "stream",
          "name": "stdout",
          "text": [
            "Processing Round 2/5 comparing synthetic subsurface_cave to real subsurface_cave...\n"
          ]
        },
        {
          "output_type": "stream",
          "name": "stderr",
          "text": [
            "Round 2: 100%|██████████| 78/78 [00:32<00:00,  2.44it/s]\n"
          ]
        },
        {
          "output_type": "stream",
          "name": "stdout",
          "text": [
            "Processing Round 3/5 comparing synthetic subsurface_cave to real subsurface_cave...\n"
          ]
        },
        {
          "output_type": "stream",
          "name": "stderr",
          "text": [
            "Round 3: 100%|██████████| 78/78 [00:30<00:00,  2.58it/s]\n"
          ]
        },
        {
          "output_type": "stream",
          "name": "stdout",
          "text": [
            "Processing Round 4/5 comparing synthetic subsurface_cave to real subsurface_cave...\n"
          ]
        },
        {
          "output_type": "stream",
          "name": "stderr",
          "text": [
            "Round 4: 100%|██████████| 78/78 [00:29<00:00,  2.61it/s]\n"
          ]
        },
        {
          "output_type": "stream",
          "name": "stdout",
          "text": [
            "Processing Round 5/5 comparing synthetic subsurface_cave to real subsurface_cave...\n"
          ]
        },
        {
          "output_type": "stream",
          "name": "stderr",
          "text": [
            "Round 5: 100%|██████████| 78/78 [00:29<00:00,  2.62it/s]\n"
          ]
        },
        {
          "output_type": "stream",
          "name": "stdout",
          "text": [
            "Combined plots saved to /content/synth_subsurface_cave_vs_real_subsurface_cave_metric_sensitivity.png\n"
          ]
        }
      ]
    },
    {
      "cell_type": "markdown",
      "source": [],
      "metadata": {
        "id": "JhJLOyQi0nbl"
      }
    }
  ]
}